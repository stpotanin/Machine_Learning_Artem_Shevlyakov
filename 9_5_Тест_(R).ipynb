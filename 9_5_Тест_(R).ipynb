{
  "nbformat": 4,
  "nbformat_minor": 0,
  "metadata": {
    "colab": {
      "provenance": []
    },
    "kernelspec": {
      "name": "ir",
      "display_name": "R"
    },
    "language_info": {
      "name": "R"
    }
  },
  "cells": [
    {
      "cell_type": "markdown",
      "source": [
        "## Задача 9.5.1\n",
        "https://stepik.org/lesson/83973/step/1\n",
        "\n",
        "Заполните пропуски\n",
        "\n",
        "А={выпало нечетное число} равна `____`\n",
        " (ответ округлить до двух знаков после запятой).\n",
        "\n",
        " В={выпало число строго больше 4} равна `____`\n",
        " (ответ округлить до двух знаков после запятой).\n",
        "\n",
        " С={выпало число не меньше 2} равна `____`\n",
        " (ответ округлить до двух знаков после запятой).\n",
        "\n",
        " Условные вероятности равны Pr(A|B)= `____`\n",
        "\n",
        " Pr(B|A)= `____`\n",
        "\n",
        " Pr(A|C)= `____`\n",
        "\n",
        " Pr(C|A)= `____`\n"
      ],
      "metadata": {
        "id": "IrUcMAWhy7lV"
      }
    },
    {
      "cell_type": "code",
      "source": [
        "prob <- function(x){\n",
        "    p <- sum(x) / length(x)\n",
        "    return (p)\n",
        "    }\n",
        "\n",
        "cond_prob <- function(x1, x2){\n",
        "    df <- data.frame(cbind(x1, x2))\n",
        "    v <- df$x1[df$x2 == 1]\n",
        "    n <- length(v)\n",
        "    s <- sum(v)\n",
        "    return (s / n)\n",
        "    }\n",
        "\n",
        "dice <- rbind('1' = c(0, 1, 0, 0),\n",
        "              '2' = c(1, 0, 0, 1),\n",
        "              '3' = c(0, 1, 0, 1),\n",
        "              '4' = c(1, 0, 0, 1),\n",
        "              '5' = c(0, 1, 1, 1),\n",
        "              '6' = c(1, 0, 1, 1)\n",
        "              )\n",
        "\n",
        "dice <- data.frame(dice)\n",
        "colnames(dice) <- c('even', 'odd', 'more_than_four', 'more_than_one')\n",
        "dice\n",
        "\n",
        "cat('Ответы: \\n')\n",
        "round(prob(dice[, 'odd']), 2)\n",
        "round(prob(dice[, 'more_than_four']), 2)\n",
        "round(prob(dice[, 'more_than_one']), 2)\n",
        "round(cond_prob(dice[, 'odd'], dice[, 'more_than_four']), 2)\n",
        "round(cond_prob(dice[, 'more_than_four'], dice[, 'odd']), 2)\n",
        "round(cond_prob(dice[, 'odd'], dice[, 'more_than_one']), 2)\n",
        "round(cond_prob(dice[, 'more_than_one'], dice[, 'odd']), 2)"
      ],
      "metadata": {
        "colab": {
          "base_uri": "https://localhost:8080/",
          "height": 425
        },
        "id": "aJ96hLjH8mZK",
        "outputId": "59a68257-2d3e-44b0-8cce-3bfb08c5cae2"
      },
      "execution_count": null,
      "outputs": [
        {
          "output_type": "display_data",
          "data": {
            "text/html": [
              "<table class=\"dataframe\">\n",
              "<caption>A data.frame: 6 × 4</caption>\n",
              "<thead>\n",
              "\t<tr><th></th><th scope=col>even</th><th scope=col>odd</th><th scope=col>more_than_four</th><th scope=col>more_than_one</th></tr>\n",
              "\t<tr><th></th><th scope=col>&lt;dbl&gt;</th><th scope=col>&lt;dbl&gt;</th><th scope=col>&lt;dbl&gt;</th><th scope=col>&lt;dbl&gt;</th></tr>\n",
              "</thead>\n",
              "<tbody>\n",
              "\t<tr><th scope=row>1</th><td>0</td><td>1</td><td>0</td><td>0</td></tr>\n",
              "\t<tr><th scope=row>2</th><td>1</td><td>0</td><td>0</td><td>1</td></tr>\n",
              "\t<tr><th scope=row>3</th><td>0</td><td>1</td><td>0</td><td>1</td></tr>\n",
              "\t<tr><th scope=row>4</th><td>1</td><td>0</td><td>0</td><td>1</td></tr>\n",
              "\t<tr><th scope=row>5</th><td>0</td><td>1</td><td>1</td><td>1</td></tr>\n",
              "\t<tr><th scope=row>6</th><td>1</td><td>0</td><td>1</td><td>1</td></tr>\n",
              "</tbody>\n",
              "</table>\n"
            ],
            "text/markdown": "\nA data.frame: 6 × 4\n\n| <!--/--> | even &lt;dbl&gt; | odd &lt;dbl&gt; | more_than_four &lt;dbl&gt; | more_than_one &lt;dbl&gt; |\n|---|---|---|---|---|\n| 1 | 0 | 1 | 0 | 0 |\n| 2 | 1 | 0 | 0 | 1 |\n| 3 | 0 | 1 | 0 | 1 |\n| 4 | 1 | 0 | 0 | 1 |\n| 5 | 0 | 1 | 1 | 1 |\n| 6 | 1 | 0 | 1 | 1 |\n\n",
            "text/latex": "A data.frame: 6 × 4\n\\begin{tabular}{r|llll}\n  & even & odd & more\\_than\\_four & more\\_than\\_one\\\\\n  & <dbl> & <dbl> & <dbl> & <dbl>\\\\\n\\hline\n\t1 & 0 & 1 & 0 & 0\\\\\n\t2 & 1 & 0 & 0 & 1\\\\\n\t3 & 0 & 1 & 0 & 1\\\\\n\t4 & 1 & 0 & 0 & 1\\\\\n\t5 & 0 & 1 & 1 & 1\\\\\n\t6 & 1 & 0 & 1 & 1\\\\\n\\end{tabular}\n",
            "text/plain": [
              "  even odd more_than_four more_than_one\n",
              "1 0    1   0              0            \n",
              "2 1    0   0              1            \n",
              "3 0    1   0              1            \n",
              "4 1    0   0              1            \n",
              "5 0    1   1              1            \n",
              "6 1    0   1              1            "
            ]
          },
          "metadata": {}
        },
        {
          "output_type": "stream",
          "name": "stdout",
          "text": [
            "Ответы: \n"
          ]
        },
        {
          "output_type": "display_data",
          "data": {
            "text/html": [
              "0.5"
            ],
            "text/markdown": "0.5",
            "text/latex": "0.5",
            "text/plain": [
              "[1] 0.5"
            ]
          },
          "metadata": {}
        },
        {
          "output_type": "display_data",
          "data": {
            "text/html": [
              "0.33"
            ],
            "text/markdown": "0.33",
            "text/latex": "0.33",
            "text/plain": [
              "[1] 0.33"
            ]
          },
          "metadata": {}
        },
        {
          "output_type": "display_data",
          "data": {
            "text/html": [
              "0.83"
            ],
            "text/markdown": "0.83",
            "text/latex": "0.83",
            "text/plain": [
              "[1] 0.83"
            ]
          },
          "metadata": {}
        },
        {
          "output_type": "display_data",
          "data": {
            "text/html": [
              "0.5"
            ],
            "text/markdown": "0.5",
            "text/latex": "0.5",
            "text/plain": [
              "[1] 0.5"
            ]
          },
          "metadata": {}
        },
        {
          "output_type": "display_data",
          "data": {
            "text/html": [
              "0.33"
            ],
            "text/markdown": "0.33",
            "text/latex": "0.33",
            "text/plain": [
              "[1] 0.33"
            ]
          },
          "metadata": {}
        },
        {
          "output_type": "display_data",
          "data": {
            "text/html": [
              "0.4"
            ],
            "text/markdown": "0.4",
            "text/latex": "0.4",
            "text/plain": [
              "[1] 0.4"
            ]
          },
          "metadata": {}
        },
        {
          "output_type": "display_data",
          "data": {
            "text/html": [
              "0.67"
            ],
            "text/markdown": "0.67",
            "text/latex": "0.67",
            "text/plain": [
              "[1] 0.67"
            ]
          },
          "metadata": {}
        }
      ]
    },
    {
      "cell_type": "markdown",
      "source": [
        "## Задача 9.5.2\n",
        "https://stepik.org/lesson/83973/step/2\n",
        "\n",
        "Выборка состоит из `100` объектов, `70` из них принадлежат классу `1`, остальные принадлежат классу `0`. Известно, что нецелевой бинарный признак `Р` равен `1` для `10%` объектов класса `1` и для `50%` объектов из класса `0`.\n",
        "\n",
        "**Заполните пропуски**\n",
        "\n",
        "Рассмотрим новый объект, у которого признак `Р` равен `1`. Вероятность, что этот объект принадлежит классу `1`, равна `____`\n",
        " (ответ округлить до двух знаков после запятой).\n",
        "\n",
        " <img src='https://ucarecdn.com/28c32a6c-f051-4e3a-8e43-97b71df1a8cb/' width=500>"
      ],
      "metadata": {
        "id": "5uJ2_jnTa3tM"
      }
    },
    {
      "cell_type": "code",
      "source": [
        "prob1 <- 0.7            # принадлежат классу 1\n",
        "prob0 <- 1 - prob1      # принадлежат классу 0\n",
        "probP1_1 <- 0.1         # Р равен 1 для 10% объектов класса 1\n",
        "probP1_0 <- 0.5         # Р равен 1 для 50% объектов класса 0\n",
        "\n",
        "prob_P1 <- probP1_1 * prob1 + probP1_0 * prob0  # Р равен 1 (22%)\n",
        "prob1_P1 <- probP1_1 * prob1 / prob_P1          # ф-ла Байеса\n",
        "round(prob1_P1, 2)"
      ],
      "metadata": {
        "id": "5FwiwoU6lr7q",
        "colab": {
          "base_uri": "https://localhost:8080/",
          "height": 34
        },
        "outputId": "6ec20f11-bb1a-4ec0-fa86-846ac308bfc8"
      },
      "execution_count": null,
      "outputs": [
        {
          "output_type": "display_data",
          "data": {
            "text/html": [
              "0.32"
            ],
            "text/markdown": "0.32",
            "text/latex": "0.32",
            "text/plain": [
              "[1] 0.32"
            ]
          },
          "metadata": {}
        }
      ]
    },
    {
      "cell_type": "markdown",
      "source": [
        "## Задача 9.5.3\n",
        "https://stepik.org/lesson/83973/step/3\n",
        "\n",
        "Дана таблица с объектами.\n",
        "\n",
        "<img src='https://ucarecdn.com/d86f5afb-be6b-4620-83b9-3e0341b949fd/'>\n",
        "\n",
        "По этой выборке построим наивный байесовский классификатор, который для нового объекта\n",
        "\n",
        "<img src='https://ucarecdn.com/de84c2c6-9e69-4e02-981e-09cbd7758d99/'>\n",
        "\n",
        "**Заполните пропуски**\n",
        "\n",
        "предскажет вероятность принадлежности классу 1 равную `____`"
      ],
      "metadata": {
        "id": "gEoaed6LhHFf"
      }
    },
    {
      "cell_type": "markdown",
      "source": [
        "**Решение:**\n",
        "\n",
        "$\n",
        "Pr(Y|P'Q')=?\n",
        "$\n",
        "\n",
        "Чтобы применять формулу Байеса для объекта `E`, то нужно будет знать вероятности:\n",
        "\n",
        "$\n",
        "Pr(P'Q'|Y)\n",
        "$\n",
        "\n",
        "Находим фориулы:\n",
        "\n",
        "$\n",
        "Pr(P'Q'|Y)=Pr(P'|Y)*Pr(Q'|Y)\n",
        "$\n",
        "\n",
        "Из таблицы:\n",
        "\n",
        "$\n",
        "Pr(P'|Y)=0\\\\\n",
        "Pr(Q'|Y)=0.5\\\\\n",
        "Pr(Y)=0.5\\\\\n",
        "Pr(P'Q')=Pr(P')*Pr(Q')=0.25*.0.5=0.125$\n",
        "\n",
        "Подставляем:\n",
        "\n",
        "$\n",
        "Pr(P'Q'|Y)=0*0.5=0\\\\\n",
        "$\n",
        "\n",
        "По формуле Байеса получаем\n",
        "\n",
        "$\n",
        "Pr(Y|P'Q')=Pr(P'Q'|Y)*Pr(Y)/Pr(P'Q')\\\\\n",
        "Pr(Y|P'Q')=0*0.5/0.125=0\n",
        "$\n",
        "\n",
        "P.S. Поскольку мы не считали вторую ветку (вероятность принадлежности к классу 0 объекта Е), мы действовали не как на [31-м слайде](http://course.omgtu.ru/wp-content/uploads/2021/04/9_%D0%92%D0%B5%D1%80%D0%BE%D1%8F%D1%82%D0%BD%D0%BE%D1%81%D1%82%D0%BD%D1%8B%D0%B5_%D0%B0%D0%BB%D0%B3%D0%BE%D1%80%D0%B8%D1%82%D0%BC%D1%8B.pdf), а нашли $Pr(P'Q')=0.25 как произведене (наивно предполагая, что признаки независимы)$"
      ],
      "metadata": {
        "id": "m_bWfPGRO2TZ"
      }
    },
    {
      "cell_type": "code",
      "source": [
        "# data <- rbind('A' = c('1', '1', '0'), # если нужны факторы\n",
        "#               'B' = c('1', '0', '1'),\n",
        "#               'C' = c('0', '0', '0'),\n",
        "#               'D' = c('1', '1', '1')\n",
        "#               )\n",
        "\n",
        "data <- rbind('A' = c(1, 1, 0),\n",
        "              'B' = c(1, 0, 1),\n",
        "              'C' = c(0, 0, 0),\n",
        "              'D' = c(1, 1, 1)\n",
        "              )\n",
        "\n",
        "# data <- data.frame(data, stringsAsFactors = TRUE) # если нужныы факторы\n",
        "data <- data.frame(data)\n",
        "colnames(data) <- c('P', 'Q', 'Y')\n",
        "data\n",
        "\n",
        "x <- as.vector(data$P)\n",
        "y <- as.vector(data$Q)\n",
        "\n",
        "cor.test(x, y)"
      ],
      "metadata": {
        "colab": {
          "base_uri": "https://localhost:8080/",
          "height": 414
        },
        "id": "E7ZrjaJWh2aU",
        "outputId": "baf4c43e-5174-4b01-a018-86328d528272"
      },
      "execution_count": null,
      "outputs": [
        {
          "output_type": "display_data",
          "data": {
            "text/html": [
              "<table class=\"dataframe\">\n",
              "<caption>A data.frame: 4 × 3</caption>\n",
              "<thead>\n",
              "\t<tr><th></th><th scope=col>P</th><th scope=col>Q</th><th scope=col>Y</th></tr>\n",
              "\t<tr><th></th><th scope=col>&lt;dbl&gt;</th><th scope=col>&lt;dbl&gt;</th><th scope=col>&lt;dbl&gt;</th></tr>\n",
              "</thead>\n",
              "<tbody>\n",
              "\t<tr><th scope=row>A</th><td>1</td><td>1</td><td>0</td></tr>\n",
              "\t<tr><th scope=row>B</th><td>1</td><td>0</td><td>1</td></tr>\n",
              "\t<tr><th scope=row>C</th><td>0</td><td>0</td><td>0</td></tr>\n",
              "\t<tr><th scope=row>D</th><td>1</td><td>1</td><td>1</td></tr>\n",
              "</tbody>\n",
              "</table>\n"
            ],
            "text/markdown": "\nA data.frame: 4 × 3\n\n| <!--/--> | P &lt;dbl&gt; | Q &lt;dbl&gt; | Y &lt;dbl&gt; |\n|---|---|---|---|\n| A | 1 | 1 | 0 |\n| B | 1 | 0 | 1 |\n| C | 0 | 0 | 0 |\n| D | 1 | 1 | 1 |\n\n",
            "text/latex": "A data.frame: 4 × 3\n\\begin{tabular}{r|lll}\n  & P & Q & Y\\\\\n  & <dbl> & <dbl> & <dbl>\\\\\n\\hline\n\tA & 1 & 1 & 0\\\\\n\tB & 1 & 0 & 1\\\\\n\tC & 0 & 0 & 0\\\\\n\tD & 1 & 1 & 1\\\\\n\\end{tabular}\n",
            "text/plain": [
              "  P Q Y\n",
              "A 1 1 0\n",
              "B 1 0 1\n",
              "C 0 0 0\n",
              "D 1 1 1"
            ]
          },
          "metadata": {}
        },
        {
          "output_type": "display_data",
          "data": {
            "text/plain": [
              "\n",
              "\tPearson's product-moment correlation\n",
              "\n",
              "data:  x and y\n",
              "t = 1, df = 2, p-value = 0.4226\n",
              "alternative hypothesis: true correlation is not equal to 0\n",
              "95 percent confidence interval:\n",
              " -0.8621050  0.9894227\n",
              "sample estimates:\n",
              "      cor \n",
              "0.5773503 \n"
            ]
          },
          "metadata": {}
        }
      ]
    },
    {
      "cell_type": "code",
      "source": [
        "install.packages(\"GaussianNaiveBayes\")"
      ],
      "metadata": {
        "colab": {
          "base_uri": "https://localhost:8080/"
        },
        "id": "3hGQJolZBdbS",
        "outputId": "ec97f929-c015-4c48-e99a-84324bc90020"
      },
      "execution_count": null,
      "outputs": [
        {
          "output_type": "stream",
          "name": "stderr",
          "text": [
            "Installing package into ‘/usr/local/lib/R/site-library’\n",
            "(as ‘lib’ is unspecified)\n",
            "\n",
            "Warning message:\n",
            "“package ‘GaussianNaiveBayes’ is not available for this version of R\n",
            "\n",
            "A version of this package for your version of R might be available elsewhere,\n",
            "see the ideas at\n",
            "https://cran.r-project.org/doc/manuals/r-patched/R-admin.html#Installing-packages”\n"
          ]
        }
      ]
    },
    {
      "cell_type": "code",
      "source": [
        "library(naivebayes)\n",
        "\n",
        "test <- c(0, 0)\n",
        "\n",
        "nb <- naive_bayes(Y ~ ., data)\n",
        "summary(nb)\n",
        "# head(predict(test, type = \"prob\"))\n",
        "# nd.data\n",
        "\n",
        "\n",
        "# nb.predict(test)\n",
        "\n",
        "# fitted = bn.fit(tan, learning.test, method = \"bayes\")\n",
        "# pred = predict(fitted, learning.test)"
      ],
      "metadata": {
        "id": "k5sFQzdFl4Fw",
        "colab": {
          "base_uri": "https://localhost:8080/",
          "height": 531
        },
        "outputId": "10c3e687-15fa-4feb-ce32-95aca4d99eb5"
      },
      "execution_count": null,
      "outputs": [
        {
          "output_type": "display_data",
          "data": {
            "text/html": [
              "<table class=\"dataframe\">\n",
              "<caption>A data.frame: 4 × 3</caption>\n",
              "<thead>\n",
              "\t<tr><th></th><th scope=col>P</th><th scope=col>Q</th><th scope=col>Y</th></tr>\n",
              "\t<tr><th></th><th scope=col>&lt;fct&gt;</th><th scope=col>&lt;fct&gt;</th><th scope=col>&lt;fct&gt;</th></tr>\n",
              "</thead>\n",
              "<tbody>\n",
              "\t<tr><th scope=row>A</th><td>1</td><td>1</td><td>0</td></tr>\n",
              "\t<tr><th scope=row>B</th><td>1</td><td>0</td><td>1</td></tr>\n",
              "\t<tr><th scope=row>C</th><td>0</td><td>0</td><td>0</td></tr>\n",
              "\t<tr><th scope=row>D</th><td>1</td><td>1</td><td>1</td></tr>\n",
              "</tbody>\n",
              "</table>\n"
            ],
            "text/markdown": "\nA data.frame: 4 × 3\n\n| <!--/--> | P &lt;fct&gt; | Q &lt;fct&gt; | Y &lt;fct&gt; |\n|---|---|---|---|\n| A | 1 | 1 | 0 |\n| B | 1 | 0 | 1 |\n| C | 0 | 0 | 0 |\n| D | 1 | 1 | 1 |\n\n",
            "text/latex": "A data.frame: 4 × 3\n\\begin{tabular}{r|lll}\n  & P & Q & Y\\\\\n  & <fct> & <fct> & <fct>\\\\\n\\hline\n\tA & 1 & 1 & 0\\\\\n\tB & 1 & 0 & 1\\\\\n\tC & 0 & 0 & 0\\\\\n\tD & 1 & 1 & 1\\\\\n\\end{tabular}\n",
            "text/plain": [
              "  P Q Y\n",
              "A 1 1 0\n",
              "B 1 0 1\n",
              "C 0 0 0\n",
              "D 1 1 1"
            ]
          },
          "metadata": {}
        },
        {
          "output_type": "stream",
          "name": "stderr",
          "text": [
            "Warning message:\n",
            "“naive_bayes(): Feature P - zero probabilities are present. Consider Laplace smoothing.”\n"
          ]
        },
        {
          "output_type": "stream",
          "name": "stdout",
          "text": [
            "\n",
            "================================= Naive Bayes ================================== \n",
            " \n",
            "- Call: naive_bayes.formula(formula = Y ~ ., data = data) \n",
            "- Laplace: 0 \n",
            "- Classes: 2 \n",
            "- Samples: 4 \n",
            "- Features: 2 \n",
            "- Conditional distributions: \n",
            "    - Bernoulli: 2\n",
            "- Prior probabilities: \n",
            "    - 0: 0.5\n",
            "    - 1: 0.5\n",
            "\n",
            "-------------------------------------------------------------------------------- \n"
          ]
        }
      ]
    },
    {
      "cell_type": "markdown",
      "source": [
        "## Задача 9.5.4\n",
        "https://stepik.org/lesson/83973/step/4\n",
        "\n",
        "Для объектов из таблицы с помощью некоторого алгоритма были получены вероятности принадлежности классу 1. Истинные метки классов объектов также известны.\n",
        "\n",
        "<img src='https://ucarecdn.com/89cd3ff3-db18-4352-938c-b5c0135f6352/'>\n",
        "\n",
        "**Заполните пропуски**\n",
        "\n",
        "Площадь под ROC-кривой (величина AUC) равна `____`\n"
      ],
      "metadata": {
        "id": "JteXVNXjjIZx"
      }
    },
    {
      "cell_type": "code",
      "source": [
        "dt <- rbind('A' = c(0.6, 0),\n",
        "            'B' = c(0.81, 1),\n",
        "            'C' = c(0.5, 0),\n",
        "            'D' = c(0.9, 1),\n",
        "            'E' = c(0.7, 0),\n",
        "            'F' = c(0.75, 1)\n",
        "            )\n",
        "\n",
        "# data <- data.frame(data, stringsAsFactors = TRUE) # если нужныы факторы\n",
        "dt <- data.frame(dt)\n",
        "colnames(dt) <- c('Pr', 'Tr')\n",
        "# dt\n",
        "dt[order(-dt$Pr), ] # отсортированный по столбцу с вероятностями\n",
        "d_sort <- dt[order(-dt$Pr), ]   # $Tr\n",
        "for (x in d_sort)\n",
        "    print(x)"
      ],
      "metadata": {
        "id": "MiUGTYHjns7_",
        "colab": {
          "base_uri": "https://localhost:8080/",
          "height": 321
        },
        "outputId": "790f9bd2-0c48-43f8-8218-427db27e0dca"
      },
      "execution_count": null,
      "outputs": [
        {
          "output_type": "display_data",
          "data": {
            "text/html": [
              "<table class=\"dataframe\">\n",
              "<caption>A data.frame: 6 × 2</caption>\n",
              "<thead>\n",
              "\t<tr><th></th><th scope=col>Pr</th><th scope=col>Tr</th></tr>\n",
              "\t<tr><th></th><th scope=col>&lt;dbl&gt;</th><th scope=col>&lt;dbl&gt;</th></tr>\n",
              "</thead>\n",
              "<tbody>\n",
              "\t<tr><th scope=row>D</th><td>0.90</td><td>1</td></tr>\n",
              "\t<tr><th scope=row>B</th><td>0.81</td><td>1</td></tr>\n",
              "\t<tr><th scope=row>F</th><td>0.75</td><td>1</td></tr>\n",
              "\t<tr><th scope=row>E</th><td>0.70</td><td>0</td></tr>\n",
              "\t<tr><th scope=row>A</th><td>0.60</td><td>0</td></tr>\n",
              "\t<tr><th scope=row>C</th><td>0.50</td><td>0</td></tr>\n",
              "</tbody>\n",
              "</table>\n"
            ],
            "text/markdown": "\nA data.frame: 6 × 2\n\n| <!--/--> | Pr &lt;dbl&gt; | Tr &lt;dbl&gt; |\n|---|---|---|\n| D | 0.90 | 1 |\n| B | 0.81 | 1 |\n| F | 0.75 | 1 |\n| E | 0.70 | 0 |\n| A | 0.60 | 0 |\n| C | 0.50 | 0 |\n\n",
            "text/latex": "A data.frame: 6 × 2\n\\begin{tabular}{r|ll}\n  & Pr & Tr\\\\\n  & <dbl> & <dbl>\\\\\n\\hline\n\tD & 0.90 & 1\\\\\n\tB & 0.81 & 1\\\\\n\tF & 0.75 & 1\\\\\n\tE & 0.70 & 0\\\\\n\tA & 0.60 & 0\\\\\n\tC & 0.50 & 0\\\\\n\\end{tabular}\n",
            "text/plain": [
              "  Pr   Tr\n",
              "D 0.90 1 \n",
              "B 0.81 1 \n",
              "F 0.75 1 \n",
              "E 0.70 0 \n",
              "A 0.60 0 \n",
              "C 0.50 0 "
            ]
          },
          "metadata": {}
        },
        {
          "output_type": "stream",
          "name": "stdout",
          "text": [
            "[1] 0.90 0.81 0.75 0.70 0.60 0.50\n",
            "[1] 1 1 1 0 0 0\n"
          ]
        }
      ]
    },
    {
      "cell_type": "code",
      "source": [
        "roc_auc <- function(df) #TODO\n",
        "    {\n",
        "    n <- nrow(dt)\n",
        "    ra <- 0\n",
        "    s <- 0\n",
        "    for (i in c(1:n)){\n",
        "        if (dt[i, 2] == 1)\n",
        "        s <-\n",
        "        ra <- ra + 0\n",
        "    }\n",
        "    return('done')\n",
        "    }\n",
        "\n",
        "roc_auc(dt)\n",
        "\n"
      ],
      "metadata": {
        "colab": {
          "base_uri": "https://localhost:8080/",
          "height": 34
        },
        "id": "p8zXlDYkl-Ea",
        "outputId": "fb104ba7-e3b7-4768-8086-03bf2da10db5"
      },
      "execution_count": null,
      "outputs": [
        {
          "output_type": "display_data",
          "data": {
            "text/html": [
              "'done'"
            ],
            "text/markdown": "'done'",
            "text/latex": "'done'",
            "text/plain": [
              "[1] \"done\""
            ]
          },
          "metadata": {}
        }
      ]
    },
    {
      "cell_type": "markdown",
      "source": [
        "## Задача 9.5.5\n",
        "https://stepik.org/lesson/83973/step/5\n",
        "\n",
        "Где здесь формула Байеса?\n",
        "\n",
        "**Выберите один вариант из списка**\n",
        "\n",
        "*    Pr(B|A)=Pr(A|B*B/A)\n",
        "\n",
        "*    Pr(B|A)=Pr(A|B)/Pr(B)*Pr(A)\n",
        "\n",
        "*    Pr(B|A)=Pr(A|B)*Pr(B)/Pr(A)\n",
        "\n",
        "*    Pr(B|A)=Pr(A|B)*Pr(A)/Pr(B)"
      ],
      "metadata": {
        "id": "hBf2eTUWqUDq"
      }
    },
    {
      "cell_type": "code",
      "source": [
        "# Pr(B|A)=Pr(A|B)*Pr(B)/Pr(A)"
      ],
      "metadata": {
        "id": "-foW2WlCvtkA"
      },
      "execution_count": null,
      "outputs": []
    },
    {
      "cell_type": "markdown",
      "source": [
        "## Задача 9.5.6\n",
        "https://stepik.org/lesson/83973/step/6\n",
        "\n",
        "События А, В называются независимыми, если:\n",
        "\n",
        "**Выберите один вариант из списка**\n",
        "\n",
        "*    `Pr(A)*Pr(B)=Pr(AB)`\n",
        "\n",
        "*    Pr(AB)=Pr(A)+Pr(B)\n",
        "\n",
        "*    Pr(A|B)=Pr(A)*Pr(B)\n",
        "\n",
        "*    Pr(A|B)=Pr(B|A)"
      ],
      "metadata": {
        "id": "yYEQHdkSozcC"
      }
    },
    {
      "cell_type": "code",
      "source": [
        "\n",
        "# Pr(A)*Pr(B)=Pr(AB)"
      ],
      "metadata": {
        "id": "9khkcWjCv8NI"
      },
      "execution_count": null,
      "outputs": []
    }
  ]
}