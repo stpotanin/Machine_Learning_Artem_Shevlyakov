{
  "nbformat": 4,
  "nbformat_minor": 0,
  "metadata": {
    "colab": {
      "provenance": [],
      "authorship_tag": "ABX9TyPKkweoW49t3NtpRKRmH0kk"
    },
    "kernelspec": {
      "name": "python3",
      "display_name": "Python 3"
    },
    "language_info": {
      "name": "python"
    }
  },
  "cells": [
    {
      "cell_type": "markdown",
      "source": [
        "https://stepik.org/lesson/83196/step/1\n",
        "\n",
        "\n",
        "\\begin{align}\n",
        "erfc(\\frac{|p_i - p|}{S_p}) < \\frac{1}{2 π}\n",
        "\\end{align}"
      ],
      "metadata": {
        "id": "FsB8B6itihjO"
      }
    },
    {
      "cell_type": "code",
      "execution_count": null,
      "metadata": {
        "id": "t9ah6YOHiYqG",
        "colab": {
          "base_uri": "https://localhost:8080/"
        },
        "outputId": "9f0bba70-ad50-456f-85e1-9efc18b481ae"
      },
      "outputs": [
        {
          "output_type": "stream",
          "name": "stdout",
          "text": [
            "10.507142857142856 8.44854038836754 0.03571428571428571\n",
            "0.014242493078177692\n"
          ]
        }
      ],
      "source": [
        "p = [8.02, 8.16, 3.97, 8.64, 0.84, 4.46, 0.81, 7.74, 8.78, 9.26, 20.46, 29.87, 10.38, 25.71]\n",
        "print(mean(p), std(p), 1 / (2 * len(p)))\n",
        "print(erfc(abs(25.71 - 10.51) / 8.77))"
      ]
    },
    {
      "cell_type": "code",
      "source": [
        "# импортируем erfc\n",
        "from math import erfc\n",
        "\n",
        "# пишем функции для среднего и отклонения\n",
        "mean = lambda p: sum(p) / len(p)\n",
        "std = lambda p: (sum((x - mean(p))**2 for x in p) / len(p))**.5\n",
        "\n",
        "p = [8.02, 8.16, 3.97, 8.64, 0.84, 4.46, 0.81, 7.74, 8.78, 9.26, 20.46, 29.87, 10.38, 25.71]\n",
        "outlier = []    # сюда сложим выбросы для наглядности\n",
        "do = True       # флаг для окончания поиска выбросов\n",
        "while do and len(p) > 2:\n",
        "    do = False  # меняем флаг на случай, если не будет выыброса\n",
        "    # каждый раз рассчитываем заново среднее, отклонение и порог\n",
        "    mean_p = mean(p)\n",
        "    std_p = std(p)\n",
        "    threshold = 1 / (2 * len(p))\n",
        "    for i in range(len(p)):\n",
        "        if erfc(abs(p[i] - mean_p) / std_p) < threshold:\n",
        "            # контрольные eftc и порог\n",
        "            print('eftc =', erfc(abs(p[i] - mean_p) / std_p), 'порог =', threshold, 'выбрасываем', p[i])\n",
        "            outlier.append(p.pop(i))\n",
        "            do = True   # нашли выброс, восстанавливаем флаг\n",
        "            break\n",
        "\n",
        "print()\n",
        "print('оставшиеся значения:', p)\n",
        "print('выбросы:', outlier)"
      ],
      "metadata": {
        "id": "3NmBplx6igyK",
        "colab": {
          "base_uri": "https://localhost:8080/"
        },
        "outputId": "8b5eb7a4-68ce-4b2f-fba7-b03b33442959"
      },
      "execution_count": null,
      "outputs": [
        {
          "output_type": "stream",
          "name": "stdout",
          "text": [
            "eftc = 0.001190372286454888 порог = 0.03571428571428571 выбрасываем 29.87\n",
            "eftc = 0.016810338343307224 порог = 0.038461538461538464 выбрасываем 20.46\n",
            "eftc = 4.938607324744758e-05 порог = 0.041666666666666664 выбрасываем 25.71\n",
            "eftc = 0.013558872899650172 порог = 0.045454545454545456 выбрасываем 0.84\n",
            "eftc = 0.0018065417197687236 порог = 0.05 выбрасываем 0.81\n",
            "eftc = 0.008490747913407894 порог = 0.05555555555555555 выбрасываем 3.97\n",
            "eftc = 0.001054397242550363 порог = 0.0625 выбрасываем 4.46\n",
            "eftc = 0.004461992872837441 порог = 0.07142857142857142 выбрасываем 10.38\n",
            "eftc = 0.05545652395500955 порог = 0.08333333333333333 выбрасываем 7.74\n",
            "eftc = 0.080228814751594 порог = 0.1 выбрасываем 8.02\n",
            "eftc = 0.04725630553130843 порог = 0.125 выбрасываем 8.16\n",
            "eftc = 0.05080688610777279 порог = 0.16666666666666666 выбрасываем 9.26\n",
            "\n",
            "оставшиеся значения: [8.64, 8.78]\n",
            "выбросы: [29.87, 20.46, 25.71, 0.84, 0.81, 3.97, 4.46, 10.38, 7.74, 8.02, 8.16, 9.26]\n"
          ]
        }
      ]
    },
    {
      "cell_type": "code",
      "source": [
        "from statistics import mean, stdev  # для поиска среднего, для поиска отклонения\n",
        "from math import sqrt, erfc  # для вычисления квадратного корня, для расчета критерия Шовене\n",
        "\n",
        "\n",
        "P = [8.02, 8.16, 3.97, 8.64, 0.84, 4.46, 0.81, 7.74, 8.78, 9.26, 20.46, 29.87, 10.38, 25.71]\n",
        "out = []\n",
        "n = len(P)\n",
        "\n",
        "\n",
        "flag = False  # сигнальная метка, для остановки цикла while\n",
        "\n",
        "while not flag:\n",
        "    p = round(mean(P), 2)\n",
        "    Sp = round(stdev(P), 2)\n",
        "    n = len(P)\n",
        "    for i in range(n):\n",
        "        if erfc(abs(P[i] - p) / Sp) < (1 / (2 * n)):\n",
        "            P.pop(i)\n",
        "            break\n",
        "        else:\n",
        "            flag = True\n",
        "\n",
        "print(P)"
      ],
      "metadata": {
        "colab": {
          "base_uri": "https://localhost:8080/"
        },
        "id": "UE7OspFca2Nj",
        "outputId": "d6628636-4009-422a-f504-015c7fa0d3d3"
      },
      "execution_count": null,
      "outputs": [
        {
          "output_type": "stream",
          "name": "stdout",
          "text": [
            "[8.02, 8.16, 3.97, 8.64, 0.84, 4.46, 0.81, 7.74, 8.78, 9.26, 20.46, 10.38, 25.71]\n"
          ]
        }
      ]
    }
  ]
}