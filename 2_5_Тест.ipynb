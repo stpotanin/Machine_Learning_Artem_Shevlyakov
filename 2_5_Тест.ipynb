{
  "nbformat": 4,
  "nbformat_minor": 0,
  "metadata": {
    "colab": {
      "provenance": [],
      "authorship_tag": "ABX9TyNhPbqvrVP/0WBjODn44Yff"
    },
    "kernelspec": {
      "name": "python3",
      "display_name": "Python 3"
    },
    "language_info": {
      "name": "python"
    }
  },
  "cells": [
    {
      "cell_type": "markdown",
      "source": [
        "### Задача 2.5.1\n",
        "\n",
        "https://stepik.org/lesson/83241/step/1\n",
        "\n",
        "Дана таблица с пропущенным значением признака Р3 для последнего объекта.\n",
        "\n",
        "<img src='https://ucarecdn.com/f9dcf478-f4a0-45dc-9a9f-70d2e1d839fe/' width=500px>\n",
        "\n",
        "Заполните пропуски\n",
        "\n",
        "Восстановим пропущенное значение с помощью различных подходов. Если пропущенное значение заменить на среднее значение признака Р3, то оно будет равно\n",
        "`2`\n",
        "\n",
        " Если пропущенное значение заменить на медиану признака Р3, то оно будет равно\n",
        "`1`\n"
      ],
      "metadata": {
        "id": "uTR-1r_ZSBu5"
      }
    },
    {
      "cell_type": "code",
      "execution_count": null,
      "metadata": {
        "id": "TYsGIO7eR0QW"
      },
      "outputs": [],
      "source": [
        "# 2\n",
        "# 1"
      ]
    },
    {
      "cell_type": "markdown",
      "source": [
        "### Задача 2.5.2\n",
        "\n",
        "https://stepik.org/lesson/83241/step/2\n",
        "\n",
        "Даны два вектора значений признаков\n",
        "\n",
        "Р1=(0,1,2)\n",
        "\n",
        "Р2=(2,1,0).\n",
        "\n",
        "Заполните пропуски\n",
        "\n",
        "Евклидово расстояние между ними равно (округлить до двух знаков после запятой)\n",
        "\n",
        " Расстояние в метрике Манхэттен между ними равно\n",
        "\n",
        " Расстояние между ними в max-метрике равно"
      ],
      "metadata": {
        "id": "DHGh3NM1TDWZ"
      }
    },
    {
      "cell_type": "code",
      "source": [
        "euclid = lambda p1, p2: sum((x - y)**2 for x, y in zip(p1, p2))**.5\n",
        "manhattan = lambda p1, p2: sum(abs(x - y) for x, y in zip(p1, p2))\n",
        "max_metric = lambda p1, p2: max(abs(x - y) for x, y in zip(p1, p2))\n",
        "\n",
        "P1, P2 = (0, 1, 2), (2, 1, 0)\n",
        "print('Euclid =', euclid(P1, P2))\n",
        "print('Manhattan =', manhattan(P1, P2))\n",
        "print('Max-metric =', max_metric(P1, P2))"
      ],
      "metadata": {
        "colab": {
          "base_uri": "https://localhost:8080/"
        },
        "id": "mHSviW_oTiu2",
        "outputId": "e10099c7-d4dc-419c-845d-2e9aa2b1b051"
      },
      "execution_count": null,
      "outputs": [
        {
          "output_type": "stream",
          "name": "stdout",
          "text": [
            "Euclid = 2.8284271247461903\n",
            "Manhattan = 4\n",
            "Max-metric = 2\n"
          ]
        }
      ]
    },
    {
      "cell_type": "markdown",
      "source": [
        "### Задача 2.5.3\n",
        "\n",
        "https://stepik.org/lesson/83241/step/3\n",
        "\n",
        "Дан вектор значений признака `P = (1, 0, 5, 2, 2)`. Нормализуем этот вектор по формуле, использующей минимальное и максимальное значение признака `Р`. Значение первой координаты нормализованного вектора будет равно\n",
        "\n",
        "Введите численный ответ:"
      ],
      "metadata": {
        "id": "ry1ZriR7a7DQ"
      }
    },
    {
      "cell_type": "code",
      "source": [
        "norm_min_max = lambda p: [(x - min(p)) / (max(p) - min(p)) for x in p]\n",
        "\n",
        "P = (1, 0, 5, 2, 2)\n",
        "norm_min_max(P)[0] # Значение первой координаты нормализованного вектора\n",
        "# 0.2"
      ],
      "metadata": {
        "colab": {
          "base_uri": "https://localhost:8080/"
        },
        "id": "Fz_t2pIRbXQZ",
        "outputId": "a641e649-52cd-4fb9-87f6-69db0d585f7e"
      },
      "execution_count": null,
      "outputs": [
        {
          "output_type": "execute_result",
          "data": {
            "text/plain": [
              "0.2"
            ]
          },
          "metadata": {},
          "execution_count": 24
        }
      ]
    },
    {
      "cell_type": "markdown",
      "source": [
        "### Задача 2.5.4\n",
        "\n",
        "https://stepik.org/lesson/83241/step/4\n",
        "\n",
        "Дан вектор значений признака `Р = (1, 0, 5, 2, 2)`. Нормализуем этот вектор по формуле, использующей среднее значением и отклонение признака `Р`. Значение последней координаты нормализованного вектора будет равно\n",
        "\n",
        "Введите численный ответ"
      ],
      "metadata": {
        "id": "XDYiSlrFn7rq"
      }
    },
    {
      "cell_type": "code",
      "source": [
        "mean = lambda p: sum(p) / len(p)\n",
        "std = lambda p: (sum((x - mean(p))**2 for x in p) / len(p))**.5\n",
        "z_score = lambda p: [(x - mean(p)) / std(p) for x in p]\n",
        "\n",
        "p = (1, 0, 5, 2, 2)\n",
        "z_score(p)"
      ],
      "metadata": {
        "colab": {
          "base_uri": "https://localhost:8080/"
        },
        "id": "2Kb3k4pooZf4",
        "outputId": "5dc21819-fdbd-4b89-c369-94135ce3fe05"
      },
      "execution_count": null,
      "outputs": [
        {
          "output_type": "execute_result",
          "data": {
            "text/plain": [
              "1.6733200530681511"
            ]
          },
          "metadata": {},
          "execution_count": 8
        }
      ]
    },
    {
      "cell_type": "markdown",
      "source": [
        "### Задача 2.5.5\n",
        "\n",
        "https://stepik.org/lesson/83241/step/5\n",
        "\n",
        "Следующая таблица содержит информацию об оценках, выставленных фильмам.\n",
        "\n",
        "<img src='https://ucarecdn.com/0cfdfef3-a440-4622-a2e1-b047a251ae76/' width=500px>\n",
        "\n",
        "Требуется оценить, какую оценку поставит Саша фильму «Гарри Поттер». Сделаем это с помощью метрики `Манхэттен` (для простоты вычислений данные в таблице нормировать не нужно). Для этого подсчитаем расстояния от Саши до других людей, используя информацию из первых 3 столбцов. Чему равна ожидаемая оценка для «Гарри Поттера» (округлить до одного знака после запятой)?"
      ],
      "metadata": {
        "id": "95Ipxg48ueBk"
      }
    },
    {
      "cell_type": "code",
      "source": [
        "def manhattan(p1, p2):\n",
        "    return sum(abs(x - y) for x, y in zip(p1, p2))\n",
        "\n",
        "def predict(score, p):\n",
        "    x1, x2 = 0, 0\n",
        "    for i, j in zip(score, p):\n",
        "        x1 += 1 / i\n",
        "        x2 += j / i\n",
        "    return x2 / x1\n",
        "\n",
        "data = {'vasya' : (5, 5, 5, 3),\n",
        "        'petya' : (5, 3, 4, 4),\n",
        "        'masha' : (2, 5, 3, 5),\n",
        "        'sasha' : (3, 4, 4, None)}\n",
        "\n",
        "\n",
        "score = []\n",
        "p = []\n",
        "for key, value in data.items():\n",
        "    if key != 'sasha':\n",
        "        score.append(manhattan(data[key][:-1], data['sasha'][:-1]))\n",
        "        p.append(data[key][-1])\n",
        "\n",
        "predict(score, p)"
      ],
      "metadata": {
        "colab": {
          "base_uri": "https://localhost:8080/"
        },
        "id": "U8YoJiuVu69L",
        "outputId": "56bd661e-dda7-4428-8b30-5de4115c6ffc"
      },
      "execution_count": null,
      "outputs": [
        {
          "output_type": "execute_result",
          "data": {
            "text/plain": [
              "4.090909090909092"
            ]
          },
          "metadata": {},
          "execution_count": 26
        }
      ]
    }
  ]
}