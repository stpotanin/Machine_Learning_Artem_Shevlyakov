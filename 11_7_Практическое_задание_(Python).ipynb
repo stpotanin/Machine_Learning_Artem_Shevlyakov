{
  "nbformat": 4,
  "nbformat_minor": 0,
  "metadata": {
    "colab": {
      "provenance": []
    },
    "kernelspec": {
      "name": "python3",
      "display_name": "Python 3"
    },
    "language_info": {
      "name": "python"
    }
  },
  "cells": [
    {
      "cell_type": "markdown",
      "source": [
        "## Задача 11.7\n",
        "https://stepik.org/lesson/190159/step/1\n",
        "\n",
        "В таблице дана точность модели построенной с помощью нецелевых признаков `U, V, W, X` (если в таблице стоит `0`, то соответствующий признак не использовался при построении модели).\n",
        "\n",
        "<img src='https://ucarecdn.com/df01953b-2e3d-4001-b7d0-55f511af12f3/'>\n",
        "\n",
        "Используя жадный алгоритм отбора признаков (который начинает свою работу с полного набора признаков `{U,V,W,X}`), найдем все признаки, попавшие в оптимальный набор."
      ],
      "metadata": {
        "id": "NxgLtay8tdoQ"
      }
    },
    {
      "cell_type": "code",
      "execution_count": null,
      "metadata": {
        "id": "m_UYR-Nvtamd",
        "colab": {
          "base_uri": "https://localhost:8080/"
        },
        "outputId": "0a5e2d0d-326c-4b67-d8d4-f3bd6eb7fac0"
      },
      "outputs": [
        {
          "output_type": "stream",
          "name": "stdout",
          "text": [
            "[1, 1, 0, 1]\n",
            "[1, 0, 0, 1]\n",
            "[1, 0, 0, 1]\n",
            "[1, 0, 0, 1]\n",
            "U X\n"
          ]
        }
      ],
      "source": [
        "import pandas as pd\n",
        "import numpy as np\n",
        "\n",
        "# Создаем DataFrame\n",
        "data = [\n",
        "    [0, 0, 0, 0, 0],\n",
        "    [0, 0, 0, 1, 0.75],\n",
        "    [0, 0, 1, 0, 0.55],\n",
        "    [0, 0, 1, 1, 0.65],\n",
        "    [0, 1, 0, 0, 0.5],\n",
        "    [0, 1, 0, 1, 0.82],\n",
        "    [0, 1, 1, 0, 0.87],\n",
        "    [0, 1, 1, 1, 0.62],\n",
        "    [1, 0, 0, 0, 0.8],\n",
        "    [1, 0, 0, 1, 0.84],\n",
        "    [1, 0, 1, 0, 0.85],\n",
        "    [1, 0, 1, 1, 0.7],\n",
        "    [1, 1, 0, 0, 0.81],\n",
        "    [1, 1, 0, 1, 0.8],\n",
        "    [1, 1, 1, 0, 0.75],\n",
        "    [1, 1, 1, 1, 0.6]\n",
        "]\n",
        "\n",
        "df = pd.DataFrame(data, columns=['U', 'V', 'W', 'X', 'Y'])\n",
        "\n",
        "# Определяем функцию для получения значения Y из таблицы\n",
        "def res(df, f):\n",
        "    return df[(df.iloc[:, 0] == f[0]) &\n",
        "              (df.iloc[:, 1] == f[1]) &\n",
        "              (df.iloc[:, 2] == f[2]) &\n",
        "              (df.iloc[:, 3] == f[3])].iloc[:, 4].values[0]\n",
        "\n",
        "# Основная логика\n",
        "best_features = [1, 1, 1, 1]\n",
        "for foo in range(4):\n",
        "    new_features = best_features.copy()\n",
        "    for i in range(4):\n",
        "        features = best_features.copy()\n",
        "        features[i] = 0\n",
        "        if res(df, new_features) < res(df, features):\n",
        "            new_features = features\n",
        "    best_features = new_features\n",
        "    print(best_features) # выводим этап отбора для наглядности\n",
        "\n",
        "# Получаем имена выбранных признаков\n",
        "selected_features = df.columns[:4][np.array(best_features) == 1]\n",
        "print(*selected_features)"
      ]
    },
    {
      "cell_type": "code",
      "source": [
        "# Разворотом массива (Получилось!):\n",
        "import pandas as pd\n",
        "import numpy as np\n",
        "\n",
        "# Создаем DataFrame\n",
        "data = [\n",
        "    [0, 0, 0, 0, 0],\n",
        "    [0, 0, 0, 1, 0.75],\n",
        "    [0, 0, 1, 0, 0.55],\n",
        "    [0, 0, 1, 1, 0.65],\n",
        "    [0, 1, 0, 0, 0.5],\n",
        "    [0, 1, 0, 1, 0.82],\n",
        "    [0, 1, 1, 0, 0.87],\n",
        "    [0, 1, 1, 1, 0.62],\n",
        "    [1, 0, 0, 0, 0.8],\n",
        "    [1, 0, 0, 1, 0.84],\n",
        "    [1, 0, 1, 0, 0.85],\n",
        "    [1, 0, 1, 1, 0.7],\n",
        "    [1, 1, 0, 0, 0.81],\n",
        "    [1, 1, 0, 1, 0.8],\n",
        "    [1, 1, 1, 0, 0.75],\n",
        "    [1, 1, 1, 1, 0.6]\n",
        "]\n",
        "\n",
        "df = pd.DataFrame(data, columns=['U', 'V', 'W', 'X', 'Y'])\n",
        "df['Y'] = pd.DataFrame(reversed(df['Y'].values))\n",
        "\n",
        "# Определяем функцию res\n",
        "def res(df, f):\n",
        "    return df[(df.iloc[:, 0] == f[0]) &\n",
        "              (df.iloc[:, 1] == f[1]) &\n",
        "              (df.iloc[:, 2] == f[2]) &\n",
        "              (df.iloc[:, 3] == f[3])].iloc[:, 4].values[0]\n",
        "\n",
        "# Основная логика\n",
        "best_features = [0, 0, 0, 0]\n",
        "for foo in range(4):\n",
        "    new_features = best_features.copy()\n",
        "    for i in range(4):\n",
        "        features = best_features.copy()\n",
        "        features[i] = 1\n",
        "        if res(df, new_features) < res(df, features):\n",
        "            new_features = features\n",
        "    best_features = new_features\n",
        "    print(best_features) # выводим этап отбора для наглядности\n",
        "\n",
        "# Получаем имена выбранных признаков\n",
        "selected_features = df.columns[:4][np.array(best_features) == 0]\n",
        "print(*selected_features)"
      ],
      "metadata": {
        "colab": {
          "base_uri": "https://localhost:8080/"
        },
        "id": "BPtpbL5_5md8",
        "outputId": "0aa57f3c-0a4e-4fa8-f271-f6b2f4785390"
      },
      "execution_count": null,
      "outputs": [
        {
          "output_type": "stream",
          "name": "stdout",
          "text": [
            "[0, 0, 1, 0]\n",
            "[0, 1, 1, 0]\n",
            "[0, 1, 1, 0]\n",
            "[0, 1, 1, 0]\n",
            "U X\n"
          ]
        }
      ]
    },
    {
      "cell_type": "code",
      "source": [
        "# Vadim Kopeykin https://stepik.org/lesson/190159/step/1?discussion=8790794&thread=solutions&unit=164664\n",
        "\n",
        "import numpy as np\n",
        "\n",
        "y = np.array([0, 0.75, 0.55, 0.65, 0.5, 0.82, 0.87, 0.62, 0.8, 0.84, 0.85, 0.7, 0.81, 0.8, 0.75, 0.6])\n",
        "features = list('XWVU')\n",
        "\n",
        "# Массив y содержит значения.\n",
        "# features — список признаков ('X', 'W', 'V', 'U').\n",
        "# cols — список индексов признаков.\n",
        "# row — индекс, представляющий комбинацию всех признаков (бинарное представление).\n",
        "# score — значение из y для полной комбинации признаков.\n",
        "cols = list(range(len(features)))\n",
        "row = 2**len(features) - 1\n",
        "score = y[row]\n",
        "\n",
        "# rows — массив индексов, полученных путем сброса каждого бита по одному в row.\n",
        "# scores — значения y для этих индексов.\n",
        "# index — индекс максимального значения в scores.\n",
        "# Если максимальное значение в scores меньше текущего score, алгоритм завершает работу (break).\n",
        "# В противном случае обновляются score и row, а соответствующие признак и индекс удаляются из features и cols.\n",
        "while cols:\n",
        "    rows = np.array([row & ~(1 << i) for i in cols])\n",
        "    scores = y[rows]\n",
        "    index = scores.argmax()\n",
        "    if scores[index] < score:\n",
        "        break\n",
        "    score, row = scores[index], rows[index]\n",
        "    del features[index]\n",
        "    del cols[index]\n",
        "print(*features)\n",
        "\n",
        "# Пример работы алгоритма\n",
        "# Начальное значение row — 15 (в двоичном представлении 1111), что соответствует полной комбинации всех признаков.\n",
        "# score инициализируется значением y[15] (0.6).\n",
        "# В каждой итерации рассматриваются подмножества признаков путем сброса одного бита в row.\n",
        "# Алгоритм находит максимальное значение в подмножествах, обновляет score и удаляет соответствующий признак, если найденное значение больше текущего score.\n",
        "# Когда все возможные улучшения исчерпаны, алгоритм завершает работу и выводит оставшиеся признаки.\n",
        "# Таким образом, этот алгоритм последовательно исключает признаки, пытаясь найти подмножество признаков, которое дает максимальное значение в массиве y."
      ],
      "metadata": {
        "colab": {
          "base_uri": "https://localhost:8080/"
        },
        "id": "DFbDhI6Mw-gJ",
        "outputId": "cbff6e98-e17d-4e82-c65c-76453476a102"
      },
      "execution_count": null,
      "outputs": [
        {
          "output_type": "stream",
          "name": "stdout",
          "text": [
            "X U\n"
          ]
        }
      ]
    },
    {
      "cell_type": "code",
      "source": [
        "# Разворотом массива (попытка):\n",
        "\n",
        "import numpy as np\n",
        "y = np.array([0, 0.75, 0.55, 0.65, 0.5, 0.82, 0.87, 0.62, 0.8, 0.84, 0.85, 0.7, 0.81, 0.8, 0.75, 0.6][::-1])\n",
        "\n",
        "features = 'XWVU'\n",
        "\n",
        "cols = list(range(len(features)))   # список индексов от 0 до 3 (соответствующих длине строки features).\n",
        "best_features = \"\"                  # пустая строка, в которую будут добавляться лучшие признаки.\n",
        "score, row = 0, 0                   # начальный лучший результат, начальное значение ряда\n",
        "while cols:\n",
        "    rows = np.array([row | (1 << i) for i in cols]) # массив rows, состоящий из значений row, к которому добавляется битовый сдвиг влево на 1 для каждого индекса из cols.\n",
        "    print('rows содержит:', rows) #\n",
        "    scores = y[rows]                # создаём массив scores, выбирая элементы из y с индексами из rows.\n",
        "    index = scores.argmax()         # находим индекс index максимального значения в scores.\n",
        "    print('scores[index]:', scores[index]) #\n",
        "    if scores[index] < score:       # если максимальное значение в scores меньше текущего score, цикл прерывается.\n",
        "        break\n",
        "    score, row = scores[index], rows[index]     # обновляем score и row новыми значениями.\n",
        "    best_features += features[cols[index]]      # добавляем соответствующий элемент из features в строку best_features.\n",
        "    del cols[index]                             # удаляем использованный индекс из cols.\n",
        "for f in 'XWVU':\n",
        "    if f not in best_features:\n",
        "        print(f, end='')"
      ],
      "metadata": {
        "colab": {
          "base_uri": "https://localhost:8080/"
        },
        "id": "lXFi1jKWyewN",
        "outputId": "837eb29d-43bb-4e85-e2fa-f275aa11a0fe"
      },
      "execution_count": null,
      "outputs": [
        {
          "output_type": "stream",
          "name": "stdout",
          "text": [
            "rows содержит: [1 2 4 8]\n",
            "scores[index]: 0.8\n",
            "rows содержит: [ 3  6 10]\n",
            "scores[index]: 0.84\n",
            "rows содержит: [ 7 14]\n",
            "scores[index]: 0.8\n",
            "XU"
          ]
        }
      ]
    }
  ]
}