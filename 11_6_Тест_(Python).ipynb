{
  "nbformat": 4,
  "nbformat_minor": 0,
  "metadata": {
    "colab": {
      "provenance": []
    },
    "kernelspec": {
      "name": "python3",
      "display_name": "Python 3"
    },
    "language_info": {
      "name": "python"
    }
  },
  "cells": [
    {
      "cell_type": "markdown",
      "source": [
        "## Задача 11.6.1\n",
        "https://stepik.org/lesson/83975/step/1\n",
        "\n",
        "В таблице дана точность модели построенной с помощью нецелевых признаков U, V, W, X (если в таблице стоит 0, то соответствующий признак не использовался при построении модели).\n",
        "\n",
        "<img src='https://ucarecdn.com/7088390b-94de-4101-bf50-1435f1e782a4/'>\n",
        "\n",
        "Используя жадный алгоритм отбора признаков (который начинает свою работу с пустого набора признаков), найдем все признаки, попавшие в оптимальный набор.\n",
        "\n",
        "**Выберите все подходящие ответы из списка**\n",
        "\n",
        "`X` `W` V `U`"
      ],
      "metadata": {
        "id": "g66-4M9ULgA5"
      }
    },
    {
      "cell_type": "code",
      "source": [
        "import pandas as pd\n",
        "import numpy as np\n",
        "\n",
        "# Создаем DataFrame\n",
        "data = [\n",
        "    [0, 0, 0, 0, 0],\n",
        "    [0, 0, 0, 1, 0.45],\n",
        "    [0, 0, 1, 0, 0.4],\n",
        "    [0, 0, 1, 1, 0.76],\n",
        "    [0, 1, 0, 0, 0.5],\n",
        "    [0, 1, 0, 1, 0.65],\n",
        "    [0, 1, 1, 0, 0.7],\n",
        "    [0, 1, 1, 1, 0.75],\n",
        "    [1, 0, 0, 0, 0.3],\n",
        "    [1, 0, 0, 1, 0.65],\n",
        "    [1, 0, 1, 0, 0.7],\n",
        "    [1, 0, 1, 1, 0.76],\n",
        "    [1, 1, 0, 0, 0.6],\n",
        "    [1, 1, 0, 1, 0.8],\n",
        "    [1, 1, 1, 0, 0.71],\n",
        "    [1, 1, 1, 1, 0.7]\n",
        "]\n",
        "\n",
        "df = pd.DataFrame(data, columns=['U', 'V', 'W', 'X', 'Y'])\n",
        "\n",
        "# Определяем функцию res\n",
        "def res(df, f):\n",
        "    return df[(df.iloc[:, 0] == f[0]) &\n",
        "              (df.iloc[:, 1] == f[1]) &\n",
        "              (df.iloc[:, 2] == f[2]) &\n",
        "              (df.iloc[:, 3] == f[3])].iloc[:, 4].values[0]\n",
        "\n",
        "# Основная логика\n",
        "best_features = [0, 0, 0, 0]\n",
        "for foo in range(4):\n",
        "    new_features = best_features.copy()\n",
        "    for i in range(4):\n",
        "        features = best_features.copy()\n",
        "        features[i] = 1\n",
        "        if res(df, new_features) < res(df, features):\n",
        "            new_features = features\n",
        "    best_features = new_features\n",
        "    print(best_features) # выводим этап отбора для наглядности\n",
        "\n",
        "# Получаем имена выбранных признаков\n",
        "selected_features = df.columns[:4][np.array(best_features) == 1]\n",
        "print(*selected_features)"
      ],
      "metadata": {
        "colab": {
          "base_uri": "https://localhost:8080/"
        },
        "id": "ych-yS4V-RBp",
        "outputId": "6c2393c6-0a4b-47e2-963d-c7363cdca774"
      },
      "execution_count": null,
      "outputs": [
        {
          "output_type": "stream",
          "name": "stdout",
          "text": [
            "V W X\n"
          ]
        }
      ]
    },
    {
      "cell_type": "code",
      "source": [
        "# Vadim Kopeykin https://stepik.org/lesson/83975/step/1?discussion=8790255&thread=solutions&unit=60547\n",
        "\n",
        "import numpy as np\n",
        "\n",
        "y = np.array([0, 0.45, 0.4, 0.76, 0.5, 0.65, 0.7, 0.75, 0.3, 0.65, 0.7, 0.76, 0.6, 0.8, 0.71, 0.7])\n",
        "features = 'XWVU'\n",
        "\n",
        "cols = list(range(len(features)))   # список индексов от 0 до 3 (соответствующих длине строки features).\n",
        "best_features = \"\"                  # пустая строка, в которую будут добавляться лучшие признаки.\n",
        "score, row = 0, 0                   # начальный лучший результат, начальное значение ряда\n",
        "while cols:\n",
        "    rows = np.array([row | (1 << i) for i in cols]) # массив rows, состоящий из значений row, к которому добавляется битовый сдвиг влево на 1 для каждого индекса из cols.\n",
        "    print('rows содержит:', rows) #\n",
        "    scores = y[rows]                # создаём массив scores, выбирая элементы из y с индексами из rows.\n",
        "    index = scores.argmax()         # находим индекс index максимального значения в scores.\n",
        "    print('scores[index]:', scores[index]) #\n",
        "    if scores[index] < score:       # если максимальное значение в scores меньше текущего score, цикл прерывается.\n",
        "        break\n",
        "    score, row = scores[index], rows[index]     # обновляем score и row новыми значениями.\n",
        "    best_features += features[cols[index]]      # добавляем соответствующий элемент из features в строку best_features.\n",
        "    del cols[index]                             # удаляем использованный индекс из cols.\n",
        "print(best_features)"
      ],
      "metadata": {
        "colab": {
          "base_uri": "https://localhost:8080/"
        },
        "id": "kPHMb2oelD_W",
        "outputId": "9295c72c-14fd-4f61-d5cc-2f33da0d34f1"
      },
      "execution_count": null,
      "outputs": [
        {
          "output_type": "stream",
          "name": "stdout",
          "text": [
            "rows содержит: [1 2 4 8]\n",
            "scores[index]: 0.5\n",
            "rows содержит: [ 5  6 12]\n",
            "scores[index]: 0.7\n",
            "rows содержит: [ 7 14]\n",
            "scores[index]: 0.75\n",
            "rows содержит: [15]\n",
            "scores[index]: 0.7\n",
            "VWX\n"
          ]
        }
      ]
    },
    {
      "cell_type": "markdown",
      "source": [
        "## Задача 11.6.5\n",
        "https://stepik.org/lesson/83975/step/5\n",
        "\n",
        "Рассмотрим работу SMOTE-алгоритма по синтезу новых объектов\n",
        "\n",
        "Даны два объекта\n",
        "\n",
        "<img src='https://ucarecdn.com/1b4b356b-2cd3-448e-b602-766357a76b68/'>\n",
        "\n",
        "**Заполните пропуски**\n",
        "\n",
        "Параметр линейной комбинации а равен `0,25`. Значения признаков синтетического объекта равны: Р1 = `___`, Р2 = `___`.\n",
        "\n"
      ],
      "metadata": {
        "id": "_SWRYOkUHtKw"
      }
    },
    {
      "cell_type": "code",
      "source": [
        "import pandas as pd\n",
        "\n",
        "data = pd.DataFrame({'P1': [1, 5],\n",
        "                     'P2': [2, 10],\n",
        "                     'Y': [1, 1]},\n",
        "                    index=['A', 'B'])\n",
        "a = 0.25\n",
        "# Добавляем новую строку \"C\", которая является линейной комбинацией строк \"A\" и \"B\"\n",
        "data.loc['C'] = a * data.loc['A'] + (1 - a) * data.loc['B']\n",
        "print(data)"
      ],
      "metadata": {
        "colab": {
          "base_uri": "https://localhost:8080/"
        },
        "id": "2_6zP15gH0iu",
        "outputId": "23dae3b4-fc5a-4424-f7f7-78f3224c8828"
      },
      "execution_count": null,
      "outputs": [
        {
          "output_type": "stream",
          "name": "stdout",
          "text": [
            "    P1    P2    Y\n",
            "A  1.0   2.0  1.0\n",
            "B  5.0  10.0  1.0\n",
            "C  4.0   8.0  1.0\n"
          ]
        }
      ]
    },
    {
      "cell_type": "code",
      "source": [
        "# Пример из лекции\n",
        "import pandas as pd\n",
        "\n",
        "# Создаем DataFrame с двумя строками\n",
        "data = pd.DataFrame({'P1': [200, 150],\n",
        "                     'P2': [100, 50],\n",
        "                     'Y': [1, 0]},\n",
        "                    index=['A', 'B'])\n",
        "\n",
        "# Устанавливаем значение коэффициента a\n",
        "a = 0.1\n",
        "\n",
        "# Добавляем новую строку \"C\", которая является линейной комбинацией строк \"A\" и \"B\"\n",
        "data.loc['C'] = a * data.loc['A'] + (1 - a) * data.loc['B']\n",
        "\n",
        "# Выводим результат\n",
        "print(data)"
      ],
      "metadata": {
        "colab": {
          "base_uri": "https://localhost:8080/"
        },
        "id": "aMbf6JpMHoM3",
        "outputId": "ff2e1d12-ad74-4469-aeed-1fd35eb55255"
      },
      "execution_count": null,
      "outputs": [
        {
          "output_type": "stream",
          "name": "stdout",
          "text": [
            "      P1     P2    Y\n",
            "A  200.0  100.0  1.0\n",
            "B  150.0   50.0  0.0\n",
            "C  155.0   55.0  0.1\n"
          ]
        }
      ]
    }
  ]
}