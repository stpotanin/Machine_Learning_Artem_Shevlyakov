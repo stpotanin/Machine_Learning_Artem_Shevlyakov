{
  "nbformat": 4,
  "nbformat_minor": 0,
  "metadata": {
    "colab": {
      "provenance": []
    },
    "kernelspec": {
      "name": "ir",
      "display_name": "R"
    },
    "language_info": {
      "name": "R"
    }
  },
  "cells": [
    {
      "cell_type": "markdown",
      "source": [
        "https://stepik.org/lesson/190156/step/1\n",
        "\n",
        "Дана таблица с объектами.\n",
        "\n",
        "<img src=https://ucarecdn.com/269a2964-08db-403b-bc6b-307b323a02bb/>\n",
        "\n",
        "Построим линейный классификатор, в котором выражение $[Mi<0]$ мажорируется функцией $(1-M)^2$. Получим следующее правило классификации:\n",
        "\n",
        "Заполните пропуски\n",
        "\n",
        "если X > `____`, то объект из класса `1`, иначе объект из класса `-1` (ответ записать в виде десятичной дроби, округленной до двух знаков после запятой).\n"
      ],
      "metadata": {
        "id": "IrUcMAWhy7lV"
      }
    },
    {
      "cell_type": "code",
      "source": [
        "data <- data.frame(rbind('A' = c(-2, -1),\n",
        "                         'B' = c(-1, -1),\n",
        "                         'C' = c(0, 1),\n",
        "                         'D' = c(1, 1),\n",
        "                         'E' = c(2, 1)\n",
        "                         ))\n",
        "colnames(data) <- c('X', 'Y')\n",
        "data"
      ],
      "metadata": {
        "id": "z90aTrtAMCVG",
        "colab": {
          "base_uri": "https://localhost:8080/",
          "height": 255
        },
        "outputId": "866a9afa-1482-4bf4-dcb1-a2fc275abf0a"
      },
      "execution_count": null,
      "outputs": [
        {
          "output_type": "display_data",
          "data": {
            "text/html": [
              "<table class=\"dataframe\">\n",
              "<caption>A data.frame: 5 × 2</caption>\n",
              "<thead>\n",
              "\t<tr><th></th><th scope=col>X</th><th scope=col>Y</th></tr>\n",
              "\t<tr><th></th><th scope=col>&lt;dbl&gt;</th><th scope=col>&lt;dbl&gt;</th></tr>\n",
              "</thead>\n",
              "<tbody>\n",
              "\t<tr><th scope=row>A</th><td>-2</td><td>-1</td></tr>\n",
              "\t<tr><th scope=row>B</th><td>-1</td><td>-1</td></tr>\n",
              "\t<tr><th scope=row>C</th><td> 0</td><td> 1</td></tr>\n",
              "\t<tr><th scope=row>D</th><td> 1</td><td> 1</td></tr>\n",
              "\t<tr><th scope=row>E</th><td> 2</td><td> 1</td></tr>\n",
              "</tbody>\n",
              "</table>\n"
            ],
            "text/markdown": "\nA data.frame: 5 × 2\n\n| <!--/--> | X &lt;dbl&gt; | Y &lt;dbl&gt; |\n|---|---|---|\n| A | -2 | -1 |\n| B | -1 | -1 |\n| C |  0 |  1 |\n| D |  1 |  1 |\n| E |  2 |  1 |\n\n",
            "text/latex": "A data.frame: 5 × 2\n\\begin{tabular}{r|ll}\n  & X & Y\\\\\n  & <dbl> & <dbl>\\\\\n\\hline\n\tA & -2 & -1\\\\\n\tB & -1 & -1\\\\\n\tC &  0 &  1\\\\\n\tD &  1 &  1\\\\\n\tE &  2 &  1\\\\\n\\end{tabular}\n",
            "text/plain": [
              "  X  Y \n",
              "A -2 -1\n",
              "B -1 -1\n",
              "C  0  1\n",
              "D  1  1\n",
              "E  2  1"
            ]
          },
          "metadata": {}
        }
      ]
    },
    {
      "cell_type": "markdown",
      "source": [
        "Отступы объектов равны:\n",
        "\n",
        "$\n",
        "M_1=-1(-2w_1+w_0)\\\\\n",
        "M_2=-1(-1w_1+w_0)\\\\\n",
        "M_3=1(0w_1+w_0)\\\\\n",
        "M_4=1(1w_1+w_0)\\\\\n",
        "M_5=1(2w_1+w_0)\n",
        "$\n",
        "\n",
        "В качестве мажорирующей функции возьмём $Q(M)=(1-M)^2$\n",
        "\n",
        "$\n",
        "L = \\\\\n",
        "(1 - -1(-2w_1+w_0))^2 +\\\\\n",
        "(1 - -1(-1w_1+w_0))^2 +\\\\\n",
        "(1 - 1(0w_1+w_0))^2 +\\\\\n",
        "(1 - 1(1w_1+w_0))^2 +\\\\\n",
        "(1 - 1(2w_1+w_0))^2\n",
        "$\n",
        "\n",
        "$\n",
        "L = \\\\\n",
        "(1+(-2w_1+w_0))^2 +\\\\\n",
        "(1+(-w_1+w_0))^2 +\\\\\n",
        "(1-(0+w_0))^2 +\\\\\n",
        "(1-(w_1+w_0))^2 +\\\\\n",
        "(1-(2w_1+w_0))^2\n",
        "$\n",
        "\n",
        "Упрощаем:\n",
        "\n",
        "$\n",
        "L = 10w_1^2-12w_1+5w_0^2-2w_0+5\n",
        "$\n",
        "\n",
        "Находим частные производные:\n",
        "\n",
        "$\n",
        "dL/dw_1 = 20w_1 - 12 = 0\\\\\n",
        "dL/dw_0 = 10w_0 - 2 = 0\n",
        "$\n",
        "\n",
        "$\n",
        "w_1=\\frac{3}{5}\\\\\n",
        "w_0=\\frac{1}{5}\n",
        "$\n",
        "\n",
        "$\n",
        "0.6x + 0.2 = 0\\\\\n",
        "x=-\\frac{1}{3}\n",
        "$\n",
        "\n",
        "Ответ: `-0,33`"
      ],
      "metadata": {
        "id": "0YfNV29ifwd4"
      }
    },
    {
      "cell_type": "code",
      "source": [
        "fit <- lm(data$Y ~ data$X)\n",
        "-fit$coefficients[1] / fit$coefficients[2]"
      ],
      "metadata": {
        "colab": {
          "base_uri": "https://localhost:8080/",
          "height": 34
        },
        "id": "OthlEE1zdKMN",
        "outputId": "15953a86-bcae-48e8-e79a-8f043160ba68"
      },
      "execution_count": null,
      "outputs": [
        {
          "output_type": "display_data",
          "data": {
            "text/html": [
              "<strong>(Intercept):</strong> -0.333333333333333"
            ],
            "text/markdown": "**(Intercept):** -0.333333333333333",
            "text/latex": "\\textbf{(Intercept):} -0.333333333333333",
            "text/plain": [
              "(Intercept) \n",
              " -0.3333333 "
            ]
          },
          "metadata": {}
        }
      ]
    }
  ]
}