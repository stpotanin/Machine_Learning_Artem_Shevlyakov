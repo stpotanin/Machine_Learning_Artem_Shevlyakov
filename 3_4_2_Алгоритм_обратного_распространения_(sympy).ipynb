{
  "nbformat": 4,
  "nbformat_minor": 0,
  "metadata": {
    "colab": {
      "provenance": [],
      "authorship_tag": "ABX9TyM6doZiB2SgOtcp/X7Mcyz1"
    },
    "kernelspec": {
      "name": "python3",
      "display_name": "Python 3"
    },
    "language_info": {
      "name": "python"
    }
  },
  "cells": [
    {
      "cell_type": "markdown",
      "source": [
        "https://stepik.org/lesson/572880/step/2\n",
        "\n",
        "Итак, у нас будет одна переменная х (это будет единственный лист графа). Далее идут вершины $a:=2^x,b:=3^x,c:=a+b,d:=ab,f:=c/d$, где $f$ - корень графа (он соответствует всей функции $f(x)$).\n",
        "\n",
        "Последовательно найдите частные производные $∂f/∂c,∂f/∂d,∂f/∂a,∂f/∂b,∂f/∂x$. Собственно, последняя частная производная в списке и будет окончательным ответом.\n",
        "\n",
        "В окошко ответа запишите значение $∂f/∂x(1)$."
      ],
      "metadata": {
        "id": "QQocGdVnyWEy"
      }
    },
    {
      "cell_type": "markdown",
      "source": [
        "# Решение\n",
        "\n",
        "<img src='https://ucarecdn.com/7ec45130-9d2a-403c-aa9a-34a9234d5afc/' width=200>\n",
        "\n",
        "$df/dc = \\frac{1}{d}$\n",
        "\n",
        "$df/dd = -\\frac{c}{d^2}$\n",
        "\n",
        "> $dc/da = 1$ ; $dc/db = 1$\n",
        "\n",
        "> $dd/da = a$ ; $dd/db = b$\n",
        "\n",
        "$df/da = df/dc * dc/da + df/dd * dd/da = \\frac{1}{d} -\\frac{ac}{d^2}$\n",
        "\n",
        "$df/db = df/dc * dc/db + df/dd * dd/db = \\frac{1}{d} -\\frac{bc}{d^2}$\n",
        "\n",
        "> $da/dx = 2^x ln2$\n",
        "\n",
        "> $db/dx = 3^x ln3$\n",
        "\n",
        "$df/dx = df/da * da/dx + df/db * db/dx = (\\frac{1}{d} -\\frac{ac}{d^2})2^x ln2 + (\\frac{1}{d} -\\frac{bc}{d^2})3^x ln3$\n",
        "\n",
        "Подставляем $c=a+b,d=ab$\n",
        "\n",
        "$ = (\\frac{1}{ab} -\\frac{a(a+b)}{(ab)^2})2^x ln2 + (\\frac{1}{ab} -\\frac{b(a+b)}{(ab)^2})3^x ln3$\n",
        "\n",
        "Группируем члены с одинаковыми коэффициентами:\n",
        "\n",
        "$ = \\frac{1}{ab}(2^x \\ln2 + 3^x \\ln3) - \\frac{a(a+b)}{(ab)^2}2^x \\ln2 - \\frac{b(a+b)}{(ab)^2}3^x \\ln3 $\n",
        "\n",
        "Упрощаем дроби:\n",
        "\n",
        "$ = \\frac{1}{ab}(2^x \\ln2 + 3^x \\ln3) - \\frac{a+b}{ab} \\left( \\frac{a}{ab}2^x \\ln2 + \\frac{b}{ab}3^x \\ln3 \\right) $\n",
        "\n",
        "$ = \\frac{1}{ab}(2^x \\ln2 + 3^x \\ln3) - \\frac{a+b}{ab} \\left( \\frac{2^x \\ln2}{b} + \\frac{3^x \\ln3}{a} \\right)$\n",
        "\n",
        "Подставляем $a = 2^x , b = 3^x$:\n",
        "\n",
        "$(\\frac{1}{2^x 3^x} - \\frac{2^x(2^x+3^x)}{(2^x 3^x)^2})2^x \\ln2 + (\\frac{1}{2^x 3^x} - \\frac{3^x(2^x+3^x)}{(2^x 3^x)^2})3^x \\ln3$\n",
        "\n",
        "Упрощаем:\n",
        "\n",
        "$(\\frac{1}{2^x 3^x} - \\frac{2^x(2^x+3^x)}{(2^x 3^x)^2})2^x \\ln2 + (\\frac{1}{2^x 3^x} - \\frac{3^x(2^x+3^x)}{(2^x 3^x)^2})3^x \\ln3$\n",
        "\n",
        "$= (\\frac{1}{2^x 3^x} - \\frac{2^x(2^x+3^x)}{2^{2x} 3^{2x}})2^x \\ln2 + (\\frac{1}{2^x 3^x} - \\frac{3^x(2^x+3^x)}{2^{2x} 3^{2x}})3^x \\ln3$\n",
        "\n",
        "$= (\\frac{1}{2^x 3^x} - \\frac{2^{2x}+2^x 3^x}{2^{2x} 3^{2x}})2^x \\ln2 + (\\frac{1}{2^x 3^x} - \\frac{2^x 3^x+3^{2x}}{2^{2x} 3^{2x}})3^x \\ln3$\n",
        "\n",
        "$= (\\frac{1}{2^x 3^x} - \\frac{2^{2x}}{2^{2x} 3^{2x}} - \\frac{2^x 3^x}{2^{2x} 3^{2x}})2^x \\ln2 + (\\frac{1}{2^x 3^x} - \\frac{2^x 3^x}{2^{2x} 3^{2x}} - \\frac{3^{2x}}{2^{2x} 3^{2x}})3^x \\ln3$\n",
        "\n",
        "$= (\\frac{1}{2^x 3^x} - \\frac{1}{3^{2x}} - \\frac{1}{2^x 3^x})2^x \\ln2 + (\\frac{1}{2^x 3^x} - \\frac{1}{2^{2x}} - \\frac{1}{2^x 3^x})3^x \\ln3$\n",
        "\n",
        "$= (-\\frac{1}{3^{2x}})2^x \\ln2 + (-\\frac{1}{2^{2x}})3^x \\ln3$\n",
        "\n",
        "$= -\\frac{2^x \\ln2}{3^{2x}} - \\frac{3^x \\ln3}{2^{2x}} = -\\frac{2^x 2^{-2x} \\ln2}{3^x} - \\frac{3^x 3^{-2x} \\ln3}{2^x} = -\\frac{2^{-x} \\ln2}{3^x} - \\frac{3^{-x} \\ln3}{2^x}$\n",
        "\n",
        "$\\frac{2^x}{3^{2x}} \\ln2 + \\frac{3^x}{2^{2x}} \\ln3$\n",
        "\n",
        "Подставив $x = 1$, получаем $-0.71$"
      ],
      "metadata": {
        "id": "m6HqvjnsRm0Q"
      }
    },
    {
      "cell_type": "code",
      "source": [
        "#@Проверка через title sympy + IPython.display\n",
        "\n",
        "from sympy import symbols, diff, simplify\n",
        "from IPython.display import display\n",
        "from sympy.abc import x\n",
        "\n",
        "a = 2**x\n",
        "b = 3**x\n",
        "c = a + b\n",
        "d = a * b\n",
        "f = c / d\n",
        "\n",
        "print('\\nПроизводная a по x:\\n')\n",
        "display(diff(a, x))  # Важно использовать display\n",
        "\n",
        "print('\\nПроизводная b по x:\\n')\n",
        "display(diff(b, x))\n",
        "\n",
        "print('\\nПроизводная c по x:\\n')\n",
        "display(diff(c, x))\n",
        "\n",
        "print('\\nПроизводная d по x:\\n')\n",
        "display(diff(d, x))\n",
        "\n",
        "print('\\nПроизводная f по x:\\n') # TODO\n",
        "display(diff(f, x))\n",
        "\n",
        "a = (1,)\n",
        "\n",
        "print(f'\\nПроизводная по x в точке {a}:\\n')\n",
        "display(diff(f, x).subs({x:a[0]}))\n",
        "\n",
        "print('\\nРавна', round(float(diff(f, x).subs({x:a[0]})), 2))\n"
      ],
      "metadata": {
        "id": "7J_2xbWA5JtA",
        "outputId": "f63f641b-32a6-472f-a437-4b6b4d6cafc5",
        "colab": {
          "base_uri": "https://localhost:8080/",
          "height": 501
        }
      },
      "execution_count": null,
      "outputs": [
        {
          "output_type": "stream",
          "name": "stdout",
          "text": [
            "\n",
            "Производная a по x:\n",
            "\n"
          ]
        },
        {
          "output_type": "display_data",
          "data": {
            "text/plain": [
              "2**x*log(2)"
            ],
            "text/latex": "$\\displaystyle 2^{x} \\log{\\left(2 \\right)}$"
          },
          "metadata": {}
        },
        {
          "output_type": "stream",
          "name": "stdout",
          "text": [
            "\n",
            "Производная b по x:\n",
            "\n"
          ]
        },
        {
          "output_type": "display_data",
          "data": {
            "text/plain": [
              "3**x*log(3)"
            ],
            "text/latex": "$\\displaystyle 3^{x} \\log{\\left(3 \\right)}$"
          },
          "metadata": {}
        },
        {
          "output_type": "stream",
          "name": "stdout",
          "text": [
            "\n",
            "Производная c по x:\n",
            "\n"
          ]
        },
        {
          "output_type": "display_data",
          "data": {
            "text/plain": [
              "2**x*log(2) + 3**x*log(3)"
            ],
            "text/latex": "$\\displaystyle 2^{x} \\log{\\left(2 \\right)} + 3^{x} \\log{\\left(3 \\right)}$"
          },
          "metadata": {}
        },
        {
          "output_type": "stream",
          "name": "stdout",
          "text": [
            "\n",
            "Производная d по x:\n",
            "\n"
          ]
        },
        {
          "output_type": "display_data",
          "data": {
            "text/plain": [
              "6**x*log(6)"
            ],
            "text/latex": "$\\displaystyle 6^{x} \\log{\\left(6 \\right)}$"
          },
          "metadata": {}
        },
        {
          "output_type": "stream",
          "name": "stdout",
          "text": [
            "\n",
            "Производная f по x:\n",
            "\n"
          ]
        },
        {
          "output_type": "display_data",
          "data": {
            "text/plain": [
              "-(2**x + 3**x)*log(6)/6**x + (2**x*log(2) + 3**x*log(3))/6**x"
            ],
            "text/latex": "$\\displaystyle - 6^{- x} \\left(2^{x} + 3^{x}\\right) \\log{\\left(6 \\right)} + 6^{- x} \\left(2^{x} \\log{\\left(2 \\right)} + 3^{x} \\log{\\left(3 \\right)}\\right)$"
          },
          "metadata": {}
        },
        {
          "output_type": "stream",
          "name": "stdout",
          "text": [
            "\n",
            "Производная по x в точке (1,):\n",
            "\n"
          ]
        },
        {
          "output_type": "display_data",
          "data": {
            "text/plain": [
              "-5*log(6)/6 + log(2)/3 + log(3)/2"
            ],
            "text/latex": "$\\displaystyle - \\frac{5 \\log{\\left(6 \\right)}}{6} + \\frac{\\log{\\left(2 \\right)}}{3} + \\frac{\\log{\\left(3 \\right)}}{2}$"
          },
          "metadata": {}
        },
        {
          "output_type": "stream",
          "name": "stdout",
          "text": [
            "\n",
            "Равна -0.71\n"
          ]
        }
      ]
    },
    {
      "cell_type": "markdown",
      "source": [
        "$-6^{-x}(2^x+3^x)log(6)+6^{-x}(2^x log(2) + 3^x log(3))$"
      ],
      "metadata": {
        "id": "1TOoINuGliXW"
      }
    },
    {
      "cell_type": "markdown",
      "source": [
        "# OpenAI\n",
        "Для нахождения частных производных функции $ f = \\frac{c}{d} $, где $ c = a + b $, $ d = ab $, $ a = 2^x $ и $ b = 3^x $, последовательно выполним следующие шаги:\n",
        "\n",
        "### Шаг 1: Найдем $ \\frac{\\partial f}{\\partial c} $\n",
        "Функция $ f $ выражена как:\n",
        "$$\n",
        "f = \\frac{c}{d}.\n",
        "$$\n",
        "Применим правило дифференцирования для дроби:\n",
        "$$\n",
        "\\frac{\\partial f}{\\partial c} = \\frac{1}{d}.\n",
        "$$\n",
        "\n",
        "### Шаг 2: Найдем $ \\frac{\\partial f}{\\partial d} $\n",
        "Аналогично, дифференцируем $ f $ по $ d $:\n",
        "$$\n",
        "\\frac{\\partial f}{\\partial d} = -\\frac{c}{d^2}.\n",
        "$$\n",
        "\n",
        "### Шаг 3: Найдем $ \\frac{\\partial f}{\\partial a} $\n",
        "Для этого нам нужно использовать цепное правило. Учитывая, что:\n",
        "$$\n",
        "c = a + b \\quad \\text{и} \\quad d = ab,\n",
        "$$\n",
        "мы найдем производные по $ a $ от $ c $ и $ d $:\n",
        "$$\n",
        "\\frac{\\partial c}{\\partial a} = 1, \\quad \\frac{\\partial d}{\\partial a} = b.\n",
        "$$\n",
        "Теперь, используя цепное правило:\n",
        "$$\n",
        "\\frac{\\partial f}{\\partial a} = \\frac{\\partial f}{\\partial c} \\cdot \\frac{\\partial c}{\\partial a} + \\frac{\\partial f}{\\partial d} \\cdot \\frac{\\partial d}{\\partial a},\n",
        "$$\n",
        "подставим ранее найденные значения:\n",
        "$$\n",
        "\\frac{\\partial f}{\\partial a} = \\frac{1}{d} \\cdot 1 + \\left( -\\frac{c}{d^2} \\right) \\cdot b = \\frac{1}{d} - \\frac{bc}{d^2}.\n",
        "$$\n",
        "\n",
        "### Шаг 4: Найдем $ \\frac{\\partial f}{\\partial b} $\n",
        "Аналогично:\n",
        "$$\n",
        "\\frac{\\partial c}{\\partial b} = 1, \\quad \\frac{\\partial d}{\\partial b} = a,\n",
        "$$\n",
        "и используем цепное правило:\n",
        "$$\n",
        "\\frac{\\partial f}{\\partial b} = \\frac{\\partial f}{\\partial c} \\cdot \\frac{\\partial c}{\\partial b} + \\frac{\\partial f}{\\partial d} \\cdot \\frac{\\partial d}{\\partial b},\n",
        "$$\n",
        "подставим значения:\n",
        "$$\n",
        "\\frac{\\partial f}{\\partial b} = \\frac{1}{d} \\cdot 1 + \\left( -\\frac{c}{d^2} \\right) \\cdot a = \\frac{1}{d} - \\frac{ac}{d^2}.\n",
        "$$\n",
        "\n",
        "### Шаг 5: Найдем $ \\frac{\\partial f}{\\partial x} $\n",
        "Нам снова нужно использовать цепное правило. Учитывая, что:\n",
        "$$\n",
        "a = 2^x \\quad \\text{и} \\quad b = 3^x,\n",
        "$$\n",
        "найдем производные по $ x $ от $ a $ и $ b $:\n",
        "$$\n",
        "\\frac{\\partial a}{\\partial x} = 2^x \\ln 2, \\quad \\frac{\\partial b}{\\partial x} = 3^x \\ln 3.\n",
        "$$\n",
        "Теперь используем цепное правило для $ f $:\n",
        "$$\n",
        "\\frac{\\partial f}{\\partial x} = \\frac{\\partial f}{\\partial a} \\cdot \\frac{\\partial a}{\\partial x} + \\frac{\\partial f}{\\partial b} \\cdot \\frac{\\partial b}{\\partial x},\n",
        "$$\n",
        "подставим ранее найденные значения:\n",
        "$$\n",
        "\\frac{\\partial f}{\\partial x} = \\left( \\frac{1}{d} - \\frac{bc}{d^2} \\right) \\cdot 2^x \\ln 2 + \\left( \\frac{1}{d} - \\frac{ac}{d^2} \\right) \\cdot 3^x \\ln 3.\n",
        "$$\n",
        "\n",
        "Таким образом, мы последовательно нашли все частные производные $ f $ по переменным $ c $, $ d $, $ a $, $ b $ и $ x $."
      ],
      "metadata": {
        "id": "RrZTaDf32Sfx"
      }
    },
    {
      "cell_type": "markdown",
      "source": [
        "Для того чтобы найти $ \\frac{\\partial f}{\\partial x}(1) $, подставим $ x = 1 $ в итоговую формулу для производной:\n",
        "\n",
        "### Шаг 1: Подставим $ x = 1 $ в выражения для $ a $, $ b $, $ c $, $ d $ и $ f $\n",
        "- $ a = 2^x $, значит $ a(1) = 2 $,\n",
        "- $ b = 3^x $, значит $ b(1) = 3 $,\n",
        "- $ c = a + b $, значит $ c(1) = 2 + 3 = 5 $,\n",
        "- $ d = ab $, значит $ d(1) = 2 \\cdot 3 = 6 $.\n",
        "\n",
        "### Шаг 2: Подставим значения $ a(1) $, $ b(1) $, $ c(1) $, $ d(1) $ в формулу для $ \\frac{\\partial f}{\\partial x} $\n",
        "\n",
        "Напомним, что:\n",
        "$$\n",
        "\\frac{\\partial f}{\\partial x} = \\left( \\frac{1}{d} - \\frac{bc}{d^2} \\right) \\cdot 2^x \\ln 2 + \\left( \\frac{1}{d} - \\frac{ac}{d^2} \\right) \\cdot 3^x \\ln 3.\n",
        "$$\n",
        "Подставляем значения при $ x = 1 $:\n",
        "- $ 2^1 = 2 $,\n",
        "- $ 3^1 = 3 $,\n",
        "- $ \\ln 2 $ и $ \\ln 3 $ оставляем как логарифмы.\n",
        "\n",
        "Теперь вычисляем каждый член:\n",
        "$$\n",
        "\\frac{\\partial f}{\\partial x}(1) = \\left( \\frac{1}{6} - \\frac{3 \\cdot 5}{6^2} \\right) \\cdot 2 \\ln 2 + \\left( \\frac{1}{6} - \\frac{2 \\cdot 5}{6^2} \\right) \\cdot 3 \\ln 3.\n",
        "$$\n",
        "\n",
        "### Шаг 3: Упрощаем выражение\n",
        "Вычислим дроби:\n",
        "$$\n",
        "\\frac{1}{6} - \\frac{15}{36} = \\frac{1}{6} - \\frac{5}{12} = \\frac{2}{12} - \\frac{5}{12} = -\\frac{3}{12} = -\\frac{1}{4},\n",
        "$$\n",
        "$$\n",
        "\\frac{1}{6} - \\frac{10}{36} = \\frac{1}{6} - \\frac{5}{18} = \\frac{3}{18} - \\frac{5}{18} = -\\frac{2}{18} = -\\frac{1}{9}.\n",
        "$$\n",
        "Теперь подставляем в исходную формулу:\n",
        "$$\n",
        "\\frac{\\partial f}{\\partial x}(1) = \\left( -\\frac{1}{4} \\right) \\cdot 2 \\ln 2 + \\left( -\\frac{1}{9} \\right) \\cdot 3 \\ln 3,\n",
        "$$\n",
        "упрощаем:\n",
        "$$\n",
        "\\frac{\\partial f}{\\partial x}(1) = -\\frac{1}{2} \\ln 2 - \\frac{1}{3} \\ln 3.\n",
        "$$\n",
        "\n",
        "### Ответ:\n",
        "$$\n",
        "\\frac{\\partial f}{\\partial x}(1) = -\\frac{1}{2} \\ln 2 - \\frac{1}{3} \\ln 3.\n",
        "$$"
      ],
      "metadata": {
        "id": "6mucfp2c4hJD"
      }
    }
  ]
}