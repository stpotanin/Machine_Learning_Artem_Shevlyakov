{
  "nbformat": 4,
  "nbformat_minor": 0,
  "metadata": {
    "colab": {
      "provenance": [],
      "authorship_tag": "ABX9TyOHmtHmC4iLKq280c/RzcZ+"
    },
    "kernelspec": {
      "name": "python3",
      "display_name": "Python 3"
    },
    "language_info": {
      "name": "python"
    }
  },
  "cells": [
    {
      "cell_type": "markdown",
      "source": [
        "https://stepik.org/lesson/190153/step/1 https://education.yandex.ru/handbook/ml/article/linear-models\n",
        "\n",
        "Объекты в следующей таблице имеют два нецелевых признака Х1, Х2.\n",
        "\n",
        "<img src='https://ucarecdn.com/19191481-eeff-4ace-81cc-1fc848fee2a8/' width=300px>\n",
        "\n",
        "Проблема в том, что существует сильная (даже линейная) зависимость между признаками X1,X2.\n",
        "\n",
        "Построим модель линейной регрессии с регуляризацией для предсказания признака Y (значение константы регуляризации С положить равным 1).\n",
        "\n",
        "Заполните пропуски\n",
        "\n",
        "Полученная модель будет иметь вид: Y = `___` Х1 + `___` Х2 + `___`\n",
        " (найденные значения округлить до двух знаков после запятой).\n",
        "\n",
        "\\$$\\displaystyle{\\displaylines{R=L(w1,w2, w0)+C(w1^2+w2^2+w0^2)}}$$"
      ],
      "metadata": {
        "id": "IrUcMAWhy7lV"
      }
    },
    {
      "cell_type": "markdown",
      "source": [],
      "metadata": {
        "id": "P-nAqZPq0uWw"
      }
    },
    {
      "cell_type": "markdown",
      "source": [
        "<img src='https://ucarecdn.com/a1984da7-52ad-4156-87fe-b0d134eb58dd/'>"
      ],
      "metadata": {
        "id": "kycTvQYX0upA"
      }
    },
    {
      "cell_type": "markdown",
      "source": [
        "Будем минимизировать выражение:\n",
        "\n",
        "$\n",
        "R = L(w_1, w_2, w_0) + w_1^2 + w_2^2 + w_0^2\n",
        "$\n",
        "\n",
        "где $w_1, w_2, w_0$ - коэффициенты линейной регрессии (уравнения, которое хотим получить), а\n",
        "\n",
        "$L(w_1, w_2, w_0)$ - сумма квадратов расстояний от реальных точек до предсказанных:\n",
        "\n",
        "<img src='https://habrastorage.org/r/w1560/webt/vh/dt/b1/vhdtb1elxvvw8coyhhharuklwtw.png'>\n",
        "\n",
        "Конкретно в нашем случае:\n",
        "\n",
        "$\n",
        "L(w_1, w_2, w_0) = (w_1 * 0 + w_2 * 3 + w_0 - 0)^2 + (w_1 * 1 + w_2 * 2 + w_0 - 1)^2 + (w_1 * 0 + w_2 * 3 + w_0 - 0)^2\n",
        "$\n",
        "\n",
        "После раскрытия скобок и приведение подобных слагаемых получаем:\n",
        "\n",
        "$\n",
        "R = 5w_0^2 + 15w_1^2 + 15w_2^2 + 12w_0 w_1 + 12w_0 w_2 + 8w_1 w_2 - 8w_0 - 20w_1 - 4w_2 + 10\n",
        "$\n",
        "\n",
        "Берём частные производные по $w_1, w_2, w_0$:\n",
        "\n",
        "$\n",
        "\\frac{dR}{dw_0} = 10w_0 + 12w_1 + 12w_2 - 8 \\\\\n",
        "\\frac{dR}{dw_1} = 12w_0 + 30w_1 + 8w_2 - 20 \\\\\n",
        "\\frac{dR}{dw_2} = 10w_0 + 8w_1 + 30w_2 - 4\n",
        "$\n",
        "\n",
        "Решаем получившуюся систему из трёх уравнений!\n",
        "\n",
        "P.S.\n",
        "1.   $L(w_1, w_2, w_0)$ это так называемый `Лагранжиан`, поэтому `L`\n",
        "2.   Условие \"значение константы регуляризации С положить равным 1\" отражено в единичном коэффициенте для слагаемого$(w_1^2 + w_2^2 + w_0^2)$"
      ],
      "metadata": {
        "id": "k1Zm5mzd2FW6"
      }
    },
    {
      "cell_type": "code",
      "source": [
        "import numpy as np\n",
        "\n",
        "X = np.array([[10, 12, 12],\n",
        "              [12, 30, 8],\n",
        "              [12, 8, 30],\n",
        "             ])\n",
        "y = np.array([8, 20, 4])\n",
        "\n",
        "np.linalg.solve(X, y)"
      ],
      "metadata": {
        "colab": {
          "base_uri": "https://localhost:8080/"
        },
        "id": "z7RzeN1dVsjt",
        "outputId": "7c92a720-aeaa-4afc-8561-215e013b5c77"
      },
      "execution_count": null,
      "outputs": [
        {
          "output_type": "execute_result",
          "data": {
            "text/plain": [
              "array([ 0.17391304,  0.62450593, -0.1027668 ])"
            ]
          },
          "metadata": {},
          "execution_count": 8
        }
      ]
    },
    {
      "cell_type": "code",
      "source": [
        "# c_1 = 0.1739130434782609\n",
        "# b_1 = 0.6245059288537549\n",
        "# a_1 = -0.1027667984189723"
      ],
      "metadata": {
        "colab": {
          "base_uri": "https://localhost:8080/",
          "height": 34
        },
        "id": "K-9lalb8lOjz",
        "outputId": "f8f4fefb-d1e1-420f-9cad-0ed5a82decbb"
      },
      "execution_count": null,
      "outputs": [
        {
          "output_type": "display_data",
          "data": {
            "text/html": [
              "-1"
            ],
            "text/markdown": "-1",
            "text/latex": "-1",
            "text/plain": [
              "[1] -1"
            ]
          },
          "metadata": {}
        }
      ]
    }
  ]
}