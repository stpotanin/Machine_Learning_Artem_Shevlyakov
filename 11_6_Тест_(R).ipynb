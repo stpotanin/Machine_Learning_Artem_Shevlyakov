{
  "nbformat": 4,
  "nbformat_minor": 0,
  "metadata": {
    "colab": {
      "provenance": []
    },
    "kernelspec": {
      "name": "ir",
      "display_name": "R"
    },
    "language_info": {
      "name": "R"
    }
  },
  "cells": [
    {
      "cell_type": "markdown",
      "source": [
        "## Задача 11.6.1\n",
        "https://stepik.org/lesson/83975/step/1\n",
        "\n",
        "В таблице дана точность модели построенной с помощью нецелевых признаков U, V, W, X (если в таблице стоит 0, то соответствующий признак не использовался при построении модели).\n",
        "\n",
        "<img src='https://ucarecdn.com/7088390b-94de-4101-bf50-1435f1e782a4/'>\n",
        "\n",
        "Используя жадный алгоритм отбора признаков (который начинает свою работу с пустого набора признаков), найдем все признаки, попавшие в оптимальный набор.\n",
        "\n",
        "**Выберите все подходящие ответы из списка**\n",
        "\n",
        "`X` `W` V `U`"
      ],
      "metadata": {
        "id": "IrUcMAWhy7lV"
      }
    },
    {
      "cell_type": "code",
      "source": [
        "df <- data.frame(rbind(c(0, 0, 0, 0, 0),\n",
        "                       c(0, 0, 0, 1, 0.45),\n",
        "                       c(0, 0, 1, 0, 0.4),\n",
        "                       c(0, 0, 1, 1, 0.76),\n",
        "                       c(0, 1, 0, 0, 0.5),\n",
        "                       c(0, 1, 0, 1, 0.65),\n",
        "                       c(0, 1, 1, 0, 0.7),\n",
        "                       c(0, 1, 1, 1, 0.75),\n",
        "                       c(1, 0, 0, 0, 0.3),\n",
        "                       c(1, 0, 0, 1, 0.65),\n",
        "                       c(1, 0, 1, 0, 0.7),\n",
        "                       c(1, 0, 1, 1, 0.76),\n",
        "                       c(1, 1, 0, 0, 0.6),\n",
        "                       c(1, 1, 0, 1, 0.8),\n",
        "                       c(1, 1, 1, 0, 0.71),\n",
        "                       c(1, 1, 1, 1, 0.7)\n",
        "                    ))\n",
        "colnames(df) <- c('U', 'V', 'W', 'X', 'Y')\n",
        "df"
      ],
      "metadata": {
        "id": "aJ96hLjH8mZK",
        "colab": {
          "base_uri": "https://localhost:8080/",
          "height": 599
        },
        "outputId": "e64e280a-53c7-4866-d01f-754e1ef1099b"
      },
      "execution_count": null,
      "outputs": [
        {
          "output_type": "display_data",
          "data": {
            "text/html": [
              "<table class=\"dataframe\">\n",
              "<caption>A data.frame: 16 × 5</caption>\n",
              "<thead>\n",
              "\t<tr><th scope=col>U</th><th scope=col>V</th><th scope=col>W</th><th scope=col>X</th><th scope=col>Y</th></tr>\n",
              "\t<tr><th scope=col>&lt;dbl&gt;</th><th scope=col>&lt;dbl&gt;</th><th scope=col>&lt;dbl&gt;</th><th scope=col>&lt;dbl&gt;</th><th scope=col>&lt;dbl&gt;</th></tr>\n",
              "</thead>\n",
              "<tbody>\n",
              "\t<tr><td>0</td><td>0</td><td>0</td><td>0</td><td>0.00</td></tr>\n",
              "\t<tr><td>0</td><td>0</td><td>0</td><td>1</td><td>0.45</td></tr>\n",
              "\t<tr><td>0</td><td>0</td><td>1</td><td>0</td><td>0.40</td></tr>\n",
              "\t<tr><td>0</td><td>0</td><td>1</td><td>1</td><td>0.76</td></tr>\n",
              "\t<tr><td>0</td><td>1</td><td>0</td><td>0</td><td>0.50</td></tr>\n",
              "\t<tr><td>0</td><td>1</td><td>0</td><td>1</td><td>0.65</td></tr>\n",
              "\t<tr><td>0</td><td>1</td><td>1</td><td>0</td><td>0.70</td></tr>\n",
              "\t<tr><td>0</td><td>1</td><td>1</td><td>1</td><td>0.75</td></tr>\n",
              "\t<tr><td>1</td><td>0</td><td>0</td><td>0</td><td>0.30</td></tr>\n",
              "\t<tr><td>1</td><td>0</td><td>0</td><td>1</td><td>0.65</td></tr>\n",
              "\t<tr><td>1</td><td>0</td><td>1</td><td>0</td><td>0.70</td></tr>\n",
              "\t<tr><td>1</td><td>0</td><td>1</td><td>1</td><td>0.76</td></tr>\n",
              "\t<tr><td>1</td><td>1</td><td>0</td><td>0</td><td>0.60</td></tr>\n",
              "\t<tr><td>1</td><td>1</td><td>0</td><td>1</td><td>0.80</td></tr>\n",
              "\t<tr><td>1</td><td>1</td><td>1</td><td>0</td><td>0.71</td></tr>\n",
              "\t<tr><td>1</td><td>1</td><td>1</td><td>1</td><td>0.70</td></tr>\n",
              "</tbody>\n",
              "</table>\n"
            ],
            "text/markdown": "\nA data.frame: 16 × 5\n\n| U &lt;dbl&gt; | V &lt;dbl&gt; | W &lt;dbl&gt; | X &lt;dbl&gt; | Y &lt;dbl&gt; |\n|---|---|---|---|---|\n| 0 | 0 | 0 | 0 | 0.00 |\n| 0 | 0 | 0 | 1 | 0.45 |\n| 0 | 0 | 1 | 0 | 0.40 |\n| 0 | 0 | 1 | 1 | 0.76 |\n| 0 | 1 | 0 | 0 | 0.50 |\n| 0 | 1 | 0 | 1 | 0.65 |\n| 0 | 1 | 1 | 0 | 0.70 |\n| 0 | 1 | 1 | 1 | 0.75 |\n| 1 | 0 | 0 | 0 | 0.30 |\n| 1 | 0 | 0 | 1 | 0.65 |\n| 1 | 0 | 1 | 0 | 0.70 |\n| 1 | 0 | 1 | 1 | 0.76 |\n| 1 | 1 | 0 | 0 | 0.60 |\n| 1 | 1 | 0 | 1 | 0.80 |\n| 1 | 1 | 1 | 0 | 0.71 |\n| 1 | 1 | 1 | 1 | 0.70 |\n\n",
            "text/latex": "A data.frame: 16 × 5\n\\begin{tabular}{lllll}\n U & V & W & X & Y\\\\\n <dbl> & <dbl> & <dbl> & <dbl> & <dbl>\\\\\n\\hline\n\t 0 & 0 & 0 & 0 & 0.00\\\\\n\t 0 & 0 & 0 & 1 & 0.45\\\\\n\t 0 & 0 & 1 & 0 & 0.40\\\\\n\t 0 & 0 & 1 & 1 & 0.76\\\\\n\t 0 & 1 & 0 & 0 & 0.50\\\\\n\t 0 & 1 & 0 & 1 & 0.65\\\\\n\t 0 & 1 & 1 & 0 & 0.70\\\\\n\t 0 & 1 & 1 & 1 & 0.75\\\\\n\t 1 & 0 & 0 & 0 & 0.30\\\\\n\t 1 & 0 & 0 & 1 & 0.65\\\\\n\t 1 & 0 & 1 & 0 & 0.70\\\\\n\t 1 & 0 & 1 & 1 & 0.76\\\\\n\t 1 & 1 & 0 & 0 & 0.60\\\\\n\t 1 & 1 & 0 & 1 & 0.80\\\\\n\t 1 & 1 & 1 & 0 & 0.71\\\\\n\t 1 & 1 & 1 & 1 & 0.70\\\\\n\\end{tabular}\n",
            "text/plain": [
              "   U V W X Y   \n",
              "1  0 0 0 0 0.00\n",
              "2  0 0 0 1 0.45\n",
              "3  0 0 1 0 0.40\n",
              "4  0 0 1 1 0.76\n",
              "5  0 1 0 0 0.50\n",
              "6  0 1 0 1 0.65\n",
              "7  0 1 1 0 0.70\n",
              "8  0 1 1 1 0.75\n",
              "9  1 0 0 0 0.30\n",
              "10 1 0 0 1 0.65\n",
              "11 1 0 1 0 0.70\n",
              "12 1 0 1 1 0.76\n",
              "13 1 1 0 0 0.60\n",
              "14 1 1 0 1 0.80\n",
              "15 1 1 1 0 0.71\n",
              "16 1 1 1 1 0.70"
            ]
          },
          "metadata": {}
        }
      ]
    },
    {
      "cell_type": "code",
      "source": [
        "res <- function(df, f) {\n",
        "    return(df[df[1] == f[1] & df[2] == f[2] & df[3] == f[3] & df[4] == f[4], 5])\n",
        "    }\n",
        "\n",
        "best_features <- c(0, 0, 0, 0)\n",
        "for (foo in 1:4){\n",
        "    new_features <- best_features\n",
        "    for (i in 1:4){\n",
        "        features <- best_features\n",
        "        features[i] <- 1\n",
        "        if (res(df, new_features) < res(df, features)){\n",
        "            new_features <- features\n",
        "        }\n",
        "    }\n",
        "    best_features <- new_features\n",
        "    print(best_features) # выводим этап отбора для наглядности\n",
        "}\n",
        "\n",
        "colnames(df[,1:4])[which(best_features == 1)]\n"
      ],
      "metadata": {
        "id": "TR5fQNBPb4yY",
        "colab": {
          "base_uri": "https://localhost:8080/",
          "height": 107
        },
        "outputId": "712b56d7-000f-4a83-df88-9df2b63188d4"
      },
      "execution_count": null,
      "outputs": [
        {
          "output_type": "stream",
          "name": "stdout",
          "text": [
            "[1] 0 1 0 0\n",
            "[1] 0 1 1 0\n",
            "[1] 0 1 1 1\n",
            "[1] 0 1 1 1\n"
          ]
        },
        {
          "output_type": "display_data",
          "data": {
            "text/html": [
              "<style>\n",
              ".list-inline {list-style: none; margin:0; padding: 0}\n",
              ".list-inline>li {display: inline-block}\n",
              ".list-inline>li:not(:last-child)::after {content: \"\\00b7\"; padding: 0 .5ex}\n",
              "</style>\n",
              "<ol class=list-inline><li>'V'</li><li>'W'</li><li>'X'</li></ol>\n"
            ],
            "text/markdown": "1. 'V'\n2. 'W'\n3. 'X'\n\n\n",
            "text/latex": "\\begin{enumerate*}\n\\item 'V'\n\\item 'W'\n\\item 'X'\n\\end{enumerate*}\n",
            "text/plain": [
              "[1] \"V\" \"W\" \"X\""
            ]
          },
          "metadata": {}
        }
      ]
    },
    {
      "cell_type": "markdown",
      "source": [
        "**Этот код выполняет следующие действия:**\n",
        "\n",
        "Создает DataFrame df с заданными данными и столбцами U, V, W, X, Y.\n",
        "\n",
        "Определяет функцию res, которая возвращает значение столбца Y для строки, соответствующей заданным значениям признаков.\n",
        "\n",
        "**Основная логика:**\n",
        "\n",
        "Инициализация best_features нулями.\n",
        "\n",
        "Внешний цикл проходит 4 раза.\n",
        "\n",
        "Внутренний цикл проходит по индексам признаков и проверяет, улучшится ли результат, если установить текущий признак в 1.\n",
        "\n",
        "Печать этапов отбора признаков.\n",
        "\n",
        "Печатает выбранные признаки на основе финальных значений best_features."
      ],
      "metadata": {
        "id": "tfS86UjC_xM3"
      }
    },
    {
      "cell_type": "markdown",
      "source": [
        "## Задача 11.6.2\n",
        "https://stepik.org/lesson/83975/step/2\n",
        "\n",
        "Укажите необходимые условия возникновения проклятия размерности:\n",
        "\n",
        "**Выберите все подходящие ответы из списка**\n",
        "\n",
        "*    используются данные без нормировки\n",
        "\n",
        "*    `признаков очень много`\n",
        "\n",
        "*    `используются метрические алгоритмы`\n",
        "\n",
        "*    признаки малоинформативны\n",
        "\n",
        "*    существует зависимость между признаками\n",
        "\n",
        "*    всё вышеперечисленное"
      ],
      "metadata": {
        "id": "5uJ2_jnTa3tM"
      }
    },
    {
      "cell_type": "code",
      "source": [
        "# признаков очень много\n",
        "# используются метрические алгоритмы"
      ],
      "metadata": {
        "id": "5FwiwoU6lr7q"
      },
      "execution_count": null,
      "outputs": []
    },
    {
      "cell_type": "markdown",
      "source": [
        "## Задача 11.6.3\n",
        "https://stepik.org/lesson/83975/step/3\n",
        "\n",
        "Пусть объекты имеют нецелевые признаки `Р1, Р2, Р3` и целевой признак `Y`. Будем использовать генетический алгоритм для отбора признаков для задачи предсказания признака `Y`.\n",
        "\n",
        "**Заполните пропуски**\n",
        "\n",
        "Каким вектором задается «особь», утверждающая, что признаки `Р1` и `Р3` информативны, а признак `Р2` — нет `(____`, `____`, `____`).\n",
        "\n"
      ],
      "metadata": {
        "id": "gEoaed6LhHFf"
      }
    },
    {
      "cell_type": "code",
      "source": [
        "c(1, 0, 1)"
      ],
      "metadata": {
        "colab": {
          "base_uri": "https://localhost:8080/",
          "height": 34
        },
        "id": "DQEDwHVkmxyh",
        "outputId": "cd1e4fc0-cf46-4f9d-c158-8bae39897fbb"
      },
      "execution_count": null,
      "outputs": [
        {
          "output_type": "display_data",
          "data": {
            "text/html": [
              "<style>\n",
              ".list-inline {list-style: none; margin:0; padding: 0}\n",
              ".list-inline>li {display: inline-block}\n",
              ".list-inline>li:not(:last-child)::after {content: \"\\00b7\"; padding: 0 .5ex}\n",
              "</style>\n",
              "<ol class=list-inline><li>1</li><li>0</li><li>1</li></ol>\n"
            ],
            "text/markdown": "1. 1\n2. 0\n3. 1\n\n\n",
            "text/latex": "\\begin{enumerate*}\n\\item 1\n\\item 0\n\\item 1\n\\end{enumerate*}\n",
            "text/plain": [
              "[1] 1 0 1"
            ]
          },
          "metadata": {}
        }
      ]
    },
    {
      "cell_type": "markdown",
      "source": [
        "\n",
        "\n",
        "```\n",
        "# Выбран кодовый формат\n",
        "```\n",
        "\n",
        "## Задача 11.6.4\n",
        "https://stepik.org/lesson/83975/step/4\n",
        "\n",
        "Пусть объекты имеют нецелевые признаки Р1, Р2, Р3, Р4 и целевой признак Y. Будем использовать генетический алгоритм для отбора признаков для задачи предсказания признака Y. Какое «потомство» произведут «особи» (1,0,1,0), (0,0,1,1) при наборе индексов {3,4}\n",
        "\n",
        "**Выберите один вариант из списка**\n",
        "\n",
        "*    (1,1,1,1)\n",
        "\n",
        "*    (1,0,1,1) и (0,0,1,0)\n",
        "\n",
        "*    (1,0,1,0) и (0,0,1,1)\n",
        "\n",
        "*    (1,0,0,1)\n",
        "\n",
        "*    (1,1,1,1) и (0,1,1,0)"
      ],
      "metadata": {
        "id": "hBf2eTUWqUDq"
      }
    },
    {
      "cell_type": "code",
      "source": [
        "c(0, 0, 1, 0)\n",
        "c(1, 0, 1, 1)"
      ],
      "metadata": {
        "colab": {
          "base_uri": "https://localhost:8080/",
          "height": 52
        },
        "id": "1WjfVASToQ_H",
        "outputId": "29fcfdf5-d004-4912-c09a-6735fb5312e9"
      },
      "execution_count": null,
      "outputs": [
        {
          "output_type": "display_data",
          "data": {
            "text/html": [
              "<style>\n",
              ".list-inline {list-style: none; margin:0; padding: 0}\n",
              ".list-inline>li {display: inline-block}\n",
              ".list-inline>li:not(:last-child)::after {content: \"\\00b7\"; padding: 0 .5ex}\n",
              "</style>\n",
              "<ol class=list-inline><li>0</li><li>0</li><li>1</li><li>0</li></ol>\n"
            ],
            "text/markdown": "1. 0\n2. 0\n3. 1\n4. 0\n\n\n",
            "text/latex": "\\begin{enumerate*}\n\\item 0\n\\item 0\n\\item 1\n\\item 0\n\\end{enumerate*}\n",
            "text/plain": [
              "[1] 0 0 1 0"
            ]
          },
          "metadata": {}
        },
        {
          "output_type": "display_data",
          "data": {
            "text/html": [
              "<style>\n",
              ".list-inline {list-style: none; margin:0; padding: 0}\n",
              ".list-inline>li {display: inline-block}\n",
              ".list-inline>li:not(:last-child)::after {content: \"\\00b7\"; padding: 0 .5ex}\n",
              "</style>\n",
              "<ol class=list-inline><li>1</li><li>0</li><li>1</li><li>1</li></ol>\n"
            ],
            "text/markdown": "1. 1\n2. 0\n3. 1\n4. 1\n\n\n",
            "text/latex": "\\begin{enumerate*}\n\\item 1\n\\item 0\n\\item 1\n\\item 1\n\\end{enumerate*}\n",
            "text/plain": [
              "[1] 1 0 1 1"
            ]
          },
          "metadata": {}
        }
      ]
    },
    {
      "cell_type": "markdown",
      "source": [
        "## Задача 11.6.5\n",
        "https://stepik.org/lesson/83975/step/5\n",
        "\n",
        "Рассмотрим работу SMOTE-алгоритма по синтезу новых объектов\n",
        "\n",
        "Даны два объекта\n",
        "\n",
        "<img src='https://ucarecdn.com/1b4b356b-2cd3-448e-b602-766357a76b68/'>\n",
        "\n",
        "**Заполните пропуски**\n",
        "\n",
        "Параметр линейной комбинации а равен `0,25`. Значения признаков синтетического объекта равны: Р1 = `___`, Р2 = `___`.\n",
        "\n"
      ],
      "metadata": {
        "id": "JteXVNXjjIZx"
      }
    },
    {
      "cell_type": "code",
      "source": [
        "# Пример из лекции\n",
        "data <- data.frame(rbind(\"A\" = c(200, 100, 1),\n",
        "                         \"B\" = c(150, 50, 0)))\n",
        "colnames(data) <- c('P1', 'P2', 'Y')\n",
        "a <- 0.1\n",
        "data[\"С\",] <- a * data[\"A\",] + (1 - a)  * data[\"B\",]\n",
        "data"
      ],
      "metadata": {
        "colab": {
          "base_uri": "https://localhost:8080/",
          "height": 192
        },
        "id": "WINVmmWFubJv",
        "outputId": "2630982f-7ca9-4ccb-a24d-9c506ddcd4e5"
      },
      "execution_count": null,
      "outputs": [
        {
          "output_type": "display_data",
          "data": {
            "text/html": [
              "<table class=\"dataframe\">\n",
              "<caption>A data.frame: 3 × 3</caption>\n",
              "<thead>\n",
              "\t<tr><th></th><th scope=col>P1</th><th scope=col>P2</th><th scope=col>Y</th></tr>\n",
              "\t<tr><th></th><th scope=col>&lt;dbl&gt;</th><th scope=col>&lt;dbl&gt;</th><th scope=col>&lt;dbl&gt;</th></tr>\n",
              "</thead>\n",
              "<tbody>\n",
              "\t<tr><th scope=row>A</th><td>200</td><td>100</td><td>1.0</td></tr>\n",
              "\t<tr><th scope=row>B</th><td>150</td><td> 50</td><td>0.0</td></tr>\n",
              "\t<tr><th scope=row>С</th><td>155</td><td> 55</td><td>0.1</td></tr>\n",
              "</tbody>\n",
              "</table>\n"
            ],
            "text/markdown": "\nA data.frame: 3 × 3\n\n| <!--/--> | P1 &lt;dbl&gt; | P2 &lt;dbl&gt; | Y &lt;dbl&gt; |\n|---|---|---|---|\n| A | 200 | 100 | 1.0 |\n| B | 150 |  50 | 0.0 |\n| С | 155 |  55 | 0.1 |\n\n",
            "text/latex": "A data.frame: 3 × 3\n\\begin{tabular}{r|lll}\n  & P1 & P2 & Y\\\\\n  & <dbl> & <dbl> & <dbl>\\\\\n\\hline\n\tA & 200 & 100 & 1.0\\\\\n\tB & 150 &  50 & 0.0\\\\\n\tС & 155 &  55 & 0.1\\\\\n\\end{tabular}\n",
            "text/plain": [
              "  P1  P2  Y  \n",
              "A 200 100 1.0\n",
              "B 150  50 0.0\n",
              "С 155  55 0.1"
            ]
          },
          "metadata": {}
        }
      ]
    },
    {
      "cell_type": "code",
      "source": [
        "# Задача\n",
        "data <- data.frame(rbind(\"A\" = c(1, 2, 1),\n",
        "                         \"B\" = c(5, 10, 1)))\n",
        "colnames(data) <- c('P1', 'P2', 'Y')\n",
        "a <- 0.25\n",
        "data[\"C\",] <- a * data[\"A\",] + (1 - a)  * data[\"B\",]\n",
        "data"
      ],
      "metadata": {
        "colab": {
          "base_uri": "https://localhost:8080/",
          "height": 192
        },
        "id": "vbj7m9sMF3oO",
        "outputId": "eb730bbe-d6b6-4eeb-85f4-2145fb086cd2"
      },
      "execution_count": null,
      "outputs": [
        {
          "output_type": "display_data",
          "data": {
            "text/html": [
              "<table class=\"dataframe\">\n",
              "<caption>A data.frame: 3 × 3</caption>\n",
              "<thead>\n",
              "\t<tr><th></th><th scope=col>P1</th><th scope=col>P2</th><th scope=col>Y</th></tr>\n",
              "\t<tr><th></th><th scope=col>&lt;dbl&gt;</th><th scope=col>&lt;dbl&gt;</th><th scope=col>&lt;dbl&gt;</th></tr>\n",
              "</thead>\n",
              "<tbody>\n",
              "\t<tr><th scope=row>A</th><td>1</td><td> 2</td><td>1</td></tr>\n",
              "\t<tr><th scope=row>B</th><td>5</td><td>10</td><td>1</td></tr>\n",
              "\t<tr><th scope=row>C</th><td>4</td><td> 8</td><td>1</td></tr>\n",
              "</tbody>\n",
              "</table>\n"
            ],
            "text/markdown": "\nA data.frame: 3 × 3\n\n| <!--/--> | P1 &lt;dbl&gt; | P2 &lt;dbl&gt; | Y &lt;dbl&gt; |\n|---|---|---|---|\n| A | 1 |  2 | 1 |\n| B | 5 | 10 | 1 |\n| C | 4 |  8 | 1 |\n\n",
            "text/latex": "A data.frame: 3 × 3\n\\begin{tabular}{r|lll}\n  & P1 & P2 & Y\\\\\n  & <dbl> & <dbl> & <dbl>\\\\\n\\hline\n\tA & 1 &  2 & 1\\\\\n\tB & 5 & 10 & 1\\\\\n\tC & 4 &  8 & 1\\\\\n\\end{tabular}\n",
            "text/plain": [
              "  P1 P2 Y\n",
              "A 1   2 1\n",
              "B 5  10 1\n",
              "C 4   8 1"
            ]
          },
          "metadata": {}
        }
      ]
    }
  ]
}