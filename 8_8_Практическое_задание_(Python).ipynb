{
  "nbformat": 4,
  "nbformat_minor": 0,
  "metadata": {
    "colab": {
      "provenance": []
    },
    "kernelspec": {
      "name": "python3",
      "display_name": "Python 3"
    },
    "language_info": {
      "name": "python"
    }
  },
  "cells": [
    {
      "cell_type": "markdown",
      "source": [
        "https://stepik.org/lesson/190156/step/1\n",
        "\n",
        "Дана таблица с объектами.\n",
        "\n",
        "<img src=https://ucarecdn.com/269a2964-08db-403b-bc6b-307b323a02bb/>\n",
        "\n",
        "Построим линейный классификатор, в котором выражение $[Mi<0]$ мажорируется функцией $(1-M)^2$. Получим следующее правило классификации:\n",
        "\n",
        "Заполните пропуски\n",
        "\n",
        "если X > `____`, то объект из класса `1`, иначе объект из класса `-1` (ответ записать в виде десятичной дроби, округленной до двух знаков после запятой).\n"
      ],
      "metadata": {
        "id": "IrUcMAWhy7lV"
      }
    },
    {
      "cell_type": "code",
      "source": [
        "# Vadim Kopeykin https://stepik.org/lesson/190156/step/1?discussion=8776693&thread=solutions&unit=164661\n",
        "import numpy as np\n",
        "from numpy.linalg import inv\n",
        "\n",
        "X = np.array([[-2, 1], [-1, 1], [0, 1], [1, 1], [2, 1]])\n",
        "y = np.array([-1, -1, 1, 1, 1])\n",
        "\n",
        "w = inv(X.T @ X) @ X.T @ y\n",
        "print(w.round(2))\n",
        "print((-w[1] / w[0]).round(2))\n"
      ],
      "metadata": {
        "id": "z90aTrtAMCVG",
        "colab": {
          "base_uri": "https://localhost:8080/"
        },
        "outputId": "6fca6c03-ed5c-49e4-db83-e8cc2248c54e"
      },
      "execution_count": null,
      "outputs": [
        {
          "output_type": "stream",
          "name": "stdout",
          "text": [
            "[0.6 0.2]\n",
            "-0.33\n"
          ]
        }
      ]
    },
    {
      "cell_type": "markdown",
      "source": [
        "Отступы объектов равны:\n",
        "\n",
        "$\n",
        "M_1=-1(-2w_1+w_0)\\\\\n",
        "M_2=-1(-1w_1+w_0)\\\\\n",
        "M_3=1(0w_1+w_0)\\\\\n",
        "M_4=1(1w_1+w_0)\\\\\n",
        "M_5=1(2w_1+w_0)\n",
        "$\n",
        "\n",
        "В качестве мажорирующей функции возьмём $Q(M)=(1-M)^2$\n",
        "\n",
        "$\n",
        "L = \\\\\n",
        "(1 - -1(-2w_1+w_0))^2 +\\\\\n",
        "(1 - -1(-1w_1+w_0))^2 +\\\\\n",
        "(1 - 1(0w_1+w_0))^2 +\\\\\n",
        "(1 - 1(1w_1+w_0))^2 +\\\\\n",
        "(1 - 1(2w_1+w_0))^2\n",
        "$\n",
        "\n",
        "$\n",
        "L = \\\\\n",
        "(1+(-2w_1+w_0))^2 +\\\\\n",
        "(1+(-w_1+w_0))^2 +\\\\\n",
        "(1-(0+w_0))^2 +\\\\\n",
        "(1-(w_1+w_0))^2 +\\\\\n",
        "(1-(2w_1+w_0))^2\n",
        "$\n",
        "\n",
        "Упрощаем:\n",
        "\n",
        "$\n",
        "L = 10w_1^2-12w_1+5w_0^2-2w_0+5\n",
        "$\n",
        "\n",
        "Находим частные производные:\n",
        "\n",
        "$\n",
        "dL/dw_1 = 20w_1 - 12 = 0\\\\\n",
        "dL/dw_0 = 10w_0 - 2 = 0\n",
        "$\n",
        "\n",
        "$\n",
        "w_1=\\frac{3}{5}\\\\\n",
        "w_0=\\frac{1}{5}\n",
        "$\n",
        "\n",
        "$\n",
        "0.6x + 0.2 = 0\\\\\n",
        "x=-\\frac{1}{3}\n",
        "$\n",
        "\n",
        "Ответ: `-0,33`"
      ],
      "metadata": {
        "id": "0YfNV29ifwd4"
      }
    }
  ]
}