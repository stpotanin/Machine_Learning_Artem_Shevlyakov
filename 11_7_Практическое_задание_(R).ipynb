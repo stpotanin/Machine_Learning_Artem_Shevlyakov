{
  "nbformat": 4,
  "nbformat_minor": 0,
  "metadata": {
    "colab": {
      "provenance": []
    },
    "kernelspec": {
      "name": "ir",
      "display_name": "R"
    },
    "language_info": {
      "name": "R"
    }
  },
  "cells": [
    {
      "cell_type": "markdown",
      "source": [
        "## Задача 11.7\n",
        "https://stepik.org/lesson/190159/step/1\n",
        "\n",
        "В таблице дана точность модели построенной с помощью нецелевых признаков `U, V, W, X` (если в таблице стоит `0`, то соответствующий признак не использовался при построении модели).\n",
        "\n",
        "<img src='https://ucarecdn.com/df01953b-2e3d-4001-b7d0-55f511af12f3/'>\n",
        "\n",
        "Используя жадный алгоритм отбора признаков (который начинает свою работу с полного набора признаков `{U,V,W,X}`), найдем все признаки, попавшие в оптимальный набор."
      ],
      "metadata": {
        "id": "NxgLtay8tdoQ"
      }
    },
    {
      "cell_type": "code",
      "execution_count": null,
      "metadata": {
        "id": "m_UYR-Nvtamd",
        "colab": {
          "base_uri": "https://localhost:8080/",
          "height": 599
        },
        "outputId": "a2e6b1cb-7944-4373-9a56-248723f48d9f"
      },
      "outputs": [
        {
          "output_type": "display_data",
          "data": {
            "text/html": [
              "<table class=\"dataframe\">\n",
              "<caption>A data.frame: 16 × 5</caption>\n",
              "<thead>\n",
              "\t<tr><th scope=col>U</th><th scope=col>V</th><th scope=col>W</th><th scope=col>X</th><th scope=col>Y</th></tr>\n",
              "\t<tr><th scope=col>&lt;dbl&gt;</th><th scope=col>&lt;dbl&gt;</th><th scope=col>&lt;dbl&gt;</th><th scope=col>&lt;dbl&gt;</th><th scope=col>&lt;dbl&gt;</th></tr>\n",
              "</thead>\n",
              "<tbody>\n",
              "\t<tr><td>0</td><td>0</td><td>0</td><td>0</td><td>0.00</td></tr>\n",
              "\t<tr><td>0</td><td>0</td><td>0</td><td>1</td><td>0.75</td></tr>\n",
              "\t<tr><td>0</td><td>0</td><td>1</td><td>0</td><td>0.55</td></tr>\n",
              "\t<tr><td>0</td><td>0</td><td>1</td><td>1</td><td>0.65</td></tr>\n",
              "\t<tr><td>0</td><td>1</td><td>0</td><td>0</td><td>0.50</td></tr>\n",
              "\t<tr><td>0</td><td>1</td><td>0</td><td>1</td><td>0.82</td></tr>\n",
              "\t<tr><td>0</td><td>1</td><td>1</td><td>0</td><td>0.87</td></tr>\n",
              "\t<tr><td>0</td><td>1</td><td>1</td><td>1</td><td>0.62</td></tr>\n",
              "\t<tr><td>1</td><td>0</td><td>0</td><td>0</td><td>0.80</td></tr>\n",
              "\t<tr><td>1</td><td>0</td><td>0</td><td>1</td><td>0.84</td></tr>\n",
              "\t<tr><td>1</td><td>0</td><td>1</td><td>0</td><td>0.85</td></tr>\n",
              "\t<tr><td>1</td><td>0</td><td>1</td><td>1</td><td>0.70</td></tr>\n",
              "\t<tr><td>1</td><td>1</td><td>0</td><td>0</td><td>0.81</td></tr>\n",
              "\t<tr><td>1</td><td>1</td><td>0</td><td>1</td><td>0.80</td></tr>\n",
              "\t<tr><td>1</td><td>1</td><td>1</td><td>0</td><td>0.75</td></tr>\n",
              "\t<tr><td>1</td><td>1</td><td>1</td><td>1</td><td>0.60</td></tr>\n",
              "</tbody>\n",
              "</table>\n"
            ],
            "text/markdown": "\nA data.frame: 16 × 5\n\n| U &lt;dbl&gt; | V &lt;dbl&gt; | W &lt;dbl&gt; | X &lt;dbl&gt; | Y &lt;dbl&gt; |\n|---|---|---|---|---|\n| 0 | 0 | 0 | 0 | 0.00 |\n| 0 | 0 | 0 | 1 | 0.75 |\n| 0 | 0 | 1 | 0 | 0.55 |\n| 0 | 0 | 1 | 1 | 0.65 |\n| 0 | 1 | 0 | 0 | 0.50 |\n| 0 | 1 | 0 | 1 | 0.82 |\n| 0 | 1 | 1 | 0 | 0.87 |\n| 0 | 1 | 1 | 1 | 0.62 |\n| 1 | 0 | 0 | 0 | 0.80 |\n| 1 | 0 | 0 | 1 | 0.84 |\n| 1 | 0 | 1 | 0 | 0.85 |\n| 1 | 0 | 1 | 1 | 0.70 |\n| 1 | 1 | 0 | 0 | 0.81 |\n| 1 | 1 | 0 | 1 | 0.80 |\n| 1 | 1 | 1 | 0 | 0.75 |\n| 1 | 1 | 1 | 1 | 0.60 |\n\n",
            "text/latex": "A data.frame: 16 × 5\n\\begin{tabular}{lllll}\n U & V & W & X & Y\\\\\n <dbl> & <dbl> & <dbl> & <dbl> & <dbl>\\\\\n\\hline\n\t 0 & 0 & 0 & 0 & 0.00\\\\\n\t 0 & 0 & 0 & 1 & 0.75\\\\\n\t 0 & 0 & 1 & 0 & 0.55\\\\\n\t 0 & 0 & 1 & 1 & 0.65\\\\\n\t 0 & 1 & 0 & 0 & 0.50\\\\\n\t 0 & 1 & 0 & 1 & 0.82\\\\\n\t 0 & 1 & 1 & 0 & 0.87\\\\\n\t 0 & 1 & 1 & 1 & 0.62\\\\\n\t 1 & 0 & 0 & 0 & 0.80\\\\\n\t 1 & 0 & 0 & 1 & 0.84\\\\\n\t 1 & 0 & 1 & 0 & 0.85\\\\\n\t 1 & 0 & 1 & 1 & 0.70\\\\\n\t 1 & 1 & 0 & 0 & 0.81\\\\\n\t 1 & 1 & 0 & 1 & 0.80\\\\\n\t 1 & 1 & 1 & 0 & 0.75\\\\\n\t 1 & 1 & 1 & 1 & 0.60\\\\\n\\end{tabular}\n",
            "text/plain": [
              "   U V W X Y   \n",
              "1  0 0 0 0 0.00\n",
              "2  0 0 0 1 0.75\n",
              "3  0 0 1 0 0.55\n",
              "4  0 0 1 1 0.65\n",
              "5  0 1 0 0 0.50\n",
              "6  0 1 0 1 0.82\n",
              "7  0 1 1 0 0.87\n",
              "8  0 1 1 1 0.62\n",
              "9  1 0 0 0 0.80\n",
              "10 1 0 0 1 0.84\n",
              "11 1 0 1 0 0.85\n",
              "12 1 0 1 1 0.70\n",
              "13 1 1 0 0 0.81\n",
              "14 1 1 0 1 0.80\n",
              "15 1 1 1 0 0.75\n",
              "16 1 1 1 1 0.60"
            ]
          },
          "metadata": {}
        }
      ],
      "source": [
        "df <- data.frame(rbind(c(0, 0, 0, 0, 0),\n",
        "                       c(0, 0, 0, 1, 0.75),\n",
        "                       c(0, 0, 1, 0, 0.55),\n",
        "                       c(0, 0, 1, 1, 0.65),\n",
        "                       c(0, 1, 0, 0, 0.5),\n",
        "                       c(0, 1, 0, 1, 0.82),\n",
        "                       c(0, 1, 1, 0, 0.87),\n",
        "                       c(0, 1, 1, 1, 0.62),\n",
        "                       c(1, 0, 0, 0, 0.8),\n",
        "                       c(1, 0, 0, 1, 0.84),\n",
        "                       c(1, 0, 1, 0, 0.85),\n",
        "                       c(1, 0, 1, 1, 0.7),\n",
        "                       c(1, 1, 0, 0, 0.81),\n",
        "                       c(1, 1, 0, 1, 0.8),\n",
        "                       c(1, 1, 1, 0, 0.75),\n",
        "                       c(1, 1, 1, 1, 0.6)\n",
        "                    ))\n",
        "colnames(df) <- c('U', 'V', 'W', 'X', 'Y')\n",
        "df"
      ]
    },
    {
      "cell_type": "code",
      "source": [
        "res <- function(df, f) {\n",
        "    return(df[df[1] == f[1] & df[2] == f[2] & df[3] == f[3] & df[4] == f[4], 5])\n",
        "    }\n",
        "\n",
        "best_features <- c(1, 1, 1, 1)\n",
        "for (foo in 1:4){\n",
        "    new_features <- best_features\n",
        "    for (i in 1:4){\n",
        "        features <- best_features\n",
        "        features[i] <- 0\n",
        "        if (res(df, new_features) < res(df, features)){\n",
        "            new_features <- features\n",
        "        }\n",
        "    }\n",
        "    best_features <- new_features\n",
        "    print(best_features) # выводим этап отбора для наглядности\n",
        "}\n",
        "\n",
        "colnames(df[,1:4])[which(best_features == 1)]"
      ],
      "metadata": {
        "colab": {
          "base_uri": "https://localhost:8080/",
          "height": 107
        },
        "id": "YpuQ9t780Hgd",
        "outputId": "77f74b97-d067-41af-a0e1-987fc6f4b2c2"
      },
      "execution_count": null,
      "outputs": [
        {
          "output_type": "stream",
          "name": "stdout",
          "text": [
            "[1] 1 1 0 1\n",
            "[1] 1 0 0 1\n",
            "[1] 1 0 0 1\n",
            "[1] 1 0 0 1\n"
          ]
        },
        {
          "output_type": "display_data",
          "data": {
            "text/html": [
              "<style>\n",
              ".list-inline {list-style: none; margin:0; padding: 0}\n",
              ".list-inline>li {display: inline-block}\n",
              ".list-inline>li:not(:last-child)::after {content: \"\\00b7\"; padding: 0 .5ex}\n",
              "</style>\n",
              "<ol class=list-inline><li>'U'</li><li>'X'</li></ol>\n"
            ],
            "text/markdown": "1. 'U'\n2. 'X'\n\n\n",
            "text/latex": "\\begin{enumerate*}\n\\item 'U'\n\\item 'X'\n\\end{enumerate*}\n",
            "text/plain": [
              "[1] \"U\" \"X\""
            ]
          },
          "metadata": {}
        }
      ]
    }
  ]
}