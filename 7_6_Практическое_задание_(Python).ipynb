{
  "nbformat": 4,
  "nbformat_minor": 0,
  "metadata": {
    "colab": {
      "provenance": [],
      "authorship_tag": "ABX9TyNFf6k9uTOolI9nLrZ0cKcl"
    },
    "kernelspec": {
      "name": "python3",
      "display_name": "Python 3"
    },
    "language_info": {
      "name": "python"
    }
  },
  "cells": [
    {
      "cell_type": "markdown",
      "source": [
        "https://stepik.org/lesson/190155/step/1\n",
        "\n",
        "Дана таблица, объекты в которой обладают нецелевыми признаками `P1`, `P2`, `P3` и целевым признаком `Y`\n",
        "\n",
        "<img src='https://ucarecdn.com/01bc4ded-74b7-4035-a44c-788253d44d3c/'>\n",
        "\n",
        "Как известно в качестве условия ветвления выбирается признак с минимальным значением неопределенности Джини. Вычислим эту величину для каждого нецелевого признака.\n",
        "\n",
        "**Заполните пропуски**\n",
        "\n",
        "Неопределенность Джини признака Р1 равна ___\n",
        " (с точностью до двух знаков после запятой).\n",
        "\n",
        " Неопределенность Джини признака Р2 равна ___\n",
        " (с точностью до двух знаков после запятой).\n",
        "\n",
        " Неопределенность Джини признака Р3 равна ___\n",
        " (с точностью до двух знаков после запятой)."
      ],
      "metadata": {
        "id": "IrUcMAWhy7lV"
      }
    },
    {
      "cell_type": "code",
      "source": [],
      "metadata": {
        "colab": {
          "base_uri": "https://localhost:8080/"
        },
        "id": "z7RzeN1dVsjt",
        "outputId": "f53feb0d-6d3e-41d1-9d3c-7b13f4d3a732"
      },
      "execution_count": null,
      "outputs": [
        {
          "output_type": "stream",
          "name": "stdout",
          "text": [
            "для k = 3    Y = 0\n",
            "для k = 5    Y = 1\n"
          ]
        }
      ]
    },
    {
      "cell_type": "code",
      "source": [
        "# Olena Luganska https://stepik.org/lesson/190155/step/1?discussion=8878638&unit=164660\n",
        "def gini(p,y):\n",
        "    p0 = len(list(filter(lambda x: x == 0, p)))\n",
        "    if p0:\n",
        "        y0_p0 = find_p(p, y, 0, 0) / p0\n",
        "        y1_p0 = find_p(p, y, 1, 0) / p0\n",
        "    else:\n",
        "        y0_p0,y1_p0 =0,0\n",
        "    p1 = len(list(filter(lambda x: x == 1, p)))\n",
        "    if p1:\n",
        "        y0_p1 = find_p(p,y,0,1)/p1\n",
        "        y1_p1 = find_p(p, y, 1, 1) / p1\n",
        "    else:\n",
        "        y0_p1, y1_p1 = 0, 0\n",
        "    return round((p0/len(p))*y0_p0*y1_p0 + (p1/len(p))*y0_p1*y1_p1, 2)\n",
        "\n",
        "\n",
        "p1 = [0,0,1,1,0]\n",
        "p2 = [1,1,1,1,1]\n",
        "p3 = [0,0,0,1,1]\n",
        "y = [1,1,1,0,0]\n",
        "len(filter(lambda x: x == 0, p1))\n",
        "\n",
        "print('Джини признака Р1 = ', gini(p1,y))\n",
        "print('Джини признака Р2 = ', gini(p2,y))\n",
        "print('Джини признака Р3 = ', gini(p3,y))"
      ],
      "metadata": {
        "id": "lf4MBATQPHY_"
      },
      "execution_count": null,
      "outputs": []
    },
    {
      "cell_type": "code",
      "source": [
        "def gini(pl, yl):\n",
        "    pCount = len(pl)\n",
        "    pr0 = list(pl).count(0)/pCount\n",
        "    pr1 = 1 - pr0\n",
        "    prY0V0 = prYV(pl, yl, 0, 0)\n",
        "    prY1V0 = 1 - prY0V0\n",
        "    prY0V1 = prYV(pl, yl, 1, 0)\n",
        "    prY1V1 = 1 - prY0V1\n",
        "\n",
        "    return pr0*prY0V0*prY1V0 + pr1*prY0V1*prY1V1\n",
        "\n",
        "gini((0, 0, 0, 1, 1), ())\n",
        "\n",
        "def prYV(pList, yList, v, y):\n",
        "    tmp = 0\n",
        "    count = 0\n",
        "    for (pi, yi) in zip(pList, yList):\n",
        "    if pi == v:\n",
        "    count += 1\n",
        "    if yi == y:\n",
        "    tmp += 1\n",
        "    if count != 0:\n",
        "    return tmp/count\n",
        "    else:\n",
        "    return 0"
      ],
      "metadata": {
        "id": "lYaQdFclvn58"
      },
      "execution_count": null,
      "outputs": []
    },
    {
      "cell_type": "code",
      "source": [
        "pr_1 = 70/100       #вероятность, что объект принадлежит классу 1\n",
        "pr_0 = 30/100       #вероятность, что объект принадлежит классу 0\n",
        "pr_p_1 = 0.1        #вероятность, что признак Р равен 1 при условии, что класс равен 1\n",
        "pr_p_0 = 0.5        #вероятность, что признак Р равен 1 при условии, что класс равен 0\n",
        "\n",
        "pr_p = pr_1*pr_p_1 + pr_0*pr_p_0 #вероятность, что признак Р равен 1\n",
        "pr_1_p1 = (pr_p_1*pr_1)/pr_p #формула Байеса\n",
        "\n",
        "print('Вероятность, что объект принадлежит классу 1 = ',pr_1_p1)"
      ],
      "metadata": {
        "id": "VcHo4MO43CaS",
        "outputId": "d35a2664-7f9f-4f35-b2fd-996d87584e51",
        "colab": {
          "base_uri": "https://localhost:8080/"
        }
      },
      "execution_count": null,
      "outputs": [
        {
          "output_type": "stream",
          "name": "stdout",
          "text": [
            "Вероятность, что объект принадлежит классу 1 =  0.3181818181818182\n"
          ]
        }
      ]
    }
  ]
}