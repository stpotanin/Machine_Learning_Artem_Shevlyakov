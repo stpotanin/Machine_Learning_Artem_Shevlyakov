{
  "nbformat": 4,
  "nbformat_minor": 0,
  "metadata": {
    "colab": {
      "provenance": [],
      "authorship_tag": "ABX9TyNEGSmk6dO6tk2aAPyR3DbA"
    },
    "kernelspec": {
      "name": "python3",
      "display_name": "Python 3"
    },
    "language_info": {
      "name": "python"
    }
  },
  "cells": [
    {
      "cell_type": "markdown",
      "source": [
        "https://stepik.org/lesson/83244/step/2\n",
        "\n",
        "Объекты в следующей таблице имеют один нецелевой признак Х.\n",
        "\n",
        "<img src='https://ucarecdn.com/01041b84-796b-4e29-823e-746ead9faac2/' width=200px> <img src='https://ucarecdn.com/8bf4bf70-db14-4fe8-9c6b-b16801cb7da9/' width=300px>\n",
        "\n",
        "Построим модель линейно регрессии для предсказания признака Y.\n",
        "\n",
        "Полученная модель будет иметь вид: Y= `___` X + `___` (найденные значения округлить до одного знака после запятой).\n",
        "\n",
        "\\begin{aligned}\n",
        "\\hat{a}&=\\frac{\\sum_i y_i}{N}-\\hat{b}\\frac{\\sum_i x_i}{N},\\\\ \\\\\n",
        "\\hat{b}&=\\frac{\\frac{\\sum_i x_i y_i}{N}-\\frac{\\sum_i x_i\\sum_i y_i}{N^2}}\n",
        "{\\frac{\\sum_i x_i^2}{N}-\\left(\\frac{\\sum_i x_i}{N}\\right)^2}.\n",
        "\\end{aligned}"
      ],
      "metadata": {
        "id": "IrUcMAWhy7lV"
      }
    },
    {
      "cell_type": "code",
      "source": [
        "def lm(data):\n",
        "    n = len(data)\n",
        "    # распилим дробь на 4 кусочка:\n",
        "    b_1 = sum(v[0] * v[1] for k, v in data.items()) / n\n",
        "    b_2 = sum(v[0] for k, v in data.items()) * sum(v[1] for k, v in data.items()) / n**2\n",
        "    b_den_1 = sum(v[0]**2 for k, v in data.items()) / n\n",
        "    b_den_2 = (sum(v[0] for k, v in data.items()) / n)**2\n",
        "    # склеиваем:\n",
        "    b = (b_1 - b_2) / (b_den_1 - b_den_2)\n",
        "\n",
        "    a = sum(v[1] for k, v in data.items()) / n - b * sum(v[0] for k, v in data.items()) / n\n",
        "\n",
        "    return a, b\n",
        "\n",
        "data = {'A' : (0, 0),\n",
        "        'B' : (1, 1),\n",
        "        'C' : (2, 0),\n",
        "        'D' : (3, 3)\n",
        "        }\n",
        "\n",
        "lm(data)"
      ],
      "metadata": {
        "colab": {
          "base_uri": "https://localhost:8080/"
        },
        "id": "z7RzeN1dVsjt",
        "outputId": "5236ebac-4c76-4e5f-d7b1-cd6deafb26a0"
      },
      "execution_count": null,
      "outputs": [
        {
          "output_type": "execute_result",
          "data": {
            "text/plain": [
              "(-0.20000000000000018, 0.8)"
            ]
          },
          "metadata": {},
          "execution_count": 22
        }
      ]
    },
    {
      "cell_type": "code",
      "source": [
        "# Сергей Чащин https://stepik.org/lesson/83244/step/2?discussion=950520&unit=59879\n",
        "\n",
        "def func_linreg_sympy(*mark):\n",
        "    n=int(len(mark))\n",
        "    x,y,x2,y2,sum_x,sum_y,xy,a,b,=0,0,0,0,0,0,0,0,0\n",
        "    for i in range(0,n,2):\n",
        "        x+=mark[i]/n*2\n",
        "        y+=mark[i+1]/n*2\n",
        "        xy=xy+(mark[i]*mark[i+1])\n",
        "        x2+=mark[i]**2\n",
        "        y2+=mark[i+1]**2\n",
        "        sum_x+=mark[i]\n",
        "        sum_y+=mark[i+1]\n",
        "    a=(xy-y*sum_x)/(x2-x*sum_x)\n",
        "    b=(y*x2-x*xy)/(x2-x*sum_x)\n",
        "    print('уравение:y =',str(a)+'x +',str(b))\n",
        "\n",
        "func_linreg_sympy(0,0,1,1,2,0,3,3)"
      ],
      "metadata": {
        "colab": {
          "base_uri": "https://localhost:8080/"
        },
        "id": "TDYzjVafOQA7",
        "outputId": "26602e36-b77a-43a0-a45f-0a0fb7a65267"
      },
      "execution_count": null,
      "outputs": [
        {
          "output_type": "stream",
          "name": "stdout",
          "text": [
            "уравение:y = 0.8x + -0.2\n"
          ]
        }
      ]
    },
    {
      "cell_type": "code",
      "source": [
        "import numpy as np\n",
        "from numpy.linalg import pinv\n",
        "\n",
        "X = np.array([[1, 0], [1, 1], [1, 2], [1, 3]])\n",
        "y = np.array([0, 1, 0, 3])\n",
        "\n",
        "print(pinv(X))\n",
        "print(pinv(X) @ y) # pinv(X) - псевдообратная матрица от X"
      ],
      "metadata": {
        "colab": {
          "base_uri": "https://localhost:8080/"
        },
        "id": "JwUOI0tJZwi8",
        "outputId": "ac68c6e0-5171-413c-e01b-5787612419da"
      },
      "execution_count": null,
      "outputs": [
        {
          "output_type": "stream",
          "name": "stdout",
          "text": [
            "[[ 0.7  0.4  0.1 -0.2]\n",
            " [-0.3 -0.1  0.1  0.3]]\n",
            "[-0.2  0.8]\n"
          ]
        }
      ]
    }
  ]
}