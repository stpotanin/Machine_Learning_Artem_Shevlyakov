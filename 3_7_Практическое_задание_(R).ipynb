{
  "nbformat": 4,
  "nbformat_minor": 0,
  "metadata": {
    "colab": {
      "provenance": [],
      "authorship_tag": "ABX9TyNguqq2v6M5EO7l+V1xNtko"
    },
    "kernelspec": {
      "name": "ir",
      "display_name": "R"
    },
    "language_info": {
      "name": "R"
    }
  },
  "cells": [
    {
      "cell_type": "markdown",
      "source": [
        "https://stepik.org/lesson/190151/step/1\n",
        "\n",
        "Дана таблица с объектами\n",
        "```\n",
        "Объект Р1    Р2    Р3\n",
        "A       1     1     0\n",
        "B       0     2    -1\n",
        "C       2     3     1\n",
        "D       1     0     4\n",
        "```\n",
        "Заполните пропуски\n",
        "\n",
        "В данной задаче выбросы будем искать по следующему правилу: «Выбросом будет считаться объект, у которого суммарное расстояние от него до остальных объектов выборки наибольшее». Таким образом, в указанной таблице выбросом будет (написать имя объекта в виде заглавной латинской буквы):`    `\n",
        " (при вычислении использовать метрику Манхэттен, нормализацию не проводить), сумма расстояний от него до остальных объектов будет равна`    `."
      ],
      "metadata": {
        "id": "IrUcMAWhy7lV"
      }
    },
    {
      "cell_type": "code",
      "source": [
        "data <- rbind('A' = c(1, 1, 0),\n",
        "              'B' = c(0, 2, -1),\n",
        "              'C' = c(2, 3, 1),\n",
        "              'D' = c(1, 0, 4)\n",
        "             )\n",
        "data_dist = dist(data, method = \"manhattan\")\n",
        "cat('Класс объекта:', class(data_dist), '\\n\\n') # получили очень интересный класс!\n",
        "cat('Таблица расстояний между объектами:')\n",
        "data_dist\n",
        "# для подсчёта класс dist не годится, преобразуем в обычную матрицу:\n",
        "data_dist <- as.matrix(data_dist)\n",
        "# суммы по строкам\n",
        "cat('\\nВыбросом будет:')\n",
        "rowSums(data_dist)[rowSums(data_dist) == max(rowSums(data_dist))]"
      ],
      "metadata": {
        "colab": {
          "base_uri": "https://localhost:8080/",
          "height": 191
        },
        "id": "z7RzeN1dVsjt",
        "outputId": "58994388-2e50-430b-fa8f-96f3d540f429"
      },
      "execution_count": null,
      "outputs": [
        {
          "output_type": "stream",
          "name": "stdout",
          "text": [
            "Класс объекта: dist \n",
            "\n",
            "Таблица расстояний между объектами:"
          ]
        },
        {
          "output_type": "display_data",
          "data": {
            "text/plain": [
              "  A B C\n",
              "B 3    \n",
              "C 4 5  \n",
              "D 5 8 7"
            ]
          },
          "metadata": {}
        },
        {
          "output_type": "stream",
          "name": "stdout",
          "text": [
            "\n",
            "Выбросом будет:"
          ]
        },
        {
          "output_type": "display_data",
          "data": {
            "text/html": [
              "<strong>D:</strong> 20"
            ],
            "text/markdown": "**D:** 20",
            "text/latex": "\\textbf{D:} 20",
            "text/plain": [
              " D \n",
              "20 "
            ]
          },
          "metadata": {}
        }
      ]
    },
    {
      "cell_type": "code",
      "source": [
        "# Mihail Tabakaev https://stepik.org/lesson/190151/step/1?discussion=980865&unit=164656\n",
        "# создаем векторы значений переменных для объектов\n",
        "A <- c(1,1,0)\n",
        "B <- c(0,2,-1)\n",
        "C <- c(2,3,1)\n",
        "D <- c(1,0,4)\n",
        "# производим расчет расстояний между объектами (использовали метрику \"Манхэттен\")\n",
        "my_df <- dist(rbind(A,B,C,D), method = \"manhattan\")\n",
        "# преобразовываем результат в матрицу\n",
        "my_df <- as.matrix(my_df)\n",
        "# просмотрим матрицу расстояний\n",
        "View(my_df)\n",
        "# суммируем расстояния между одним объектом и всеми остальными (по каждому столбцу в отдельности)\n",
        "result <- apply(my_df, 2, sum)\n",
        "# выводим на печать полученный результат\n",
        "print(result)"
      ],
      "metadata": {
        "colab": {
          "base_uri": "https://localhost:8080/",
          "height": 209
        },
        "id": "siR-Nt0ZwxUB",
        "outputId": "14015a5d-59b2-4ed0-bd76-136cbc9f7f5d"
      },
      "execution_count": null,
      "outputs": [
        {
          "output_type": "display_data",
          "data": {
            "text/html": [
              "<table class=\"dataframe\">\n",
              "<caption>A matrix: 4 × 4 of type dbl</caption>\n",
              "<thead>\n",
              "\t<tr><th></th><th scope=col>A</th><th scope=col>B</th><th scope=col>C</th><th scope=col>D</th></tr>\n",
              "</thead>\n",
              "<tbody>\n",
              "\t<tr><th scope=row>A</th><td>0</td><td>3</td><td>4</td><td>5</td></tr>\n",
              "\t<tr><th scope=row>B</th><td>3</td><td>0</td><td>5</td><td>8</td></tr>\n",
              "\t<tr><th scope=row>C</th><td>4</td><td>5</td><td>0</td><td>7</td></tr>\n",
              "\t<tr><th scope=row>D</th><td>5</td><td>8</td><td>7</td><td>0</td></tr>\n",
              "</tbody>\n",
              "</table>\n"
            ],
            "text/markdown": "\nA matrix: 4 × 4 of type dbl\n\n| <!--/--> | A | B | C | D |\n|---|---|---|---|---|\n| A | 0 | 3 | 4 | 5 |\n| B | 3 | 0 | 5 | 8 |\n| C | 4 | 5 | 0 | 7 |\n| D | 5 | 8 | 7 | 0 |\n\n",
            "text/latex": "A matrix: 4 × 4 of type dbl\n\\begin{tabular}{r|llll}\n  & A & B & C & D\\\\\n\\hline\n\tA & 0 & 3 & 4 & 5\\\\\n\tB & 3 & 0 & 5 & 8\\\\\n\tC & 4 & 5 & 0 & 7\\\\\n\tD & 5 & 8 & 7 & 0\\\\\n\\end{tabular}\n",
            "text/plain": [
              "  A B C D\n",
              "A 0 3 4 5\n",
              "B 3 0 5 8\n",
              "C 4 5 0 7\n",
              "D 5 8 7 0"
            ]
          },
          "metadata": {}
        }
      ]
    }
  ]
}