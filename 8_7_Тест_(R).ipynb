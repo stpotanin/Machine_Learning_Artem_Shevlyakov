{
  "nbformat": 4,
  "nbformat_minor": 0,
  "metadata": {
    "colab": {
      "provenance": [],
      "authorship_tag": "ABX9TyPojGjjTh0y6m/+CnQZk3vM"
    },
    "kernelspec": {
      "name": "ir",
      "display_name": "R"
    },
    "language_info": {
      "name": "R"
    }
  },
  "cells": [
    {
      "cell_type": "markdown",
      "source": [
        "## Задача 8.7.1\n",
        "https://stepik.org/lesson/83972/step/1\n",
        "\n",
        "Дана таблица с объектами.\n",
        "\n",
        "<img src='https://ucarecdn.com/88035816-db46-4fe0-a008-6f7d62aff804/'>\n",
        "\n",
        "Вспомните суть метода SVM и, не проводя вычислений, попытайтесь угадать правило если $a*X1+b*X2+c>0$, то объект принадлежит классу 1 (иначе объект принадлежит классу -1)\n",
        "\n",
        "*   a=1,5 b=-1 c=1,5\n",
        "\n",
        "*   a=1, b=1, c=-1,5\n",
        "\n",
        "*   a=1,5 b=1 c=-1\n",
        "\n",
        "*   a=1 b=1 c=1\n",
        "\n",
        "*   a=0 b=1 c=1,5\n",
        "\n",
        "*   a=1 b=0 c=1"
      ],
      "metadata": {
        "id": "IrUcMAWhy7lV"
      }
    },
    {
      "cell_type": "code",
      "source": [
        "df <- rbind('A' = c(1, 0, -1),\n",
        "            'B' = c(0, 1, -1),\n",
        "            'C' = c(2, 0, 1),\n",
        "            'D' = c(1, 1, 1),\n",
        "            'E' = c(0, 2, 1)\n",
        "            )\n",
        "\n",
        "df <- data.frame(df)\n",
        "colnames(df) <- c('X1', 'X2', 'Y')\n",
        "df"
      ],
      "metadata": {
        "colab": {
          "base_uri": "https://localhost:8080/",
          "height": 255
        },
        "id": "aJ96hLjH8mZK",
        "outputId": "de101a3e-8f4f-457f-c008-e9ca56ec4c7e"
      },
      "execution_count": null,
      "outputs": [
        {
          "output_type": "display_data",
          "data": {
            "text/html": [
              "<table class=\"dataframe\">\n",
              "<caption>A data.frame: 5 × 3</caption>\n",
              "<thead>\n",
              "\t<tr><th></th><th scope=col>X1</th><th scope=col>X2</th><th scope=col>Y</th></tr>\n",
              "\t<tr><th></th><th scope=col>&lt;dbl&gt;</th><th scope=col>&lt;dbl&gt;</th><th scope=col>&lt;dbl&gt;</th></tr>\n",
              "</thead>\n",
              "<tbody>\n",
              "\t<tr><th scope=row>A</th><td>1</td><td>0</td><td>-1</td></tr>\n",
              "\t<tr><th scope=row>B</th><td>0</td><td>1</td><td>-1</td></tr>\n",
              "\t<tr><th scope=row>C</th><td>2</td><td>0</td><td> 1</td></tr>\n",
              "\t<tr><th scope=row>D</th><td>1</td><td>1</td><td> 1</td></tr>\n",
              "\t<tr><th scope=row>E</th><td>0</td><td>2</td><td> 1</td></tr>\n",
              "</tbody>\n",
              "</table>\n"
            ],
            "text/markdown": "\nA data.frame: 5 × 3\n\n| <!--/--> | X1 &lt;dbl&gt; | X2 &lt;dbl&gt; | Y &lt;dbl&gt; |\n|---|---|---|---|\n| A | 1 | 0 | -1 |\n| B | 0 | 1 | -1 |\n| C | 2 | 0 |  1 |\n| D | 1 | 1 |  1 |\n| E | 0 | 2 |  1 |\n\n",
            "text/latex": "A data.frame: 5 × 3\n\\begin{tabular}{r|lll}\n  & X1 & X2 & Y\\\\\n  & <dbl> & <dbl> & <dbl>\\\\\n\\hline\n\tA & 1 & 0 & -1\\\\\n\tB & 0 & 1 & -1\\\\\n\tC & 2 & 0 &  1\\\\\n\tD & 1 & 1 &  1\\\\\n\tE & 0 & 2 &  1\\\\\n\\end{tabular}\n",
            "text/plain": [
              "  X1 X2 Y \n",
              "A 1  0  -1\n",
              "B 0  1  -1\n",
              "C 2  0   1\n",
              "D 1  1   1\n",
              "E 0  2   1"
            ]
          },
          "metadata": {}
        }
      ]
    },
    {
      "cell_type": "code",
      "source": [
        "a=1.5\n",
        "b=-1\n",
        "c=1.5\n",
        "df[,'Y1'] <- a * df[,'X1'] + b * df[,'X2'] + c > 0\n",
        "\n",
        "a=1\n",
        "b=1\n",
        "c=-1.5\n",
        "df[,'Y2'] <- a * df[,'X1'] + b * df[,'X2'] + c > 0\n",
        "\n",
        "a=1.5\n",
        "b=1\n",
        "c=-1\n",
        "df[,'Y3'] <- a * df[,'X1'] + b * df[,'X2'] + c > 0\n",
        "\n",
        "a=1\n",
        "b=1\n",
        "c=1\n",
        "df[,'Y4'] <- a * df[,'X1'] + b * df[,'X2'] + c > 0\n",
        "\n",
        "a=0\n",
        "b=1\n",
        "c=1.5\n",
        "df[,'Y4'] <- a * df[,'X1'] + b * df[,'X2'] + c > 0\n",
        "\n",
        "a=1\n",
        "b=0\n",
        "c=1\n",
        "df[,'Y5'] <- a * df[,'X1'] + b * df[,'X2'] + c > 0\n",
        "\n",
        "df"
      ],
      "metadata": {
        "colab": {
          "base_uri": "https://localhost:8080/",
          "height": 255
        },
        "id": "z7RzeN1dVsjt",
        "outputId": "28877f9e-8285-49a8-a08f-84e3dbdd380f"
      },
      "execution_count": null,
      "outputs": [
        {
          "output_type": "display_data",
          "data": {
            "text/html": [
              "<table class=\"dataframe\">\n",
              "<caption>A data.frame: 5 × 8</caption>\n",
              "<thead>\n",
              "\t<tr><th></th><th scope=col>X1</th><th scope=col>X2</th><th scope=col>Y</th><th scope=col>Y1</th><th scope=col>Y2</th><th scope=col>Y3</th><th scope=col>Y4</th><th scope=col>Y5</th></tr>\n",
              "\t<tr><th></th><th scope=col>&lt;dbl&gt;</th><th scope=col>&lt;dbl&gt;</th><th scope=col>&lt;dbl&gt;</th><th scope=col>&lt;lgl&gt;</th><th scope=col>&lt;lgl&gt;</th><th scope=col>&lt;lgl&gt;</th><th scope=col>&lt;lgl&gt;</th><th scope=col>&lt;lgl&gt;</th></tr>\n",
              "</thead>\n",
              "<tbody>\n",
              "\t<tr><th scope=row>A</th><td>1</td><td>0</td><td>-1</td><td> TRUE</td><td>FALSE</td><td> TRUE</td><td>TRUE</td><td>TRUE</td></tr>\n",
              "\t<tr><th scope=row>B</th><td>0</td><td>1</td><td>-1</td><td> TRUE</td><td>FALSE</td><td>FALSE</td><td>TRUE</td><td>TRUE</td></tr>\n",
              "\t<tr><th scope=row>C</th><td>2</td><td>0</td><td> 1</td><td> TRUE</td><td> TRUE</td><td> TRUE</td><td>TRUE</td><td>TRUE</td></tr>\n",
              "\t<tr><th scope=row>D</th><td>1</td><td>1</td><td> 1</td><td> TRUE</td><td> TRUE</td><td> TRUE</td><td>TRUE</td><td>TRUE</td></tr>\n",
              "\t<tr><th scope=row>E</th><td>0</td><td>2</td><td> 1</td><td>FALSE</td><td> TRUE</td><td> TRUE</td><td>TRUE</td><td>TRUE</td></tr>\n",
              "</tbody>\n",
              "</table>\n"
            ],
            "text/markdown": "\nA data.frame: 5 × 8\n\n| <!--/--> | X1 &lt;dbl&gt; | X2 &lt;dbl&gt; | Y &lt;dbl&gt; | Y1 &lt;lgl&gt; | Y2 &lt;lgl&gt; | Y3 &lt;lgl&gt; | Y4 &lt;lgl&gt; | Y5 &lt;lgl&gt; |\n|---|---|---|---|---|---|---|---|---|\n| A | 1 | 0 | -1 |  TRUE | FALSE |  TRUE | TRUE | TRUE |\n| B | 0 | 1 | -1 |  TRUE | FALSE | FALSE | TRUE | TRUE |\n| C | 2 | 0 |  1 |  TRUE |  TRUE |  TRUE | TRUE | TRUE |\n| D | 1 | 1 |  1 |  TRUE |  TRUE |  TRUE | TRUE | TRUE |\n| E | 0 | 2 |  1 | FALSE |  TRUE |  TRUE | TRUE | TRUE |\n\n",
            "text/latex": "A data.frame: 5 × 8\n\\begin{tabular}{r|llllllll}\n  & X1 & X2 & Y & Y1 & Y2 & Y3 & Y4 & Y5\\\\\n  & <dbl> & <dbl> & <dbl> & <lgl> & <lgl> & <lgl> & <lgl> & <lgl>\\\\\n\\hline\n\tA & 1 & 0 & -1 &  TRUE & FALSE &  TRUE & TRUE & TRUE\\\\\n\tB & 0 & 1 & -1 &  TRUE & FALSE & FALSE & TRUE & TRUE\\\\\n\tC & 2 & 0 &  1 &  TRUE &  TRUE &  TRUE & TRUE & TRUE\\\\\n\tD & 1 & 1 &  1 &  TRUE &  TRUE &  TRUE & TRUE & TRUE\\\\\n\tE & 0 & 2 &  1 & FALSE &  TRUE &  TRUE & TRUE & TRUE\\\\\n\\end{tabular}\n",
            "text/plain": [
              "  X1 X2 Y  Y1    Y2    Y3    Y4   Y5  \n",
              "A 1  0  -1  TRUE FALSE  TRUE TRUE TRUE\n",
              "B 0  1  -1  TRUE FALSE FALSE TRUE TRUE\n",
              "C 2  0   1  TRUE  TRUE  TRUE TRUE TRUE\n",
              "D 1  1   1  TRUE  TRUE  TRUE TRUE TRUE\n",
              "E 0  2   1 FALSE  TRUE  TRUE TRUE TRUE"
            ]
          },
          "metadata": {}
        }
      ]
    },
    {
      "cell_type": "markdown",
      "source": [
        "## Задача 8.7.2\n",
        "https://stepik.org/lesson/83972/step/2\n",
        "\n",
        "Дана функция $f(u,v)=u^2-2v^2-2u+4v+1$.\n",
        "\n",
        "**Заполните пропуски**\n",
        "\n",
        "Ее градиент в точке (0,0) равен (`___,___`). Будем искать точку минимума с помощью метода градиентного спуска. Длину шага полагаем равной `0,5`. В какую точку мы попадем из точки (`0,0`) после одной итерации метода градиентного спуска? Ответ: (`___,___`)."
      ],
      "metadata": {
        "id": "5uJ2_jnTa3tM"
      }
    },
    {
      "cell_type": "markdown",
      "source": [
        "### Решение:\n",
        "\n",
        "$z=x^2-2·y^2-2·x+4·y+1$\n",
        "\n",
        "Находим частные производные:\n",
        "\n",
        "При нахождении ∂z/∂x считаем аргумент y постоянным:\n",
        "\n",
        "$∂z/∂x=2x-2$\n",
        "\n",
        "При нахождении ∂z/∂y считаем аргумент x постоянным:\n",
        "\n",
        "$∂z/∂y=4-4y$\n",
        "\n",
        "Найдем частные производные в точке А(0;0)\n",
        "\n",
        "$∂z/∂x(0;0)=-2 \\\\\n",
        "∂z/∂y(0;0)=4$\n",
        "\n",
        "Из точки `(0, 0)` делаем шаг в направлени антиградиента с коэффицментом `0.5`\n",
        "\n",
        "### Ответ:\n",
        "`-2`, `4`, `1`, `-2`"
      ],
      "metadata": {
        "id": "-rgkSWC7dMWW"
      }
    },
    {
      "cell_type": "markdown",
      "source": [
        "## Задача 8.7.3\n",
        "https://stepik.org/lesson/83972/step/3\n",
        "\n",
        "Чему равен градиент функции $f(u,v)=u*v+1$ в точке `(1,2)`?\n",
        "\n",
        "### Решение\n",
        "$f(u,v)=u*v+1$\n",
        "Находим частные производные:\n",
        "При нахождении ∂f/∂u считаем аргумент v постоянным:\n",
        "\n",
        "$∂f/∂u=v$\n",
        "\n",
        "При нахождении ∂f/∂v считаем аргумент u постоянным:\n",
        "\n",
        "$∂f/∂v=u$\n",
        "\n",
        "Найдем частные производные в точке А(1;2)\n",
        "\n",
        "$∂f/∂u(1;2)=2 \\\\\n",
        "∂f/∂v(1;2)=1$\n",
        "\n",
        "### Ответ: (2, 1)"
      ],
      "metadata": {
        "id": "gEoaed6LhHFf"
      }
    },
    {
      "cell_type": "markdown",
      "source": [
        "## Задача 8.7.4\n",
        "https://stepik.org/lesson/83972/step/4\n",
        "\n",
        "Искусственный нейрон имеет 2 входа с весами `1`, `2` соответственно. Ко входному сигналу прибавляется число `1` и применяется сигмоидная функция. Чему будет равно значение на выходе из нейрона, если на первый вход было подано число `1`, а на второй вход было подано число `-1`?"
      ],
      "metadata": {
        "id": "JteXVNXjjIZx"
      }
    },
    {
      "cell_type": "code",
      "source": [
        "sigmoid <- function(W1, W2, X1, X2)\n",
        "    {\n",
        "    z <- W1 * X1 + W2 * X2 + 1\n",
        "    return(exp(z) / (exp(z) + 1))\n",
        "    }\n",
        "\n",
        "W1 <- 1\n",
        "W2 <- 2\n",
        "X1 <- 1\n",
        "X2 <- -1\n",
        "\n",
        "res = sigmoid(W1, W2, X1, X2)\n",
        "res\n"
      ],
      "metadata": {
        "colab": {
          "base_uri": "https://localhost:8080/",
          "height": 34
        },
        "id": "p8zXlDYkl-Ea",
        "outputId": "e6d34fab-7ffc-4e8c-aa57-c91c47a66bb5"
      },
      "execution_count": null,
      "outputs": [
        {
          "output_type": "display_data",
          "data": {
            "text/html": [
              "0.5"
            ],
            "text/markdown": "0.5",
            "text/latex": "0.5",
            "text/plain": [
              "[1] 0.5"
            ]
          },
          "metadata": {}
        }
      ]
    },
    {
      "cell_type": "markdown",
      "source": [
        "## Задача 8.7.5\n",
        "https://stepik.org/lesson/83972/step/5\n",
        "\n",
        "Дана таблица с объектами (каждый объект имеет 2 нецелевых признака и известную метку класса).\n",
        "\n",
        "<img src='https://ucarecdn.com/3403b0ed-c8cc-4578-b9cf-05ded550f575/'>\n",
        "\n",
        "Линейный классификатор имеет вид: если $a*X_1+b*X_2+c>0$, то объект принадлежит классу `1` (иначе объект принадлежит классу `-1`). Какими должны быть значения весов `a`, `b`, `c`, чтобы классификатор правильно классифицировал все объекты в таблице?\n",
        "\n",
        "a=1, b=1, c=-1\n",
        "\n",
        "a=1, b=-1, c=0\n",
        "\n",
        "a=0, b=1, c=1\n",
        "\n",
        "a=0, b=1, c=0\n",
        "\n",
        "a=1, b=1, c=1\n",
        "\n",
        "a=1, b=0, c=0"
      ],
      "metadata": {
        "id": "hBf2eTUWqUDq"
      }
    },
    {
      "cell_type": "code",
      "source": [
        "df <- rbind('A' = c(-1, 3, 1),\n",
        "            'B' = c(3, -1, 1),\n",
        "            'C' = c(1, -1, -1),\n",
        "            'D' = c(-1, 1, -1)\n",
        "            )\n",
        "\n",
        "df <- data.frame(df)\n",
        "colnames(df) <- c('X1', 'X2', 'Y')\n",
        "df\n",
        "model <- lm(Y ~ X1 + X2, data=df)\n",
        "model$coefficients"
      ],
      "metadata": {
        "colab": {
          "base_uri": "https://localhost:8080/",
          "height": 240
        },
        "id": "Z-tS-gKkq8-0",
        "outputId": "a73c6d99-bf59-45e6-a422-6146fa64d2cd"
      },
      "execution_count": null,
      "outputs": [
        {
          "output_type": "display_data",
          "data": {
            "text/html": [
              "<table class=\"dataframe\">\n",
              "<caption>A data.frame: 4 × 3</caption>\n",
              "<thead>\n",
              "\t<tr><th></th><th scope=col>X1</th><th scope=col>X2</th><th scope=col>Y</th></tr>\n",
              "\t<tr><th></th><th scope=col>&lt;dbl&gt;</th><th scope=col>&lt;dbl&gt;</th><th scope=col>&lt;dbl&gt;</th></tr>\n",
              "</thead>\n",
              "<tbody>\n",
              "\t<tr><th scope=row>A</th><td>-1</td><td> 3</td><td> 1</td></tr>\n",
              "\t<tr><th scope=row>B</th><td> 3</td><td>-1</td><td> 1</td></tr>\n",
              "\t<tr><th scope=row>C</th><td> 1</td><td>-1</td><td>-1</td></tr>\n",
              "\t<tr><th scope=row>D</th><td>-1</td><td> 1</td><td>-1</td></tr>\n",
              "</tbody>\n",
              "</table>\n"
            ],
            "text/markdown": "\nA data.frame: 4 × 3\n\n| <!--/--> | X1 &lt;dbl&gt; | X2 &lt;dbl&gt; | Y &lt;dbl&gt; |\n|---|---|---|---|\n| A | -1 |  3 |  1 |\n| B |  3 | -1 |  1 |\n| C |  1 | -1 | -1 |\n| D | -1 |  1 | -1 |\n\n",
            "text/latex": "A data.frame: 4 × 3\n\\begin{tabular}{r|lll}\n  & X1 & X2 & Y\\\\\n  & <dbl> & <dbl> & <dbl>\\\\\n\\hline\n\tA & -1 &  3 &  1\\\\\n\tB &  3 & -1 &  1\\\\\n\tC &  1 & -1 & -1\\\\\n\tD & -1 &  1 & -1\\\\\n\\end{tabular}\n",
            "text/plain": [
              "  X1 X2 Y \n",
              "A -1  3  1\n",
              "B  3 -1  1\n",
              "C  1 -1 -1\n",
              "D -1  1 -1"
            ]
          },
          "metadata": {}
        },
        {
          "output_type": "display_data",
          "data": {
            "text/html": [
              "<style>\n",
              ".dl-inline {width: auto; margin:0; padding: 0}\n",
              ".dl-inline>dt, .dl-inline>dd {float: none; width: auto; display: inline-block}\n",
              ".dl-inline>dt::after {content: \":\\0020\"; padding-right: .5ex}\n",
              ".dl-inline>dt:not(:first-of-type) {padding-left: .5ex}\n",
              "</style><dl class=dl-inline><dt>(Intercept)</dt><dd>-1</dd><dt>X1</dt><dd>1</dd><dt>X2</dt><dd>1</dd></dl>\n"
            ],
            "text/markdown": "(Intercept)\n:   -1X1\n:   1X2\n:   1\n\n",
            "text/latex": "\\begin{description*}\n\\item[(Intercept)] -1\n\\item[X1] 1\n\\item[X2] 1\n\\end{description*}\n",
            "text/plain": [
              "(Intercept)          X1          X2 \n",
              "         -1           1           1 "
            ]
          },
          "metadata": {}
        }
      ]
    },
    {
      "cell_type": "code",
      "source": [
        "a=1\n",
        "b=1\n",
        "c=-1\n",
        "df[,'Y1'] <- a * df[,'X1'] + b * df[,'X2'] + c > 0\n",
        "\n",
        "a=1\n",
        "b=-1\n",
        "c=0\n",
        "df[,'Y2'] <- a * df[,'X1'] + b * df[,'X2'] + c > 0\n",
        "\n",
        "a=0\n",
        "b=1\n",
        "c=1\n",
        "df[,'Y3'] <- a * df[,'X1'] + b * df[,'X2'] + c > 0\n",
        "\n",
        "a=0\n",
        "b=1\n",
        "c=0\n",
        "df[,'Y3'] <- a * df[,'X1'] + b * df[,'X2'] + c > 0\n",
        "\n",
        "a=1\n",
        "b=1\n",
        "c=1\n",
        "df[,'Y4'] <- a * df[,'X1'] + b * df[,'X2'] + c > 0\n",
        "\n",
        "a=1\n",
        "b=0\n",
        "c=0\n",
        "df[,'Y5'] <- a * df[,'X1'] + b * df[,'X2'] + c > 0\n",
        "\n",
        "df"
      ],
      "metadata": {
        "colab": {
          "base_uri": "https://localhost:8080/",
          "height": 223
        },
        "id": "45edzml5rXrL",
        "outputId": "1ee77a66-b537-493a-dc64-411b8090dbe3"
      },
      "execution_count": null,
      "outputs": [
        {
          "output_type": "display_data",
          "data": {
            "text/html": [
              "<table class=\"dataframe\">\n",
              "<caption>A data.frame: 4 × 8</caption>\n",
              "<thead>\n",
              "\t<tr><th></th><th scope=col>X1</th><th scope=col>X2</th><th scope=col>Y</th><th scope=col>Y1</th><th scope=col>Y2</th><th scope=col>Y3</th><th scope=col>Y4</th><th scope=col>Y5</th></tr>\n",
              "\t<tr><th></th><th scope=col>&lt;dbl&gt;</th><th scope=col>&lt;dbl&gt;</th><th scope=col>&lt;dbl&gt;</th><th scope=col>&lt;lgl&gt;</th><th scope=col>&lt;lgl&gt;</th><th scope=col>&lt;lgl&gt;</th><th scope=col>&lt;lgl&gt;</th><th scope=col>&lt;lgl&gt;</th></tr>\n",
              "</thead>\n",
              "<tbody>\n",
              "\t<tr><th scope=row>A</th><td>-1</td><td> 3</td><td> 1</td><td> TRUE</td><td>FALSE</td><td> TRUE</td><td>TRUE</td><td>FALSE</td></tr>\n",
              "\t<tr><th scope=row>B</th><td> 3</td><td>-1</td><td> 1</td><td> TRUE</td><td> TRUE</td><td>FALSE</td><td>TRUE</td><td> TRUE</td></tr>\n",
              "\t<tr><th scope=row>C</th><td> 1</td><td>-1</td><td>-1</td><td>FALSE</td><td> TRUE</td><td>FALSE</td><td>TRUE</td><td> TRUE</td></tr>\n",
              "\t<tr><th scope=row>D</th><td>-1</td><td> 1</td><td>-1</td><td>FALSE</td><td>FALSE</td><td> TRUE</td><td>TRUE</td><td>FALSE</td></tr>\n",
              "</tbody>\n",
              "</table>\n"
            ],
            "text/markdown": "\nA data.frame: 4 × 8\n\n| <!--/--> | X1 &lt;dbl&gt; | X2 &lt;dbl&gt; | Y &lt;dbl&gt; | Y1 &lt;lgl&gt; | Y2 &lt;lgl&gt; | Y3 &lt;lgl&gt; | Y4 &lt;lgl&gt; | Y5 &lt;lgl&gt; |\n|---|---|---|---|---|---|---|---|---|\n| A | -1 |  3 |  1 |  TRUE | FALSE |  TRUE | TRUE | FALSE |\n| B |  3 | -1 |  1 |  TRUE |  TRUE | FALSE | TRUE |  TRUE |\n| C |  1 | -1 | -1 | FALSE |  TRUE | FALSE | TRUE |  TRUE |\n| D | -1 |  1 | -1 | FALSE | FALSE |  TRUE | TRUE | FALSE |\n\n",
            "text/latex": "A data.frame: 4 × 8\n\\begin{tabular}{r|llllllll}\n  & X1 & X2 & Y & Y1 & Y2 & Y3 & Y4 & Y5\\\\\n  & <dbl> & <dbl> & <dbl> & <lgl> & <lgl> & <lgl> & <lgl> & <lgl>\\\\\n\\hline\n\tA & -1 &  3 &  1 &  TRUE & FALSE &  TRUE & TRUE & FALSE\\\\\n\tB &  3 & -1 &  1 &  TRUE &  TRUE & FALSE & TRUE &  TRUE\\\\\n\tC &  1 & -1 & -1 & FALSE &  TRUE & FALSE & TRUE &  TRUE\\\\\n\tD & -1 &  1 & -1 & FALSE & FALSE &  TRUE & TRUE & FALSE\\\\\n\\end{tabular}\n",
            "text/plain": [
              "  X1 X2 Y  Y1    Y2    Y3    Y4   Y5   \n",
              "A -1  3  1  TRUE FALSE  TRUE TRUE FALSE\n",
              "B  3 -1  1  TRUE  TRUE FALSE TRUE  TRUE\n",
              "C  1 -1 -1 FALSE  TRUE FALSE TRUE  TRUE\n",
              "D -1  1 -1 FALSE FALSE  TRUE TRUE FALSE"
            ]
          },
          "metadata": {}
        }
      ]
    },
    {
      "cell_type": "code",
      "source": [
        "fit <- lm(Y ~ ., data=df)\n",
        "fit"
      ],
      "metadata": {
        "colab": {
          "base_uri": "https://localhost:8080/",
          "height": 144
        },
        "id": "-foW2WlCvtkA",
        "outputId": "4d687bc6-9322-4f39-8d99-203ab71aa280"
      },
      "execution_count": null,
      "outputs": [
        {
          "output_type": "display_data",
          "data": {
            "text/plain": [
              "\n",
              "Call:\n",
              "lm(formula = Y ~ ., data = df)\n",
              "\n",
              "Coefficients:\n",
              "(Intercept)           X1           X2  \n",
              "         -1            1            1  \n"
            ]
          },
          "metadata": {}
        }
      ]
    }
  ]
}