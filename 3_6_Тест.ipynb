{
  "nbformat": 4,
  "nbformat_minor": 0,
  "metadata": {
    "colab": {
      "provenance": [],
      "authorship_tag": "ABX9TyPvY2k76K+/NzVyCMCETpHB"
    },
    "kernelspec": {
      "name": "python3",
      "display_name": "Python 3"
    },
    "language_info": {
      "name": "python"
    }
  },
  "cells": [
    {
      "cell_type": "markdown",
      "source": [
        "https://stepik.org/lesson/83242/step/2"
      ],
      "metadata": {
        "id": "IrUcMAWhy7lV"
      }
    },
    {
      "cell_type": "markdown",
      "source": [
        "### Задача 2\n",
        "Среднее значение, отклонение и медиана `десяти` значений признака Р равны `10`, `1.1` (одна целая одна десятая), и `9` соответственно. Какие из следующих значений будут выбросами? Не забудьте в процессе решения проверить симметричность выборки.\n",
        "\n",
        "`p = [7, 13.5, 6, 14, 13, 6.5]`"
      ],
      "metadata": {
        "id": "1E4DvAjjVCPm"
      }
    },
    {
      "cell_type": "code",
      "source": [
        "p = [7, 13.5, 6, 14, 13, 6.5]\n",
        "n = 10\n",
        "mean_p = 10\n",
        "median_p = 9\n",
        "std_p = 1.1\n",
        "\n",
        "# проверка на симметричность\n",
        "symm = 'симметрична' if abs(mean_p - median_p) <= 3 * std_p / n**.5 else 'несимметрична'\n",
        "print('Выборка', symm)\n",
        "\n",
        "# проверка по Шовене\n",
        "from math import erfc\n",
        "out_sh = []\n",
        "for x in p:\n",
        "    if erfc(abs(x - mean_p) / std_p) < 1 / (2 * n):\n",
        "        out_sh.append(x)\n",
        "print('\\nвыбросы по Шовене:', *out_sh)\n",
        "\n",
        "# проверка по квартилям\n",
        "mult = 3 if symm == 'симметрична' else 5\n",
        "left, right = mean_p - mult * std_p, mean_p + mult * std_p\n",
        "out_q = []\n",
        "for x in p:\n",
        "    if not left <= x <= right:\n",
        "        out_q.append(x)\n",
        "print('\\nвыбросы по квартилям:', *out_q)"
      ],
      "metadata": {
        "colab": {
          "base_uri": "https://localhost:8080/"
        },
        "id": "z7RzeN1dVsjt",
        "outputId": "a8ad14a8-67b8-4247-e8ce-26399148e9a1"
      },
      "execution_count": null,
      "outputs": [
        {
          "output_type": "stream",
          "name": "stdout",
          "text": [
            "Выборка симметрична\n",
            "\n",
            "выбросы по Шовене: 7 13.5 6 14 13 6.5\n",
            "\n",
            "выбросы по квартилям: 13.5 6 14 6.5\n"
          ]
        }
      ]
    }
  ]
}