{
  "nbformat": 4,
  "nbformat_minor": 0,
  "metadata": {
    "colab": {
      "provenance": [],
      "authorship_tag": "ABX9TyOuEokMr6G3FwxATcm+v5VX"
    },
    "kernelspec": {
      "name": "ir",
      "display_name": "R"
    },
    "language_info": {
      "name": "R"
    }
  },
  "cells": [
    {
      "cell_type": "markdown",
      "source": [
        "https://stepik.org/lesson/190155/step/1\n",
        "\n",
        "Дана таблица, объекты в которой обладают нецелевыми признаками `P1`, `P2`, `P3` и целевым признаком `Y`\n",
        "\n",
        "<img src='https://ucarecdn.com/01bc4ded-74b7-4035-a44c-788253d44d3c/'>\n",
        "\n",
        "Как известно в качестве условия ветвления выбирается признак с минимальным значением неопределенности Джини. Вычислим эту величину для каждого нецелевого признака.\n",
        "\n",
        "**Заполните пропуски**\n",
        "\n",
        "Неопределенность Джини признака Р1 равна ___\n",
        " (с точностью до двух знаков после запятой).\n",
        "\n",
        " Неопределенность Джини признака Р2 равна ___\n",
        " (с точностью до двух знаков после запятой).\n",
        "\n",
        " Неопределенность Джини признака Р3 равна ___\n",
        " (с точностью до двух знаков после запятой)."
      ],
      "metadata": {
        "id": "IrUcMAWhy7lV"
      }
    },
    {
      "cell_type": "markdown",
      "source": [
        "<img src='https://ucarecdn.com/9a173cc4-1cb8-498b-85bc-6d3ef7949c91/' width=400>\n",
        "\n",
        "Считаем по формуле\n",
        "\n",
        "$\n",
        "Gini(П) = \\\\\n",
        "Pr(П=0) * Pr(Y=0|П=0) * Pr(Y=1|П=0) + \\\\\n",
        "Pr(П=1) * Pr(Y=0|П=1) * Pr(Y=1|П=1)\n",
        "$\n",
        "\n",
        "Код на R:"
      ],
      "metadata": {
        "id": "atPQ8d4nQu_8"
      }
    },
    {
      "cell_type": "code",
      "source": [
        "# install.packages(\"DescTools\")\n",
        "library (DescTools)\n",
        "\n",
        "# P1 <- c(0, 0, 1, 1, 0)\n",
        "# P2 <- c(1, 1, 1, 1, 1)\n",
        "# P3 <- c(0, 0, 0, 1, 1)\n",
        "# Y <- c(1, 1, 1, 0, 0)\n",
        "\n",
        "df <- rbind('A' = c(0, 1, 0, 1),\n",
        "            'B' = c(0, 1, 0, 1),\n",
        "            'C' = c(1, 1, 0, 1),\n",
        "            'D' = c(1, 1, 1, 0),\n",
        "            'E' = c(0, 1, 1, 0)\n",
        "            )\n",
        "\n",
        "df <- data.frame(df)\n",
        "colnames(df) <- c('P1', 'P2', 'P3', 'Y')\n",
        "df\n",
        "\n",
        "# Gini(P1, unbiased=F)\n",
        "# Gini(P2, unbiased=F)\n",
        "# Gini(P3, unbiased=F)"
      ],
      "metadata": {
        "colab": {
          "base_uri": "https://localhost:8080/",
          "height": 255
        },
        "id": "z7RzeN1dVsjt",
        "outputId": "26dd1d57-fbca-46b6-9283-2f8fb932ad53"
      },
      "execution_count": null,
      "outputs": [
        {
          "output_type": "display_data",
          "data": {
            "text/html": [
              "<table class=\"dataframe\">\n",
              "<caption>A data.frame: 5 × 4</caption>\n",
              "<thead>\n",
              "\t<tr><th></th><th scope=col>P1</th><th scope=col>P2</th><th scope=col>P3</th><th scope=col>Y</th></tr>\n",
              "\t<tr><th></th><th scope=col>&lt;dbl&gt;</th><th scope=col>&lt;dbl&gt;</th><th scope=col>&lt;dbl&gt;</th><th scope=col>&lt;dbl&gt;</th></tr>\n",
              "</thead>\n",
              "<tbody>\n",
              "\t<tr><th scope=row>A</th><td>0</td><td>1</td><td>0</td><td>1</td></tr>\n",
              "\t<tr><th scope=row>B</th><td>0</td><td>1</td><td>0</td><td>1</td></tr>\n",
              "\t<tr><th scope=row>C</th><td>1</td><td>1</td><td>0</td><td>1</td></tr>\n",
              "\t<tr><th scope=row>D</th><td>1</td><td>1</td><td>1</td><td>0</td></tr>\n",
              "\t<tr><th scope=row>E</th><td>0</td><td>1</td><td>1</td><td>0</td></tr>\n",
              "</tbody>\n",
              "</table>\n"
            ],
            "text/markdown": "\nA data.frame: 5 × 4\n\n| <!--/--> | P1 &lt;dbl&gt; | P2 &lt;dbl&gt; | P3 &lt;dbl&gt; | Y &lt;dbl&gt; |\n|---|---|---|---|---|\n| A | 0 | 1 | 0 | 1 |\n| B | 0 | 1 | 0 | 1 |\n| C | 1 | 1 | 0 | 1 |\n| D | 1 | 1 | 1 | 0 |\n| E | 0 | 1 | 1 | 0 |\n\n",
            "text/latex": "A data.frame: 5 × 4\n\\begin{tabular}{r|llll}\n  & P1 & P2 & P3 & Y\\\\\n  & <dbl> & <dbl> & <dbl> & <dbl>\\\\\n\\hline\n\tA & 0 & 1 & 0 & 1\\\\\n\tB & 0 & 1 & 0 & 1\\\\\n\tC & 1 & 1 & 0 & 1\\\\\n\tD & 1 & 1 & 1 & 0\\\\\n\tE & 0 & 1 & 1 & 0\\\\\n\\end{tabular}\n",
            "text/plain": [
              "  P1 P2 P3 Y\n",
              "A 0  1  0  1\n",
              "B 0  1  0  1\n",
              "C 1  1  0  1\n",
              "D 1  1  1  0\n",
              "E 0  1  1  0"
            ]
          },
          "metadata": {}
        }
      ]
    },
    {
      "cell_type": "code",
      "source": [
        "gini <- function(df, param){\n",
        "    # число строк и столбцов (понадобятся для расчёта вероятностей):\n",
        "    n = nrow(df)\n",
        "    m = ncol(df)\n",
        "    # вероятности:\n",
        "    # в знаменатель добавим 1e-30 чтобы не делить на ноль\n",
        "    p1 <- sum(df[,param]) / n\n",
        "    p0 <- 1 - p1\n",
        "    y1_p0 <- sum(df[,m][df[,param] == 0]) / (length(df[,m][df[,param] == 0]) + 1e-30)\n",
        "    y0_p0 <- 1 - y1_p0\n",
        "    y1_p1 <- sum(df[,m][df[,param] == 1]) / (length(df[,m][df[,param] == 1]) + 1e-30)\n",
        "    y0_p1 <- 1 - y1_p1\n",
        "    return (round(p0 * y0_p0 * y1_p0 + p1 * y0_p1 * y1_p1, digits = 2))\n",
        "    }\n",
        "\n",
        "for (param in c('P1', 'P2', 'P3')){\n",
        "    cat(param, gini(df, param), '\\n')\n",
        "    }"
      ],
      "metadata": {
        "colab": {
          "base_uri": "https://localhost:8080/"
        },
        "id": "nAWm7AW1Qbzd",
        "outputId": "3e5dbcad-ac98-4d1d-8cf6-d621247bd7c9"
      },
      "execution_count": null,
      "outputs": [
        {
          "output_type": "stream",
          "name": "stdout",
          "text": [
            "P1 0.23 \n",
            "P2 0.24 \n",
            "P3 0 \n"
          ]
        }
      ]
    }
  ]
}