{
  "nbformat": 4,
  "nbformat_minor": 0,
  "metadata": {
    "colab": {
      "provenance": [],
      "authorship_tag": "ABX9TyMutT8mipUcugsFwA8om4gq"
    },
    "kernelspec": {
      "name": "python3",
      "display_name": "Python 3"
    },
    "language_info": {
      "name": "python"
    }
  },
  "cells": [
    {
      "cell_type": "markdown",
      "source": [
        "https://stepik.org/lesson/83244/step/1\n",
        "\n",
        "Дана таблица, содержащая истинное значение целевого признака Y и предсказанное значение Y'.\n",
        "\n",
        "<img src='https://ucarecdn.com/64a719c3-f4ac-4b51-a28b-1b1707920708/' width=300px>\n",
        "\n",
        "Заполните пропуски\n",
        "\n",
        "Значение MAE равно `___` (ответ в виде десятичной дроби).\n",
        " Значение MAPE равно `___` (количество процентов округлить до целого).\n",
        " %"
      ],
      "metadata": {
        "id": "IrUcMAWhy7lV"
      }
    },
    {
      "cell_type": "code",
      "source": [
        "mae = lambda data: sum(abs(value[0] - value[1]) for key, value in data.items()) / len(data)\n",
        "mape = lambda data: sum(abs(value[0] - value[1]) / abs(value[0]) for key, value in data.items()) * 100 / len(data)\n",
        "\n",
        "data = {'A' : (1, 0),\n",
        "        'B' : (2, 2),\n",
        "        'C' : (3, 2),\n",
        "        'D' : (4, 5),\n",
        "        'E' : (5, 3),\n",
        "        'F' : (-1, -1),\n",
        "        'G' : (-2, -1),\n",
        "        'H' : (-3, -4),\n",
        "        'I' : (-4, -6),\n",
        "        'J' : (-5, -5)\n",
        "        }\n",
        "\n",
        "# копия без нулей:\n",
        "data_nonzero = data.copy()\n",
        "for key, value in data.items():\n",
        "    if value[0] == 0:\n",
        "        data_nonzero.pop(key)\n",
        "\n",
        "print('MAE:', mae(data))\n",
        "print('MAPE:', mape(data_nonzero))"
      ],
      "metadata": {
        "colab": {
          "base_uri": "https://localhost:8080/"
        },
        "id": "z7RzeN1dVsjt",
        "outputId": "89a5459e-57e1-4bed-d654-64d8392a1658"
      },
      "execution_count": null,
      "outputs": [
        {
          "output_type": "execute_result",
          "data": {
            "text/plain": [
              "{'A': (1, 0),\n",
              " 'B': (2, 2),\n",
              " 'C': (3, 2),\n",
              " 'D': (4, 5),\n",
              " 'E': (5, 3),\n",
              " 'F': (-1, -1),\n",
              " 'G': (-2, -1),\n",
              " 'H': (-3, -4),\n",
              " 'I': (-4, -6),\n",
              " 'J': (-5, -5)}"
            ]
          },
          "metadata": {},
          "execution_count": 37
        }
      ]
    },
    {
      "cell_type": "code",
      "source": [
        "def MAE_MAPE(list_1, list_2):\n",
        "\n",
        "    MAE = sum([abs(x - y) for x, y in zip(list_1, list_2)])/len(list_1)\n",
        "\n",
        "    if 0 in list_1: # Если в истинных значениях закрался ноль\n",
        "\n",
        "        zero_indx = [i for i, x in enumerate(list_1) if x == 0]\n",
        "\n",
        "        list_1 = [x for i, x in enumerate(list_1) if i not in zero_indx]\n",
        "\n",
        "        list_2 = [x for i, x in enumerate(list_2) if i not in zero_indx]\n",
        "\n",
        "    MAPE = (sum([abs((x - y)/x) for x, y in zip(list_1, list_2)])/len(list_1)) * 100\n",
        "\n",
        "    return f\"MAE = {MAE}, MAPE = {MAPE}\"\n",
        "\n",
        "print(MAE_MAPE(list(value[0] for key, value in data.items()), list(value[1] for key, value in data.items())))"
      ],
      "metadata": {
        "colab": {
          "base_uri": "https://localhost:8080/"
        },
        "id": "siR-Nt0ZwxUB",
        "outputId": "f7fef19c-0588-48df-c3a7-0f5ff696fd26"
      },
      "execution_count": null,
      "outputs": [
        {
          "output_type": "stream",
          "name": "stdout",
          "text": [
            "MAE = 0.9, MAPE = 33.166666666666664\n"
          ]
        }
      ]
    }
  ]
}