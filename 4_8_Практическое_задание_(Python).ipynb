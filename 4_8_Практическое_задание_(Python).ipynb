{
  "nbformat": 4,
  "nbformat_minor": 0,
  "metadata": {
    "colab": {
      "provenance": [],
      "authorship_tag": "ABX9TyNPgEEXuYKhFgRZWGx7mWZv"
    },
    "kernelspec": {
      "name": "python3",
      "display_name": "Python 3"
    },
    "language_info": {
      "name": "python"
    }
  },
  "cells": [
    {
      "cell_type": "markdown",
      "source": [
        "https://stepik.org/lesson/353555/step/1\n",
        "\n",
        "Дана таблица с объектами\n",
        "\n",
        "<img src='https://ucarecdn.com/04aa53ee-42ea-4050-9155-ac62c68d70c5/' width=500px>\n",
        "\n",
        "Планируется разбить объекты на 2 кластера На первой итерации работы алгоритма k-means были выбраны точки (2,3) и (1,1). После первой итерации алгоритма к кластеру, определяемому первой точкой, будут отнесены объекты (используется метрика Манхэттен)...\n",
        "\n",
        "Выберите все подходящие ответы из списка"
      ],
      "metadata": {
        "id": "IrUcMAWhy7lV"
      }
    },
    {
      "cell_type": "code",
      "source": [
        "manhattan = lambda obj1, obj2: sum(abs(p1 - p2) for p1, p2 in zip(obj1, obj2))\n",
        "\n",
        "data = {'A' : (4, 2),\n",
        "        'B' : (3, 2),\n",
        "        'C' : (1, -1),\n",
        "        'D' : (-1, 1),\n",
        "        'E' : (0, 4)}\n",
        "\n",
        "center_1 = (2, 3)\n",
        "center_2 = (1, 1)\n",
        "cluster_1 = []\n",
        "cluster_2 = []\n",
        "\n",
        "for key, value in data.items():\n",
        "    if manhattan(value, center_1) < manhattan(value, center_2):\n",
        "        cluster_1.append(key)\n",
        "    else:\n",
        "        cluster_2.append(key)\n",
        "\n",
        "print('cluster 1:', cluster_1)\n",
        "print('cluster 2:', cluster_2)"
      ],
      "metadata": {
        "colab": {
          "base_uri": "https://localhost:8080/"
        },
        "id": "z7RzeN1dVsjt",
        "outputId": "738d6cf6-1c17-447a-acaa-cb749815db2d"
      },
      "execution_count": null,
      "outputs": [
        {
          "output_type": "stream",
          "name": "stdout",
          "text": [
            "cluster 1: ['A', 'B', 'E']\n",
            "cluster 2: ['C', 'D']\n"
          ]
        }
      ]
    },
    {
      "cell_type": "code",
      "source": [
        "# Olena Luganska https://stepik.org/lesson/190152/step/1?discussion=8688806&unit=164657\n",
        "def max_manhetten(tup):\n",
        "    return max(abs(tup[0]-centre1[0]), abs(tup[1]-centre1[1]))<max(abs(tup[0]-centre2[0]), abs(tup[1]-centre2[1]))\n",
        "\n",
        "centre1 = 2,3\n",
        "centre2 = 1,1\n",
        "klaster1 = []\n",
        "objects = {'A': (4, 2), 'B': (3, 2), 'C': (1, -1), 'D': (-1, 1), 'E': (0, 4)}\n",
        "for k,v in objects.items():\n",
        "    if max_manhetten(v):\n",
        "        klaster1.append(k)\n",
        "print(klaster1)"
      ],
      "metadata": {
        "colab": {
          "base_uri": "https://localhost:8080/"
        },
        "id": "siR-Nt0ZwxUB",
        "outputId": "4c3e0c91-a1d6-45a1-90f3-da1c6d8d3541"
      },
      "execution_count": null,
      "outputs": [
        {
          "output_type": "stream",
          "name": "stdout",
          "text": [
            "['A', 'B', 'E']\n"
          ]
        }
      ]
    }
  ]
}