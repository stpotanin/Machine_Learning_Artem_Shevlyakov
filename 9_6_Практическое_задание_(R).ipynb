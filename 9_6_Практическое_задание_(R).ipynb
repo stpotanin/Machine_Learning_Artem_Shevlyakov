{
  "nbformat": 4,
  "nbformat_minor": 0,
  "metadata": {
    "colab": {
      "provenance": [],
      "authorship_tag": "ABX9TyPOBIpI90jCOdoayCl+GLrP"
    },
    "kernelspec": {
      "name": "ir",
      "display_name": "R"
    },
    "language_info": {
      "name": "R"
    }
  },
  "cells": [
    {
      "cell_type": "markdown",
      "source": [
        "https://stepik.org/lesson/190157/step/1\n",
        "\n",
        "Для объектов из таблицы с помощью некоторого алгоритма были получены вероятности принадлежности классу `1`. Истинные метки классов объектов также известны.\n",
        "\n",
        "<img src='https://ucarecdn.com/3283823a-c39b-4b98-9982-c319415ded3e/'>\n",
        "\n",
        "**Заполните пропуски**\n",
        "\n",
        "Площадь под ROC-кривой (величина AUC) равна `____`\n",
        " (ответ округлить до двух знаков после запятой)."
      ],
      "metadata": {
        "id": "IrUcMAWhy7lV"
      }
    },
    {
      "cell_type": "code",
      "source": [
        "round(7 / 9, 2)"
      ],
      "metadata": {
        "id": "aJ96hLjH8mZK",
        "outputId": "87ceaaaf-4e4f-4a93-9a9c-e2907ead0628",
        "colab": {
          "base_uri": "https://localhost:8080/",
          "height": 34
        }
      },
      "execution_count": null,
      "outputs": [
        {
          "output_type": "display_data",
          "data": {
            "text/html": [
              "0.78"
            ],
            "text/markdown": "0.78",
            "text/latex": "0.78",
            "text/plain": [
              "[1] 0.78"
            ]
          },
          "metadata": {}
        }
      ]
    }
  ]
}