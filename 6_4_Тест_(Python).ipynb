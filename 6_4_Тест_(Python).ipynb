{
  "nbformat": 4,
  "nbformat_minor": 0,
  "metadata": {
    "colab": {
      "provenance": [],
      "authorship_tag": "ABX9TyPMaPKdp/9Mp+vv67SrYhQP"
    },
    "kernelspec": {
      "name": "python3",
      "display_name": "Python 3"
    },
    "language_info": {
      "name": "python"
    }
  },
  "cells": [
    {
      "cell_type": "markdown",
      "source": [
        "### Задача 1\n",
        "\n",
        "https://stepik.org/lesson/83245/step/1\n",
        "\n",
        "Дана матрица ошибок, построенная по результатам работы некоторого алгоритма классификации.\n",
        "```\n",
        "                        Истинный \tкласс\n",
        "                            0\t    1\n",
        "Предсказанный   0\t        25\t    20\n",
        "класс\t        1\t        10\t    15\n",
        "```\n",
        "Заполните пропуски\n",
        "\n",
        "Общая точность (accuracy) равна ___, precision = ___, recall = ___ (ответы округлить до двух знаков после запятой)."
      ],
      "metadata": {
        "id": "IrUcMAWhy7lV"
      }
    },
    {
      "cell_type": "code",
      "source": [
        "d = [[25, 20],\n",
        "     [10, 15]]\n",
        "\n",
        "TN = d[0][0]\n",
        "FN = d[0][1]\n",
        "FP = d[1][0]\n",
        "TP = d[1][1]\n",
        "\n",
        "accuracy = (TN + TP) / (TN + TP + FN + FP)\n",
        "print('accuracy =', round(accuracy, 2))\n",
        "\n",
        "precision = TP / (TP + FP)\n",
        "print('precision =', round(precision, 2))\n",
        "\n",
        "recall = TP / (TP + FN)\n",
        "print('recall =', round(recall, 2))"
      ],
      "metadata": {
        "colab": {
          "base_uri": "https://localhost:8080/"
        },
        "id": "z7RzeN1dVsjt",
        "outputId": "59a8f5e0-1ae4-4503-c0f4-0fd36114d7f2"
      },
      "execution_count": null,
      "outputs": [
        {
          "output_type": "stream",
          "name": "stdout",
          "text": [
            "accuracy = 0.57\n",
            "precision = 0.6\n",
            "recall = 0.43\n"
          ]
        }
      ]
    },
    {
      "cell_type": "markdown",
      "source": [
        "### Задача 2\n",
        "\n",
        "https://stepik.org/lesson/83245/step/2\n",
        "\n",
        "Один очень тупой классификатор С относит все объекты к классу 1. Допустим,что выборка состоит из 50 объектов: 20 из них действительно принадлежат классу 0, а 30 из них действительно принадлежат классу 1.\n",
        "\n",
        "Заполните пропуски\n",
        "\n",
        "Общая точность (accuracy) равна ___, precision = ___, recall = ___ (ответы округлить до двух знаков после запятой)."
      ],
      "metadata": {
        "id": "yme0wioqKZYI"
      }
    },
    {
      "cell_type": "code",
      "source": [
        "d = [[50, 7],\n",
        "     [7, 5]]\n",
        "\n",
        "TN = d[0][0]\n",
        "FN = d[0][1]\n",
        "FP = d[1][0]\n",
        "TP = d[1][1]\n",
        "\n",
        "accuracy = (TN + TP) / (TN + TP + FN + FP)\n",
        "print('accuracy =', round(accuracy, 2))\n",
        "\n",
        "precision = TP / (TP + FP)\n",
        "print('precision =', round(precision, 2))\n",
        "\n",
        "recall = TP / (TP + FN)\n",
        "print('recall =', round(recall, 2))"
      ],
      "metadata": {
        "colab": {
          "base_uri": "https://localhost:8080/"
        },
        "id": "_V-5Al90Kt47",
        "outputId": "cdfc503d-4a65-4e29-881c-68524312f15f"
      },
      "execution_count": null,
      "outputs": [
        {
          "output_type": "stream",
          "name": "stdout",
          "text": [
            "accuracy = 0.8\n",
            "precision = 0.42\n",
            "recall = 0.42\n"
          ]
        }
      ]
    },
    {
      "cell_type": "markdown",
      "source": [
        "### Задача 6\n",
        "\n",
        "https://stepik.org/lesson/83245/step/6\n",
        "\n",
        "Заполните пропуски\n",
        "\n",
        "По тренировочной выборке из 70 элементов был построен некоторый классификатор. Мы взяли и проверили его качество на тестовой выборке, состоящей из 30 элементов. Сумма чисел TP+FP+FN+TN из матрицы ошибок равна `___`"
      ],
      "metadata": {
        "id": "tlun123NM6-t"
      }
    },
    {
      "cell_type": "code",
      "source": [
        "d = [[15, 0],\n",
        "     [0, 15]]"
      ],
      "metadata": {
        "id": "31oC7CYyNLZb"
      },
      "execution_count": null,
      "outputs": []
    }
  ]
}