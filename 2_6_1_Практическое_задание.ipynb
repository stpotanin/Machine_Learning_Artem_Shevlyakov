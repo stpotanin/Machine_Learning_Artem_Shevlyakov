{
  "nbformat": 4,
  "nbformat_minor": 0,
  "metadata": {
    "colab": {
      "provenance": [],
      "authorship_tag": "ABX9TyOyvFv79C1T5nCfzSpJ2T9b"
    },
    "kernelspec": {
      "name": "python3",
      "display_name": "Python 3"
    },
    "language_info": {
      "name": "python"
    }
  },
  "cells": [
    {
      "cell_type": "markdown",
      "source": [
        "https://stepik.org/lesson/190150/step/1\n",
        "\n",
        "Таблица содержит сведения о заказах анонимных пользователей в интернет-магазине.\n",
        "\n",
        "<img src='https://ucarecdn.com/75bfc201-563e-476a-9d06-7c89951a70d4/' width=500px>\n",
        "\n",
        "Заполните пропуски\n",
        "\n",
        "По строкам отложены наименования товаров, а столбцы — номера заказов (в ячейке стоит `1`, если товар входит в соответствующий заказ; `0` — в противном случае). При построении рекомендательной системы необходимо оценить степень похожести товаров с помощью вычисления евклидовой метрики. Наиболее похожим (близким) на товар `А` будет товар `С` и расстояние между этими товарами равно\n",
        " (ответ округлить до сотых)."
      ],
      "metadata": {
        "id": "IrUcMAWhy7lV"
      }
    },
    {
      "cell_type": "code",
      "execution_count": null,
      "metadata": {
        "colab": {
          "base_uri": "https://localhost:8080/"
        },
        "id": "lbjXRPUJyzrH",
        "outputId": "84b766d2-71a2-40bc-f42a-8c85ebc8517e"
      },
      "outputs": [
        {
          "output_type": "execute_result",
          "data": {
            "text/plain": [
              "0    0\n",
              "1   -1\n",
              "2    1\n",
              "3   -1\n",
              "4    0\n",
              "5    0\n",
              "dtype: int64"
            ]
          },
          "metadata": {},
          "execution_count": 13
        }
      ],
      "source": [
        "import pandas as pd\n",
        "import numpy as np\n",
        "\n",
        "dict_metrics = {'A':[1, 0, 1, 0, 1, 0], 'C':[1, 1, 0, 1, 1, 0]}\n",
        "df = pd.DataFrame(dict_metrics).T\n",
        "\n",
        "for i in ['A', 'C']:\n",
        "    dict_metrics[i].append(np.power((df.loc['A']-df.loc['C']).pow(2).sum(), 0.5).round(2)) # считаем Евклидово расстояние\n",
        "    dict_metrics[i].append((df.loc['A']-df.loc['C']).abs().sum()) # считаем Манхэттеновское расстояние\n",
        "    dict_metrics[i].append((df.loc['A']-df.loc['C']).abs().max()) # считаем max-метрику\n",
        "\n",
        "print('dict_metrics: ',   dict_metrics)\n",
        "\n",
        "metrics = pd.DataFrame(dict_metrics, index=['Euclid', 'Manhatten', 'Max'])\n",
        "\n",
        "print('metrics: ', metrics)\n"
      ]
    },
    {
      "cell_type": "code",
      "source": [
        "A = [1, 0, 1, 0, 1, 0]\n",
        "C = [1, 1, 0, 1, 1, 0]\n",
        "D = [1, 1, 0, 1, 1, 1]\n",
        "Euclid = 0\n",
        "for x, y in zip(A, C):\n",
        "    Euclid += (x - y)**2\n",
        "Euclid = Euclid**.5\n",
        "print(Euclid)"
      ],
      "metadata": {
        "colab": {
          "base_uri": "https://localhost:8080/"
        },
        "id": "wJBm21MVQUG5",
        "outputId": "6bc28f45-c41f-4af8-cbe0-3399f09224a5"
      },
      "execution_count": null,
      "outputs": [
        {
          "output_type": "stream",
          "name": "stdout",
          "text": [
            "1.7320508075688772\n"
          ]
        }
      ]
    }
  ]
}