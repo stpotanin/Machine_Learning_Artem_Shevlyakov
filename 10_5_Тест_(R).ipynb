{
  "nbformat": 4,
  "nbformat_minor": 0,
  "metadata": {
    "colab": {
      "provenance": []
    },
    "kernelspec": {
      "name": "ir",
      "display_name": "R"
    },
    "language_info": {
      "name": "R"
    }
  },
  "cells": [
    {
      "cell_type": "markdown",
      "source": [
        "https://stepik.org/lesson/190158/step/1\n",
        "\n",
        "Комитет состоит из трех классификаторов. Окончательное решение принимается по большинству голосов. Классификаторы имеют точность `0,8` `0,9` `0,9` соответственно. Кроме того, второй и третий классификаторы полностью идентичны (то есть их ответы для любого классифицируемого объекта совпадают).\n",
        "\n",
        "**Заполните пропуски**\n",
        "\n",
        "Точность ансамбля алгоритмов равна `____`\n",
        "\n"
      ],
      "metadata": {
        "id": "IrUcMAWhy7lV"
      }
    },
    {
      "cell_type": "code",
      "source": [
        "0.2*0.9+0.8*0.9"
      ],
      "metadata": {
        "colab": {
          "base_uri": "https://localhost:8080/",
          "height": 34
        },
        "id": "NmmFvG5QSjTL",
        "outputId": "9d389371-6cfc-403d-e6f9-929de2c94c43"
      },
      "execution_count": null,
      "outputs": [
        {
          "output_type": "display_data",
          "data": {
            "text/html": [
              "0.9"
            ],
            "text/markdown": "0.9",
            "text/latex": "0.9",
            "text/plain": [
              "[1] 0.9"
            ]
          },
          "metadata": {}
        }
      ]
    }
  ]
}