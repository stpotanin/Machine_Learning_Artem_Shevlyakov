{
  "nbformat": 4,
  "nbformat_minor": 0,
  "metadata": {
    "colab": {
      "provenance": [],
      "authorship_tag": "ABX9TyOOkieHORWD3pZEiSsLY3i4"
    },
    "kernelspec": {
      "name": "python3",
      "display_name": "Python 3"
    },
    "language_info": {
      "name": "python"
    }
  },
  "cells": [
    {
      "cell_type": "markdown",
      "source": [
        "https://stepik.org/lesson/190151/step/1\n",
        "\n",
        "Дана таблица с объектами\n",
        "```\n",
        "Объект Р1    Р2    Р3\n",
        "A       1     1     0\n",
        "B       0     2    -1\n",
        "C       2     3     1\n",
        "D       1     0     4\n",
        "```\n",
        "Заполните пропуски\n",
        "\n",
        "В данной задаче выбросы будем искать по следующему правилу: «Выбросом будет считаться объект, у которого суммарное расстояние от него до остальных объектов выборки наибольшее». Таким образом, в указанной таблице выбросом будет (написать имя объекта в виде заглавной латинской буквы):`    `\n",
        " (при вычислении использовать метрику Манхэттен, нормализацию не проводить), сумма расстояний от него до остальных объектов будет равна`    `."
      ],
      "metadata": {
        "id": "IrUcMAWhy7lV"
      }
    },
    {
      "cell_type": "code",
      "source": [
        "manhattan = lambda obj1, obj2: sum(abs(p1 - p2) for p1, p2 in zip(obj1, obj2))\n",
        "\n",
        "data = {'A' : (1, 1, 0),\n",
        "        'B' : (0, 2, -1),\n",
        "        'C' : (2, 3, 1),\n",
        "        'D' : (1, 0, 4)}\n",
        "\n",
        "max_point = [\"Noname\", 0]\n",
        "for d1 in data:\n",
        "    s = 0\n",
        "    for d2 in data:\n",
        "        s += manhattan(data[d1], data[d2])\n",
        "    if max_point[1] < s:\n",
        "        max_point = [d1, s]\n",
        "    print('Сумма расстояний от', d1, 'до', 'соседей', '=', s)\n",
        "\n",
        "print('\\nВыбросом будет объект', max_point[0], 'с суммой расстояний', max_point[1])"
      ],
      "metadata": {
        "colab": {
          "base_uri": "https://localhost:8080/"
        },
        "id": "z7RzeN1dVsjt",
        "outputId": "208f8f3e-793c-4b29-f251-0870a736b6f8"
      },
      "execution_count": null,
      "outputs": [
        {
          "output_type": "stream",
          "name": "stdout",
          "text": [
            "Сумма расстояний от A до соседей = 12\n",
            "Сумма расстояний от B до соседей = 16\n",
            "Сумма расстояний от C до соседей = 16\n",
            "Сумма расстояний от D до соседей = 20\n",
            "\n",
            "Выбросом будет объект D с суммой расстояний 20\n"
          ]
        }
      ]
    },
    {
      "cell_type": "code",
      "source": [
        "# Roman Santalov\n",
        "def manhet(list1, list2, list3, list4):\n",
        "    s = 0\n",
        "    for a, b, c, d in zip(list1, list2, list3, list4):\n",
        "        s += abs(a - b) + abs(a - c) + abs(a - d)\n",
        "    return s\n",
        "\n",
        "a = [1, 1, 0]\n",
        "b = [0, 2, -1]\n",
        "c = [2, 3, 1]\n",
        "d = [1, 0, 4]\n",
        "\n",
        "print('a:', manhet(a, b, c, d))\n",
        "print('b:', manhet(b, c, d, a))\n",
        "print('c:', manhet(c, b, a, d))\n",
        "print('d:', manhet(d, b, c, a))"
      ],
      "metadata": {
        "colab": {
          "base_uri": "https://localhost:8080/"
        },
        "id": "siR-Nt0ZwxUB",
        "outputId": "3828121d-70cd-4525-9ce5-bb3982f403d2"
      },
      "execution_count": null,
      "outputs": [
        {
          "output_type": "stream",
          "name": "stdout",
          "text": [
            "a: 12\n",
            "b: 16\n",
            "c: 16\n",
            "d: 20\n"
          ]
        }
      ]
    }
  ]
}