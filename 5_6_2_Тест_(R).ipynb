{
  "nbformat": 4,
  "nbformat_minor": 0,
  "metadata": {
    "colab": {
      "provenance": [],
      "authorship_tag": "ABX9TyPRI2bL/cqA10m4I0iQu3Lu"
    },
    "kernelspec": {
      "name": "ir",
      "display_name": "R"
    },
    "language_info": {
      "name": "R"
    }
  },
  "cells": [
    {
      "cell_type": "markdown",
      "source": [
        "https://stepik.org/lesson/83244/step/2\n",
        "\n",
        "Объекты в следующей таблице имеют один нецелевой признак Х.\n",
        "\n",
        "<img src='https://ucarecdn.com/01041b84-796b-4e29-823e-746ead9faac2/' width=200px>\n",
        "\n",
        "Построим модель линейно регрессии для предсказания признака Y.\n",
        "\n",
        "Полученная модель будет иметь вид: Y= `___` X + `___` (найденные значения округлить до одного знака после запятой).\n",
        "\n",
        "\\begin{aligned}\n",
        "\\hat{a}&=\\frac{\\sum_i y_i}{N}-\\hat{b}\\frac{\\sum_i x_i}{N},\\\\ \\hat{b}&=\\frac{\\frac{\\sum_i x_i y_i}{N}-\\frac{\\sum_i x_i\\sum_i y_i}{N^2}}{\\frac{\\sum_i x_i^2}{N}-\\left(\\frac{\\sum_i x_i^2}{N}\\right)^2}.\n",
        "\\end{aligned}"
      ],
      "metadata": {
        "id": "IrUcMAWhy7lV"
      }
    },
    {
      "cell_type": "code",
      "source": [
        "df <- rbind('A' = c(0, 0),\n",
        "            'B' = c(1, 1),\n",
        "            'C' = c(2, 0),\n",
        "            'D' = c(3, 3)\n",
        "            )\n",
        "\n",
        "df <- data.frame(df)\n",
        "df\n",
        "lm(X2 ~ X1, data=df)"
      ],
      "metadata": {
        "colab": {
          "base_uri": "https://localhost:8080/",
          "height": 345
        },
        "id": "z7RzeN1dVsjt",
        "outputId": "3e03e85b-662e-4694-9bf0-c3635d2f9f3a"
      },
      "execution_count": null,
      "outputs": [
        {
          "output_type": "display_data",
          "data": {
            "text/html": [
              "<table class=\"dataframe\">\n",
              "<caption>A data.frame: 4 × 2</caption>\n",
              "<thead>\n",
              "\t<tr><th></th><th scope=col>X1</th><th scope=col>X2</th></tr>\n",
              "\t<tr><th></th><th scope=col>&lt;dbl&gt;</th><th scope=col>&lt;dbl&gt;</th></tr>\n",
              "</thead>\n",
              "<tbody>\n",
              "\t<tr><th scope=row>A</th><td>0</td><td>0</td></tr>\n",
              "\t<tr><th scope=row>B</th><td>1</td><td>1</td></tr>\n",
              "\t<tr><th scope=row>C</th><td>2</td><td>0</td></tr>\n",
              "\t<tr><th scope=row>D</th><td>3</td><td>3</td></tr>\n",
              "</tbody>\n",
              "</table>\n"
            ],
            "text/markdown": "\nA data.frame: 4 × 2\n\n| <!--/--> | X1 &lt;dbl&gt; | X2 &lt;dbl&gt; |\n|---|---|---|\n| A | 0 | 0 |\n| B | 1 | 1 |\n| C | 2 | 0 |\n| D | 3 | 3 |\n\n",
            "text/latex": "A data.frame: 4 × 2\n\\begin{tabular}{r|ll}\n  & X1 & X2\\\\\n  & <dbl> & <dbl>\\\\\n\\hline\n\tA & 0 & 0\\\\\n\tB & 1 & 1\\\\\n\tC & 2 & 0\\\\\n\tD & 3 & 3\\\\\n\\end{tabular}\n",
            "text/plain": [
              "  X1 X2\n",
              "A 0  0 \n",
              "B 1  1 \n",
              "C 2  0 \n",
              "D 3  3 "
            ]
          },
          "metadata": {}
        },
        {
          "output_type": "display_data",
          "data": {
            "text/plain": [
              "\n",
              "Call:\n",
              "lm(formula = X2 ~ X1, data = df)\n",
              "\n",
              "Coefficients:\n",
              "(Intercept)           X1  \n",
              "       -0.2          0.8  \n"
            ]
          },
          "metadata": {}
        }
      ]
    }
  ]
}